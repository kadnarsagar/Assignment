{
  "nbformat": 4,
  "nbformat_minor": 0,
  "metadata": {
    "colab": {
      "provenance": []
    },
    "kernelspec": {
      "name": "python3",
      "display_name": "Python 3"
    },
    "language_info": {
      "name": "python"
    }
  },
  "cells": [
    {
      "cell_type": "markdown",
      "source": [
        "# **Python OOPs Questions**"
      ],
      "metadata": {
        "id": "ie7SbPwdNaCy"
      }
    },
    {
      "cell_type": "markdown",
      "source": [
        "1. What is Object-Oriented Programming (OOP)?"
      ],
      "metadata": {
        "id": "7__8mRBYNhK4"
      }
    },
    {
      "cell_type": "markdown",
      "source": [
        "->>\n",
        "\n",
        "Object-Oriented Programming is a programming paradigm based on the concept of objects, which can contain data called attributes or properties and methods functions that operate on the data.\n"
      ],
      "metadata": {
        "id": "oiZeLuURmxy1"
      }
    },
    {
      "cell_type": "markdown",
      "source": [
        "2. What is a class in OOP?"
      ],
      "metadata": {
        "id": "nEfVAXZ7N1iJ"
      }
    },
    {
      "cell_type": "markdown",
      "source": [
        "->>\n",
        "\n",
        "*  A class describes what an object will be, but it is not the object itself.\n",
        "*  You can create multiple instances (objects) from a single class, and each object can have its own data.\n",
        "*  Classes promote code reuse and modularity.\n"
      ],
      "metadata": {
        "id": "FabeNtrOnkXq"
      }
    },
    {
      "cell_type": "markdown",
      "source": [
        "3. What is an object in OOP?"
      ],
      "metadata": {
        "id": "BXCdxYFSN_x4"
      }
    },
    {
      "cell_type": "markdown",
      "source": [
        "->>\n",
        "\n",
        "* Objects are created from classes.\n",
        "\n",
        "* Each object has its own unique values for the attributes defined in the class.\n",
        "\n",
        "* Objects can call the methods of their class to perform actions or modify their data."
      ],
      "metadata": {
        "id": "Mbje9f0Rn7wa"
      }
    },
    {
      "cell_type": "markdown",
      "source": [
        "4. What is the difference between abstraction and encapsulation?"
      ],
      "metadata": {
        "id": "PMrosBMpOFgw"
      }
    },
    {
      "cell_type": "markdown",
      "source": [
        "->>\n",
        "\n",
        "Abstraction\n",
        "* focus on hiding implementation details.\n",
        "* purpose to simplify interface.\n",
        "* achieved by abstract classes, interfaces.\n",
        "\n",
        "Encapsulation\n",
        "* focus on hiding data and enforcing access control.\n",
        "* purpose to protect internal state.\n",
        "* achieved by access modifiers, getter/setter methods.\n"
      ],
      "metadata": {
        "id": "VdUoZHo8oV4T"
      }
    },
    {
      "cell_type": "markdown",
      "source": [
        "5. What are dunder methods in Python?"
      ],
      "metadata": {
        "id": "HTvPRHszOMYB"
      }
    },
    {
      "cell_type": "markdown",
      "source": [
        "->>\n",
        "\n",
        "Dunder methods / Magic methods / Special methods (short for \"double underscore\" methods) in Python are special methods with names that begin and end with double underscores, like\n",
        "* __init__\n",
        "* __str__\n",
        "* __add__\n",
        "* __len__\n",
        "etc."
      ],
      "metadata": {
        "id": "5tSWUc6Kptcz"
      }
    },
    {
      "cell_type": "markdown",
      "source": [
        "6. Explain the concept of inheritance in OOP."
      ],
      "metadata": {
        "id": "LAyIBiv4OTV5"
      }
    },
    {
      "cell_type": "markdown",
      "source": [
        "->>\n",
        "\n",
        "Inheritance in Object-Oriented Programming (OOP) is a mechanism that allows one class (child/subclass) to acquire the properties and behaviors (methods and attributes) of another class (parent/superclass).\n",
        "\n",
        "* Single Inheritance – One child, one parent.\n",
        "* Multiple Inheritance – Child inherits from more than one parent.\n",
        "* Multilevel Inheritance – Inheritance through multiple levels (A → B → C).\n",
        "* Hierarchical Inheritance – One parent, multiple children.\n",
        "* Hybrid Inheritance – A combination of two or more types above."
      ],
      "metadata": {
        "id": "jKn9Ky1mqqxE"
      }
    },
    {
      "cell_type": "markdown",
      "source": [
        "7. What is polymorphism in OOP?"
      ],
      "metadata": {
        "id": "jrokfw5xOZGY"
      }
    },
    {
      "cell_type": "markdown",
      "source": [
        "->>\n",
        "\n",
        "Polymorphism in Object-Oriented Programming is the ability of different objects to respond to the same method call in different ways. It allows a single interface (method or function) to be used with objects of different types or classes."
      ],
      "metadata": {
        "id": "zy8061QnrMWG"
      }
    },
    {
      "cell_type": "markdown",
      "source": [
        "8. How is encapsulation achieved in Python?"
      ],
      "metadata": {
        "id": "KbjHylSJOc7p"
      }
    },
    {
      "cell_type": "markdown",
      "source": [
        "->>\n",
        "\n",
        "Encapsulation in Python is achieved by restricting access to internal attributes and methods of a class and exposing only what is necessary through a public interface."
      ],
      "metadata": {
        "id": "wIsKbhC4rQak"
      }
    },
    {
      "cell_type": "markdown",
      "source": [
        "9. What is a constructor in Python?"
      ],
      "metadata": {
        "id": "0LM07Oe8Ogxh"
      }
    },
    {
      "cell_type": "markdown",
      "source": [
        "->>\n",
        "\n",
        "A constructor in Python is a special method used to initialize a newly created object from a class. It’s called automatically when a new object is created."
      ],
      "metadata": {
        "id": "G0FVPSq5rmst"
      }
    },
    {
      "cell_type": "markdown",
      "source": [
        "10. What are class and static methods in Python?"
      ],
      "metadata": {
        "id": "FEyJNHHlOkFI"
      }
    },
    {
      "cell_type": "markdown",
      "source": [
        "->>\n",
        "\n",
        "Class Methods\n",
        "* Bound to the class, not the instance.\n",
        "* Receive the class (cls) as the first argument.\n",
        "* Can access and modify class state (but not instance state).\n",
        "* Declared with the @classmethod decorator.\n",
        "\n",
        "Static Methods\n",
        "* Bound to the class, but don’t take self or cls as a first argument.\n",
        "* Can’t access or modify class or instance state.\n",
        "* Used when some logic is related to the class but doesn't need access to its data.\n",
        "* Declared with the @staticmethod decorator."
      ],
      "metadata": {
        "id": "i8-CcUD7rr6c"
      }
    },
    {
      "cell_type": "markdown",
      "source": [
        "11. What is method overloading in Python?"
      ],
      "metadata": {
        "id": "KOOS9vJFOodA"
      }
    },
    {
      "cell_type": "markdown",
      "source": [
        "->>\n",
        "\n",
        "In Python, method overloading refers to the ability to define multiple methods with the same name but different parameters."
      ],
      "metadata": {
        "id": "_EuEX80VVG8D"
      }
    },
    {
      "cell_type": "markdown",
      "source": [
        "12. What is method overriding in OOP?"
      ],
      "metadata": {
        "id": "QqIWX6daOryI"
      }
    },
    {
      "cell_type": "markdown",
      "source": [
        "->>\n",
        "\n",
        "Method Overriding in object-oriented programming (OOP) refers to the ability of a subclass (child class) to provide a specific implementation of a method that is already defined in its superclass (parent class). When the method in the child class has the same name, parameters, and return type as the method in the parent class, the method in the child class overrides the one in the parent class."
      ],
      "metadata": {
        "id": "e5yF2CAWVTt7"
      }
    },
    {
      "cell_type": "markdown",
      "source": [
        "13. What is a property decorator in Python?"
      ],
      "metadata": {
        "id": "32RdQ0aTOvO5"
      }
    },
    {
      "cell_type": "markdown",
      "source": [
        "->>\n",
        "\n",
        "In Python, the property decorator is used to turn a method into a getter for an attribute, allowing you to access the method like an attribute without explicitly calling it as a function. It is often used to create read-only properties, or to define custom logic when accessing or modifying an attribute.\n",
        "\n",
        "Using the @property decorator provides a more Pythonic way to manage attributes, especially when you want to enforce encapsulation or validation while keeping the interface simple and clean."
      ],
      "metadata": {
        "id": "6j_LdfYIVnAr"
      }
    },
    {
      "cell_type": "markdown",
      "source": [
        "14.  Why is polymorphism important in OOP?"
      ],
      "metadata": {
        "id": "t36cZ6gxOzcY"
      }
    },
    {
      "cell_type": "markdown",
      "source": [
        "\n",
        "\n",
        "* Code Reusability and Flexibility\n",
        "* Improved Maintainability\n",
        "* Extensibility\n",
        "* Supports Runtime Polymorphism\n",
        "* Design Patterns and Principles"
      ],
      "metadata": {
        "id": "f7JCTwUdV3zM"
      }
    },
    {
      "cell_type": "markdown",
      "source": [
        "15. What is an abstract class in Python?"
      ],
      "metadata": {
        "id": "wZNp-1yYO4oY"
      }
    },
    {
      "cell_type": "markdown",
      "source": [
        "->>\n",
        "\n",
        "An abstract class in Python is a class that cannot be instantiated on its own and is meant to be subclassed by other classes. It serves as a blueprint for other classes and often contains abstract methods—methods that are declared but do not have an implementation in the abstract class. The concrete (non-abstract) subclasses must implement these abstract methods to be instantiated.\n",
        "\n",
        "Python’s abc (Abstract Base Class) module is used to define abstract classes and abstract methods.\n",
        "* ABC: The base class from the abc module. Your class should inherit from ABC to become an abstract class.\n",
        "* @abstractmethod: A decorator used to mark methods as abstract."
      ],
      "metadata": {
        "id": "xb94aY2KWT8T"
      }
    },
    {
      "cell_type": "markdown",
      "source": [
        "16. What are the advantages of OOP?"
      ],
      "metadata": {
        "id": "M_xECQBLO8JY"
      }
    },
    {
      "cell_type": "markdown",
      "source": [
        "->>\n",
        "\n",
        "* Modularity\n",
        "* Code Reusability and Extensibility\n",
        "* Maintainability\n",
        "* Flexibility through Polymorphism\n",
        "* Abstraction\n",
        "* Scalability\n",
        "* Real-World Modeling\n",
        "* Improved Security\n",
        "* Better Organization of Code\n",
        "\n"
      ],
      "metadata": {
        "id": "SzLYXtxUWih0"
      }
    },
    {
      "cell_type": "markdown",
      "source": [
        "17. What is the difference between a class variable and an instance variable?"
      ],
      "metadata": {
        "id": "All-NSY9O_qg"
      }
    },
    {
      "cell_type": "markdown",
      "source": [
        "->>\n",
        "\n",
        "Class Variable\n",
        "* Shared among all instances of the class.\n",
        "* Belongs to the class itself.\n",
        "* Accessed via the class name or an instance.\n",
        "* Modifying the class variable affects all instances.\n",
        "* Used for attributes that are shared across all instances (e.g., constants, common properties).\n",
        "\n",
        "Instance Variable\n",
        "* Specific to each instance (object) of the class.\n",
        "* Belongs to an individual instance of the class.\n",
        "* Accessed via an instance (object).\n",
        "* Modifying the instance variable affects only the specific instance.\n",
        "* Used for attributes that are unique to each instance (e.g., specific object properties)."
      ],
      "metadata": {
        "id": "qA55rGjMXKXE"
      }
    },
    {
      "cell_type": "markdown",
      "source": [
        "18. What is multiple inheritance in Python?"
      ],
      "metadata": {
        "id": "7DWdQJaTPDbJ"
      }
    },
    {
      "cell_type": "markdown",
      "source": [
        "->>\n",
        "\n",
        "Multiple inheritance in Python refers to the capability of a class to inherit from more than one parent class. In other words, a single class can inherit attributes and methods from multiple base classes, allowing for more flexible and reusable code."
      ],
      "metadata": {
        "id": "K6dabjWVX8Jk"
      }
    },
    {
      "cell_type": "markdown",
      "source": [
        "19. Explain the purpose of ‘’__str__’ and ‘__repr__’ ‘ methods in Python."
      ],
      "metadata": {
        "id": "HMKlRVC_PHwI"
      }
    },
    {
      "cell_type": "markdown",
      "source": [
        "->>\n",
        "\n",
        "__str__ Method\n",
        "\n",
        " __str__ method is used to define a human-readable or informal string representation of an object. It is meant to provide a string that is easy to understand for users or people who are interacting with the object.\n",
        "\n",
        " _repr__ Method\n",
        "\n",
        " The __repr__ method is used to define a formal or developer-friendly string representation of an object. It is intended to give a string that could ideally be used to recreate the object (or at least provide a clear description for debugging)."
      ],
      "metadata": {
        "id": "OH6jK40OYHG8"
      }
    },
    {
      "cell_type": "markdown",
      "source": [
        "20. What is the significance of the ‘super()’ function in Python?"
      ],
      "metadata": {
        "id": "DW3ko3fgPMGA"
      }
    },
    {
      "cell_type": "markdown",
      "source": [
        "->>\n",
        "\n",
        "* Access Parent Class Methods.\n",
        "* Avoid Direct Reference to the Parent Class.\n",
        "* Simplifies Method Resolution in Multiple Inheritance.\n",
        "* Improves Code Maintainability."
      ],
      "metadata": {
        "id": "4fVl1vWVYoAE"
      }
    },
    {
      "cell_type": "markdown",
      "source": [
        "21. What is the significance of the __del__ method in Python?"
      ],
      "metadata": {
        "id": "P2KUhpzuPSsw"
      }
    },
    {
      "cell_type": "markdown",
      "source": [
        "->>\n",
        "\n",
        "* Resource Cleanup.\n",
        "* Object Destruction.\n",
        "* Control Over Object Finalization."
      ],
      "metadata": {
        "id": "08paatjSY6JV"
      }
    },
    {
      "cell_type": "markdown",
      "source": [
        "22. What is the difference between @staticmethod and @classmethod in Python?"
      ],
      "metadata": {
        "id": "sY1zeOgpPWTy"
      }
    },
    {
      "cell_type": "markdown",
      "source": [
        "->>\n",
        "\n",
        "\t@staticmethod\n",
        "\n",
        "  * None (self or cls are not used)\n",
        "  * No access to instance or class variables\n",
        "  * Used for utility functions not related to instance or class state\n",
        "  * Bound to the class, but does not modify or interact with the class or instance\n",
        "  * Utility functions, e.g., mathematical operations\n",
        "\n",
        "  @classmethod\n",
        "\n",
        "  * cls (refers to the class, not the instance)\n",
        "  * Access to class variables via cls\n",
        "  * Used when you need to modify or interact with the class state (not instance-specific)\n",
        "  * Bound to the class, and can modify the class-level data\n",
        "  * Factory methods, modifying class variables"
      ],
      "metadata": {
        "id": "bWxj8TqIZWYt"
      }
    },
    {
      "cell_type": "markdown",
      "source": [
        "23. How does polymorphism work in Python with inheritance?"
      ],
      "metadata": {
        "id": "u1d0_-Q3PWpY"
      }
    },
    {
      "cell_type": "markdown",
      "source": [
        "->>\n",
        "\n",
        "* Parent Class Method: The parent class defines a method that may be inherited by child classes.\n",
        "* Child Class Override: The child class can override the method to provide its own implementation. This is known as method overriding.\n",
        "* Dynamic Method Dispatch: At runtime, when a method is called on an object, Python checks the class of the object and calls the appropriate method for that class, even if the method was inherited from a parent class. This is what we call dynamic dispatch.\n",
        "\n"
      ],
      "metadata": {
        "id": "yA3xstvWZ8mV"
      }
    },
    {
      "cell_type": "markdown",
      "source": [
        "24. What is method chaining in Python OOP?"
      ],
      "metadata": {
        "id": "R1Gf53XcPW_B"
      }
    },
    {
      "cell_type": "markdown",
      "source": [
        "->>\n",
        "\n",
        "Method chaining in Python (or in Object-Oriented Programming in general) is a programming technique where multiple methods are called on the same object in a single line of code. Each method call returns the object itself (or another object that allows further method calls), enabling you to \"chain\" method calls together."
      ],
      "metadata": {
        "id": "FWlhYMawapVF"
      }
    },
    {
      "cell_type": "markdown",
      "source": [
        "25. What is the purpose of the __call__ method in Python?"
      ],
      "metadata": {
        "id": "KOpBnYayPmEY"
      }
    },
    {
      "cell_type": "markdown",
      "source": [
        "->>\n",
        "\n",
        "The primary purpose of the __call__ method is to give instances of a class function-like behavior. When you define the __call__ method in a class, you can use instances of that class in the same way you'd use a function, i.e., by calling them with parentheses ().\n",
        "\n",
        "The __call__ method is automatically invoked when the object is called.\n",
        "\n",
        "You can define the __call__ method in a class, and whenever an instance of that class is called, it will execute the logic inside __call__."
      ],
      "metadata": {
        "id": "Tzh343HRas2-"
      }
    },
    {
      "cell_type": "markdown",
      "source": [
        "# **Practical Questions**"
      ],
      "metadata": {
        "id": "sXuos54vPvKg"
      }
    },
    {
      "cell_type": "markdown",
      "source": [
        "1.  Create a parent class Animal with a method speak() that prints a generic message. Create a child class Dog\n",
        "that overrides the speak() method to print \"Bark!\"."
      ],
      "metadata": {
        "id": "cNgG1XTWP2mg"
      }
    },
    {
      "cell_type": "code",
      "source": [
        "class Animal:\n",
        "  def speak(self):\n",
        "    print(\"The animal make a sound\")\n",
        "\n",
        "class Dog(Animal):\n",
        "  def speak(self):\n",
        "    print(\"Bark\")"
      ],
      "metadata": {
        "id": "6caOtnn5RqCZ"
      },
      "execution_count": null,
      "outputs": []
    },
    {
      "cell_type": "code",
      "source": [
        "a = Animal()\n",
        "a.speak()"
      ],
      "metadata": {
        "colab": {
          "base_uri": "https://localhost:8080/"
        },
        "id": "2K9mHLyQS3-I",
        "outputId": "665be65a-7997-43e7-b3ae-d77734165dbf"
      },
      "execution_count": null,
      "outputs": [
        {
          "output_type": "stream",
          "name": "stdout",
          "text": [
            "The animal make a sound\n"
          ]
        }
      ]
    },
    {
      "cell_type": "code",
      "source": [
        "d = Dog()\n",
        "d.speak()"
      ],
      "metadata": {
        "colab": {
          "base_uri": "https://localhost:8080/"
        },
        "id": "iQrwA5y6TBJJ",
        "outputId": "d6346b6c-c985-475a-99c6-d579de3271a0"
      },
      "execution_count": null,
      "outputs": [
        {
          "output_type": "stream",
          "name": "stdout",
          "text": [
            "Bark\n"
          ]
        }
      ]
    },
    {
      "cell_type": "markdown",
      "source": [
        "2. Write a program to create an abstract class Shape with a method area(). Derive classes Circle and Rectangle\n",
        "from it and implement the area() method in both."
      ],
      "metadata": {
        "id": "t6OB0NWOP63Q"
      }
    },
    {
      "cell_type": "code",
      "source": [
        "from abc import ABC, abstractmethod\n",
        "import math"
      ],
      "metadata": {
        "id": "h-JWPn9CTx_4"
      },
      "execution_count": null,
      "outputs": []
    },
    {
      "cell_type": "code",
      "source": [
        "class Shape(ABC):\n",
        "    @abstractmethod\n",
        "    def area(self):\n",
        "        pass\n",
        "\n",
        "class Circle(Shape):\n",
        "    def __init__(self, radius):\n",
        "        self.radius = radius\n",
        "\n",
        "    def area(self):\n",
        "        return math.pi * self.radius ** 2\n",
        "\n",
        "class Rectangle(Shape):\n",
        "    def __init__(self, width, height):\n",
        "        self.width = width\n",
        "        self.height = height\n",
        "\n",
        "    def area(self):\n",
        "        return self.width * self.height"
      ],
      "metadata": {
        "id": "_-usUaR9RpoY"
      },
      "execution_count": null,
      "outputs": []
    },
    {
      "cell_type": "code",
      "source": [
        "c = Circle(5)\n",
        "print(f\"Area of Circle: {c.area():.2f}\")"
      ],
      "metadata": {
        "colab": {
          "base_uri": "https://localhost:8080/"
        },
        "id": "j8g8MacWT1Fy",
        "outputId": "5291120d-ba41-4dc1-991b-49d87a235991"
      },
      "execution_count": null,
      "outputs": [
        {
          "output_type": "stream",
          "name": "stdout",
          "text": [
            "Area of Circle: 78.54\n"
          ]
        }
      ]
    },
    {
      "cell_type": "code",
      "source": [
        "r = Rectangle(4, 6)\n",
        "print(f\"Area of Rectangle: {r.area():.2f}\")"
      ],
      "metadata": {
        "colab": {
          "base_uri": "https://localhost:8080/"
        },
        "id": "cFq--81oULno",
        "outputId": "835282ba-489b-4bdb-d223-18404e9c5e9f"
      },
      "execution_count": null,
      "outputs": [
        {
          "output_type": "stream",
          "name": "stdout",
          "text": [
            "Area of Rectangle: 24.00\n"
          ]
        }
      ]
    },
    {
      "cell_type": "markdown",
      "source": [
        "3. Implement a multi-level inheritance scenario where a class Vehicle has an attribute type. Derive a class Car\n",
        "and further derive a class ElectricCar that adds a battery attribute."
      ],
      "metadata": {
        "id": "7hTa5NtYP96Y"
      }
    },
    {
      "cell_type": "code",
      "source": [
        "class Vehicle:\n",
        "    def __init__(self, vehicle_type):\n",
        "        self.vehicle_type = vehicle_type\n",
        "\n",
        "    def display_type(self):\n",
        "        return f\"This is a {self.vehicle_type}\"\n",
        "\n",
        "class Car(Vehicle):\n",
        "    def __init__(self, vehicle_type, brand):\n",
        "        super().__init__(vehicle_type)\n",
        "        self.brand = brand\n",
        "\n",
        "    def display_info(self):\n",
        "        return f\"{self.display_type()} and the brand is {self.brand}\"\n",
        "\n",
        "class ElectricCar(Car):\n",
        "    def __init__(self, vehicle_type, brand, battery_capacity):\n",
        "        super().__init__(vehicle_type, brand)\n",
        "        self.battery_capacity = battery_capacity\n",
        "\n",
        "    def display_electric_info(self):\n",
        "        return f\"{self.display_info()} with a battery capacity of {self.battery_capacity} kWh\"\n",
        "\n",
        "electric_car = ElectricCar(\"Electric Vehicle\", \"Tesla\", 75)\n",
        "\n",
        "print(electric_car.display_electric_info())"
      ],
      "metadata": {
        "id": "QdLYBSuRRpPw",
        "colab": {
          "base_uri": "https://localhost:8080/"
        },
        "outputId": "9d8af125-b7c0-4343-b540-94374e06ef82"
      },
      "execution_count": 2,
      "outputs": [
        {
          "output_type": "stream",
          "name": "stdout",
          "text": [
            "This is a Electric Vehicle and the brand is Tesla with a battery capacity of 75 kWh\n"
          ]
        }
      ]
    },
    {
      "cell_type": "markdown",
      "source": [
        "4.  Demonstrate polymorphism by creating a base class Bird with a method fly(). Create two derived classes\n",
        "Sparrow and Penguin that override the fly() method."
      ],
      "metadata": {
        "id": "Ti_0syj6QEyw"
      }
    },
    {
      "cell_type": "code",
      "source": [
        "class Bird:\n",
        "    def fly(self):\n",
        "        raise NotImplementedError(\"Subclass must implement abstract method\")\n",
        "\n",
        "class Sparrow(Bird):\n",
        "    def fly(self):\n",
        "        return \"Sparrow is flying!\"\n",
        "\n",
        "class Penguin(Bird):\n",
        "    def fly(self):\n",
        "        return \"Penguin can't fly.\"\n",
        "\n",
        "sparrow = Sparrow()\n",
        "penguin = Penguin()\n",
        "\n",
        "print(sparrow.fly())\n",
        "print(penguin.fly())"
      ],
      "metadata": {
        "id": "q89ZqdFuRnvP",
        "colab": {
          "base_uri": "https://localhost:8080/"
        },
        "outputId": "b6422752-0736-4de2-9e35-4ebe9c3763ba"
      },
      "execution_count": 3,
      "outputs": [
        {
          "output_type": "stream",
          "name": "stdout",
          "text": [
            "Sparrow is flying!\n",
            "Penguin can't fly.\n"
          ]
        }
      ]
    },
    {
      "cell_type": "markdown",
      "source": [
        "5. Write a program to demonstrate encapsulation by creating a class BankAccount with private attributes\n",
        "balance and methods to deposit, withdraw, and check balance."
      ],
      "metadata": {
        "id": "EnTz_10xQIbb"
      }
    },
    {
      "cell_type": "code",
      "source": [
        "class BankAccount:\n",
        "    def __init__(self, initial_balance=0):\n",
        "        self.__balance = initial_balance\n",
        "    def deposit(self, amount):\n",
        "        if amount > 0:\n",
        "            self.__balance += amount\n",
        "            print(f\"Deposited ${amount}.\")\n",
        "        else:\n",
        "            print(\"Deposit amount must be positive.\")\n",
        "\n",
        "    def withdraw(self, amount):\n",
        "        if 0 < amount <= self.__balance:\n",
        "            self.__balance -= amount\n",
        "            print(f\"Withdrew ${amount}.\")\n",
        "        else:\n",
        "            print(\"Insufficient balance or invalid amount.\")\n",
        "\n",
        "    def check_balance(self):\n",
        "        return f\"Current balance: ${self.__balance}\"\n",
        "\n",
        "account = BankAccount(100)\n",
        "\n",
        "account.deposit(50)\n",
        "account.withdraw(30)\n",
        "print(account.check_balance())\n"
      ],
      "metadata": {
        "id": "-0t9KX-3RnQw",
        "colab": {
          "base_uri": "https://localhost:8080/"
        },
        "outputId": "41dafd63-4bb0-4b7b-b42a-86bed6b239e7"
      },
      "execution_count": 2,
      "outputs": [
        {
          "output_type": "stream",
          "name": "stdout",
          "text": [
            "Deposited $50.\n",
            "Withdrew $30.\n",
            "Current balance: $120\n"
          ]
        }
      ]
    },
    {
      "cell_type": "markdown",
      "source": [
        "6. Demonstrate runtime polymorphism using a method play() in a base class Instrument. Derive classes Guitar\n",
        "and Piano that implement their own version of play()."
      ],
      "metadata": {
        "id": "1JU2vk3QQNAo"
      }
    },
    {
      "cell_type": "code",
      "source": [
        "class Instrument:\n",
        "    def play(self):\n",
        "        raise NotImplementedError(\"Subclasses must implement the play method.\")\n",
        "\n",
        "class Guitar(Instrument):\n",
        "    def play(self):\n",
        "        return \"Strumming the guitar.\"\n",
        "\n",
        "class Piano(Instrument):\n",
        "    def play(self):\n",
        "        return \"Playing the piano.\"\n",
        "\n",
        "def perform(instrument: Instrument):\n",
        "    print(instrument.play())\n",
        "\n",
        "guitar = Guitar()\n",
        "piano = Piano()\n"
      ],
      "metadata": {
        "id": "C3jTGuWTRm3v"
      },
      "execution_count": 6,
      "outputs": []
    },
    {
      "cell_type": "code",
      "source": [
        "perform(guitar)\n",
        "perform(piano)"
      ],
      "metadata": {
        "colab": {
          "base_uri": "https://localhost:8080/"
        },
        "id": "JL-fIh83SH3B",
        "outputId": "9b5623b5-b1de-44a5-ae35-8777985c6584"
      },
      "execution_count": 5,
      "outputs": [
        {
          "output_type": "stream",
          "name": "stdout",
          "text": [
            "Strumming the guitar.\n",
            "Playing the piano.\n"
          ]
        }
      ]
    },
    {
      "cell_type": "markdown",
      "source": [
        "7.  Create a class MathOperations with a class method add_numbers() to add two numbers and a static\n",
        "method subtract_numbers() to subtract two numbers."
      ],
      "metadata": {
        "id": "rsQnTxi5QS_o"
      }
    },
    {
      "cell_type": "code",
      "source": [
        "class MathOperations:\n",
        "    @classmethod\n",
        "    def add_numbers(cls, num1, num2):\n",
        "        return num1 + num2\n",
        "\n",
        "    @staticmethod\n",
        "    def subtract_numbers(num1, num2):\n",
        "        return num1 - num2\n",
        "\n",
        "sum_result = MathOperations.add_numbers(10, 5)\n",
        "difference_result = MathOperations.subtract_numbers(10, 5)\n",
        "\n",
        "print(f\"Sum: {sum_result}\")\n",
        "print(f\"Difference: {difference_result}\")"
      ],
      "metadata": {
        "id": "cqZw5MTfRmi4",
        "colab": {
          "base_uri": "https://localhost:8080/"
        },
        "outputId": "e17ff147-8da8-48dd-df06-7aa7dd0e5436"
      },
      "execution_count": 30,
      "outputs": [
        {
          "output_type": "stream",
          "name": "stdout",
          "text": [
            "Sum: 15\n",
            "Difference: 5\n"
          ]
        }
      ]
    },
    {
      "cell_type": "markdown",
      "source": [
        "8.  Implement a class Person with a class method to count the total number of persons created."
      ],
      "metadata": {
        "id": "82bS1luUQS9C"
      }
    },
    {
      "cell_type": "code",
      "source": [
        "class Person:\n",
        "    total_persons = 0\n",
        "\n",
        "    def __init__(self, name, age):\n",
        "        self.name = name\n",
        "        self.age = age\n",
        "        Person.total_persons += 1\n",
        "\n",
        "    @classmethod\n",
        "    def count_persons(cls):\n",
        "        return cls.total_persons\n",
        "\n",
        "person1 = Person(\"Alice\", 30)\n",
        "person2 = Person(\"Bob\", 25)\n",
        "person3 = Person(\"Charlie\", 35)\n",
        "\n",
        "print(f\"Total persons created: {Person.count_persons()}\")"
      ],
      "metadata": {
        "id": "XKKkM99vRmAw",
        "colab": {
          "base_uri": "https://localhost:8080/"
        },
        "outputId": "ca42804e-732a-43e0-d247-89834083f743"
      },
      "execution_count": 28,
      "outputs": [
        {
          "output_type": "stream",
          "name": "stdout",
          "text": [
            "Total persons created: 3\n"
          ]
        }
      ]
    },
    {
      "cell_type": "markdown",
      "source": [
        "9. Write a class Fraction with attributes numerator and denominator. Override the str method to display the fraction as \"numerator/denominator\"."
      ],
      "metadata": {
        "id": "ISLXQMvjQS5z"
      }
    },
    {
      "cell_type": "code",
      "source": [
        "class Fraction:\n",
        "    def __init__(self, numerator, denominator):\n",
        "        self.numerator = numerator\n",
        "        self.denominator = denominator\n",
        "\n",
        "    def __str__(self):\n",
        "        return f\"{self.numerator}/{self.denominator}\"\n",
        "\n",
        "fraction1 = Fraction(3, 4)\n",
        "fraction2 = Fraction(5, 8)\n",
        "\n",
        "print(f\"Fraction 1: {fraction1}\")\n",
        "print(f\"Fraction 2: {fraction2}\")"
      ],
      "metadata": {
        "id": "O1U0TT9BRloa",
        "colab": {
          "base_uri": "https://localhost:8080/"
        },
        "outputId": "25cc27b4-fcbb-47e9-c61f-c14cd29939af"
      },
      "execution_count": 26,
      "outputs": [
        {
          "output_type": "stream",
          "name": "stdout",
          "text": [
            "Fraction 1: 3/4\n",
            "Fraction 2: 5/8\n"
          ]
        }
      ]
    },
    {
      "cell_type": "markdown",
      "source": [
        "10.  Demonstrate operator overloading by creating a class Vector and overriding the add method to add two\n",
        "vectors."
      ],
      "metadata": {
        "id": "gfEgyvibQS2w"
      }
    },
    {
      "cell_type": "code",
      "source": [
        "class Vector:\n",
        "    def __init__(self, x, y):\n",
        "        self.x = x\n",
        "        self.y = y\n",
        "\n",
        "    def __add__(self, other):\n",
        "        if isinstance(other, Vector):\n",
        "            return Vector(self.x + other.x, self.y + other.y)\n",
        "        return NotImplemented\n",
        "\n",
        "    def __repr__(self):\n",
        "        return f\"Vector({self.x}, {self.y})\"\n",
        "\n",
        "v1 = Vector(2, 3)\n",
        "v2 = Vector(4, 5)\n",
        "\n",
        "v3 = v1 + v2\n",
        "\n",
        "print(f\"v1: {v1}, v2: {v2}, v3: {v3}\")"
      ],
      "metadata": {
        "id": "nA6zgfF4RlN4",
        "colab": {
          "base_uri": "https://localhost:8080/"
        },
        "outputId": "72dcbdf3-ad93-4536-fcfc-0c91dd91e5c6"
      },
      "execution_count": 24,
      "outputs": [
        {
          "output_type": "stream",
          "name": "stdout",
          "text": [
            "v1: Vector(2, 3), v2: Vector(4, 5), v3: Vector(6, 8)\n"
          ]
        }
      ]
    },
    {
      "cell_type": "markdown",
      "source": [
        "11. Create a class Person with attributes name and age. Add a method greet() that prints \"Hello, my name is\n",
        "{name} and I am {age} years old.\""
      ],
      "metadata": {
        "id": "hWSJLl2NQSz5"
      }
    },
    {
      "cell_type": "code",
      "source": [
        "class Person:\n",
        "    def __init__(self, name, age):\n",
        "        self.name = name\n",
        "        self.age = age\n",
        "\n",
        "    def greet(self):\n",
        "        print(f\"Hello, my name is {self.name} and I am {self.age} years old.\")\n",
        "\n",
        "person = Person(\"Sagar\", 25)\n",
        "person.greet()"
      ],
      "metadata": {
        "id": "SkpLsxqeRkvA",
        "colab": {
          "base_uri": "https://localhost:8080/"
        },
        "outputId": "4565650f-e66f-422f-d497-7b0cf56d2261"
      },
      "execution_count": 21,
      "outputs": [
        {
          "output_type": "stream",
          "name": "stdout",
          "text": [
            "Hello, my name is Sagar and I am 25 years old.\n"
          ]
        }
      ]
    },
    {
      "cell_type": "markdown",
      "source": [
        "12. Implement a class Student with attributes name and grades. Create a method average_grade() to compute\n",
        "the average of the grades."
      ],
      "metadata": {
        "id": "AlbqfQA5QSxA"
      }
    },
    {
      "cell_type": "code",
      "source": [
        "class Student:\n",
        "    def __init__(self, name, grades):\n",
        "        self.name = name\n",
        "        self.grades = grades\n",
        "\n",
        "    def average_grade(self):\n",
        "        if not self.grades:\n",
        "            return 0\n",
        "        return sum(self.grades) / len(self.grades)\n",
        "\n",
        "student = Student(\"Emma\", [85, 92, 78, 90])\n",
        "print(f\"{student.name}'s average grade is: {student.average_grade():.2f}\")"
      ],
      "metadata": {
        "id": "fURCgeY0RkVa",
        "colab": {
          "base_uri": "https://localhost:8080/"
        },
        "outputId": "9861d6a5-34f8-4c79-ce63-d2c808d5c15c"
      },
      "execution_count": 18,
      "outputs": [
        {
          "output_type": "stream",
          "name": "stdout",
          "text": [
            "Emma's average grade is: 86.25\n"
          ]
        }
      ]
    },
    {
      "cell_type": "markdown",
      "source": [
        "13. Create a class Rectangle with methods set_dimensions() to set the dimensions and area() to calculate the\n",
        "area."
      ],
      "metadata": {
        "id": "WVr8xhh0QSuI"
      }
    },
    {
      "cell_type": "code",
      "source": [
        "class Rectangle:\n",
        "    def __init__(self):\n",
        "        self.length = 0\n",
        "        self.width = 0\n",
        "\n",
        "    def set_dimensions(self, length, width):\n",
        "        self.length = length\n",
        "        self.width = width\n",
        "\n",
        "    def area(self):\n",
        "        return self.length * self.width\n",
        "\n",
        "rect = Rectangle()\n",
        "rect.set_dimensions(10, 5)\n",
        "print(f\"The area of the rectangle is: {rect.area()}\")"
      ],
      "metadata": {
        "id": "RJ2nFnzqRjbP",
        "colab": {
          "base_uri": "https://localhost:8080/"
        },
        "outputId": "bc704459-fc8b-464d-bcb2-7b243864acc9"
      },
      "execution_count": 16,
      "outputs": [
        {
          "output_type": "stream",
          "name": "stdout",
          "text": [
            "The area of the rectangle is: 50\n"
          ]
        }
      ]
    },
    {
      "cell_type": "markdown",
      "source": [
        "14. Create a class Employee with a method calculate_salary() that computes the salary based on hours worked\n",
        "and hourly rate. Create a derived class Manager that adds a bonus to the salary."
      ],
      "metadata": {
        "id": "xzSqURQWQSrC"
      }
    },
    {
      "cell_type": "code",
      "source": [
        "class Employee:\n",
        "    def __init__(self, name, hours_worked, hourly_rate):\n",
        "        self.name = name\n",
        "        self.hours_worked = hours_worked\n",
        "        self.hourly_rate = hourly_rate\n",
        "\n",
        "    def calculate_salary(self):\n",
        "        return self.hours_worked * self.hourly_rate\n",
        "\n",
        "class Manager(Employee):\n",
        "    def __init__(self, name, hours_worked, hourly_rate, bonus):\n",
        "        super().__init__(name, hours_worked, hourly_rate)\n",
        "        self.bonus = bonus\n",
        "\n",
        "    def calculate_salary(self):\n",
        "        base_salary = super().calculate_salary()\n",
        "        return base_salary + self.bonus\n",
        "\n",
        "employee = Employee(\"Mayuri\", 40, 20)\n",
        "manager = Manager(\"Sagar\", 40, 30, 500)\n",
        "\n",
        "print(f\"{employee.name}'s salary: ${employee.calculate_salary()}\")\n",
        "print(f\"{manager.name}'s salary: ${manager.calculate_salary()}\")"
      ],
      "metadata": {
        "id": "Xe1w737FRi-Y",
        "colab": {
          "base_uri": "https://localhost:8080/"
        },
        "outputId": "fedd3d67-3f5a-4559-9478-c559d294032e"
      },
      "execution_count": 22,
      "outputs": [
        {
          "output_type": "stream",
          "name": "stdout",
          "text": [
            "Mayuri's salary: $800\n",
            "Sagar's salary: $1700\n"
          ]
        }
      ]
    },
    {
      "cell_type": "markdown",
      "source": [
        "15. Create a class Product with attributes name, price, and quantity. Implement a method total_price() that\n",
        "calculates the total price of the product."
      ],
      "metadata": {
        "id": "6xxS7I9hQSmY"
      }
    },
    {
      "cell_type": "code",
      "source": [
        "class Product:\n",
        "    def __init__(self, name, price, quantity):\n",
        "        self.name = name\n",
        "        self.price = price\n",
        "        self.quantity = quantity\n",
        "\n",
        "    def total_price(self):\n",
        "        return self.price * self.quantity\n",
        "\n",
        "product = Product(\"Laptop\", 1000, 3)\n",
        "\n",
        "print(f\"Total price for {product.quantity} {product.name}(s): ${product.total_price()}\")"
      ],
      "metadata": {
        "id": "l2fOtd2QRiZ4",
        "colab": {
          "base_uri": "https://localhost:8080/"
        },
        "outputId": "f8c9551d-0800-4ca7-81e4-f4b82d89fb65"
      },
      "execution_count": 12,
      "outputs": [
        {
          "output_type": "stream",
          "name": "stdout",
          "text": [
            "Total price for 3 Laptop(s): $3000\n"
          ]
        }
      ]
    },
    {
      "cell_type": "markdown",
      "source": [
        "16. Create a class Animal with an abstract method sound(). Create two derived classes Cow and Sheep that\n",
        "implement the sound() method"
      ],
      "metadata": {
        "id": "uE9j5MKNQSip"
      }
    },
    {
      "cell_type": "code",
      "source": [
        "from abc import ABC, abstractmethod\n",
        "\n",
        "class Animal(ABC):\n",
        "    @abstractmethod\n",
        "    def sound(self):\n",
        "        pass\n",
        "\n",
        "class Cow(Animal):\n",
        "    def sound(self):\n",
        "        return \"Moo\"\n",
        "\n",
        "class Sheep(Animal):\n",
        "    def sound(self):\n",
        "        return \"Baa\"\n",
        "\n",
        "cow = Cow()\n",
        "sheep = Sheep()\n",
        "\n",
        "print(f\"Cow says: {cow.sound()}\")\n",
        "print(f\"Sheep says: {sheep.sound()}\")"
      ],
      "metadata": {
        "id": "CLlSly-eRiBH",
        "colab": {
          "base_uri": "https://localhost:8080/"
        },
        "outputId": "0825fee5-96f7-49c2-b7eb-26237e17a02a"
      },
      "execution_count": 10,
      "outputs": [
        {
          "output_type": "stream",
          "name": "stdout",
          "text": [
            "Cow says: Moo\n",
            "Sheep says: Baa\n"
          ]
        }
      ]
    },
    {
      "cell_type": "markdown",
      "source": [
        "17. Create a class Book with attributes title, author, and year_published. Add a method get_book_info() that\n",
        "returns a formatted string with the book's details."
      ],
      "metadata": {
        "id": "kBdVUAJFQSdg"
      }
    },
    {
      "cell_type": "code",
      "source": [
        "class Book:\n",
        "    def __init__(self, title, author, year_published):\n",
        "        self.title = title\n",
        "        self.author = author\n",
        "        self.year_published = year_published\n",
        "\n",
        "    def get_book_info(self):\n",
        "        return f\"'{self.title}' by {self.author}, published in {self.year_published}.\"\n",
        "\n",
        "book = Book(\"1984\", \"George Orwell\", 1949)\n",
        "\n",
        "print(book.get_book_info())"
      ],
      "metadata": {
        "id": "hQM6Og7QRhry",
        "colab": {
          "base_uri": "https://localhost:8080/"
        },
        "outputId": "fc2b34f8-c978-4aad-8a4d-a6d77ef1d9a4"
      },
      "execution_count": 8,
      "outputs": [
        {
          "output_type": "stream",
          "name": "stdout",
          "text": [
            "'1984' by George Orwell, published in 1949.\n"
          ]
        }
      ]
    },
    {
      "cell_type": "markdown",
      "source": [
        "18.  Create a class House with attributes address and price. Create a derived class Mansion that adds an\n",
        "attribute number_of_rooms."
      ],
      "metadata": {
        "id": "sJCunCHYQSag"
      }
    },
    {
      "cell_type": "code",
      "source": [
        "class House:\n",
        "    def __init__(self, address, price):\n",
        "        self.address = address\n",
        "        self.price = price\n",
        "\n",
        "    def display_info(self):\n",
        "        return f\"House located at {self.address}, priced at ${self.price}\"\n",
        "\n",
        "class Mansion(House):\n",
        "    def __init__(self, address, price, number_of_rooms):\n",
        "        super().__init__(address, price)\n",
        "        self.number_of_rooms = number_of_rooms\n",
        "\n",
        "    def display_mansion_info(self):\n",
        "        return f\"{self.display_info()}, with {self.number_of_rooms} rooms.\"\n",
        "\n",
        "mansion = Mansion(\"123 Luxury St.\", 5000000, 10)\n",
        "\n",
        "print(mansion.display_mansion_info())"
      ],
      "metadata": {
        "id": "Wrj8hftCRhOh",
        "colab": {
          "base_uri": "https://localhost:8080/"
        },
        "outputId": "1ac673bc-9d21-4078-883a-686cc2de7b24"
      },
      "execution_count": 4,
      "outputs": [
        {
          "output_type": "stream",
          "name": "stdout",
          "text": [
            "House located at 123 Luxury St., priced at $5000000, with 10 rooms.\n"
          ]
        }
      ]
    },
    {
      "cell_type": "code",
      "source": [],
      "metadata": {
        "id": "ti2X72qFtcuH"
      },
      "execution_count": null,
      "outputs": []
    }
  ]
}