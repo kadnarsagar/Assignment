{
  "nbformat": 4,
  "nbformat_minor": 0,
  "metadata": {
    "colab": {
      "provenance": []
    },
    "kernelspec": {
      "name": "python3",
      "display_name": "Python 3"
    },
    "language_info": {
      "name": "python"
    }
  },
  "cells": [
    {
      "cell_type": "markdown",
      "source": [
        "# **Files, exceptional handling, logging and memory management Questions**"
      ],
      "metadata": {
        "id": "mVI7x1ix9oZR"
      }
    },
    {
      "cell_type": "markdown",
      "source": [
        "1. What is the difference between interpreted and compiled languages?"
      ],
      "metadata": {
        "id": "rhZvNMaV98l3"
      }
    },
    {
      "cell_type": "markdown",
      "source": [
        "->>\n",
        "\n",
        "  Compiled Languages\n",
        "* Compilation into machine code first.\n",
        "* Faster speed.\n",
        "* Errors caught during compilation.\n",
        "* Platform-specific machine code.\n",
        "* Efficient Memory usage.\n",
        "* eg. - C, C++.\n",
        "\n",
        "\n",
        "  Interpreted Languages\n",
        "* Line-by-line execution via an interpreter.\n",
        "* Slower speed.\n",
        "* Errors caught during execution.\n",
        "* Platform-independent.\n",
        "* Typically higher Memory usage.\n",
        "* eg. - Python, JavaScript, PHP.\n"
      ],
      "metadata": {
        "id": "d3FvIBDUB9qL"
      }
    },
    {
      "cell_type": "markdown",
      "source": [
        "2. What is exception handling in Python?"
      ],
      "metadata": {
        "id": "x_BRmsjF-L6A"
      }
    },
    {
      "cell_type": "markdown",
      "source": [
        "->>\n",
        "\n",
        "Exception handling in Python is a mechanism that allows you to manage errors that may occur during the execution of a program. Instead of allowing the program to crash when an error occurs, Python provides a way to catch and handle exceptions gracefully, ensuring the program can continue running or fail in a controlled manner."
      ],
      "metadata": {
        "id": "pvPSuPoRDnm0"
      }
    },
    {
      "cell_type": "markdown",
      "source": [
        "3.  What is the purpose of the finally block in exception handling?"
      ],
      "metadata": {
        "id": "gl6P1FLw-QIv"
      }
    },
    {
      "cell_type": "markdown",
      "source": [
        "->>\n",
        "\n",
        "The finally block in Python is part of exception handling and serves a very specific purpose: it allows you to define cleanup actions or other important code that must always be executed, regardless of whether an exception occurred or not."
      ],
      "metadata": {
        "id": "MDtlGE0PD2XC"
      }
    },
    {
      "cell_type": "markdown",
      "source": [
        "4. What is logging in Python?"
      ],
      "metadata": {
        "id": "EuRrrQwG-T8_"
      }
    },
    {
      "cell_type": "markdown",
      "source": [
        "->>\n",
        "\n",
        "Logging in Python is a way to track events or messages that happen during the execution of a program. It provides a built-in system to log important information, warnings, errors, and other messages to a file or console. Unlike print statements, which are typically used for debugging or quick checks, logging is designed to provide a more structured, flexible, and permanent way of handling output in production code."
      ],
      "metadata": {
        "id": "o_lJxy1MD4zq"
      }
    },
    {
      "cell_type": "markdown",
      "source": [
        "5. What is the significance of the __del__ method in Python?"
      ],
      "metadata": {
        "id": "vmgu4FaW-YMH"
      }
    },
    {
      "cell_type": "markdown",
      "source": [
        "->>\n",
        "\n",
        "The del statement in Python is used to delete objects, such as variables, items in a list, or attributes from a class. It can also be used to remove key-value pairs from dictionaries and slices from lists. The key aspect of del is that it does not just set the variable or object to None; it removes the object entirely from memory."
      ],
      "metadata": {
        "id": "D5LYb-1_ExkS"
      }
    },
    {
      "cell_type": "markdown",
      "source": [
        "6. What is the difference between import and from ... import in Python?"
      ],
      "metadata": {
        "id": "4VxRaRyi-ct3"
      }
    },
    {
      "cell_type": "markdown",
      "source": [
        "->>\n",
        "\n",
        "import-\n",
        "\n",
        "The import statement is used to import an entire module or package into your code. When you use import, you must refer to the module and its attributes with its full name (i.e., the module's namespace).\n",
        "\n",
        "\n",
        "* The entire module or package.\n",
        "* You need to use the module name as a prefix to access its contents.\n",
        "* The module name is included in the namespace.\n",
        "* Syntax - import module_name / import math\n",
        "* Usage- math.sqrt(16)\n",
        "* Use when you need to access many functions or the whole module.\n",
        "\n",
        "\n",
        "from ... import-\n",
        "\n",
        "The from ... import statement allows you to import specific objects (functions, classes, variables) directly from a module. This way, you can use them without the module name prefix, making the code more concise.\n",
        "\n",
        "* Specific objects (functions, classes, etc.) from the module.\n",
        "* Directly access the imported objects without the module prefix.\n",
        "* The imported objects are directly in the namespace.\n",
        "* Syntax - from module_name import object_name / from math import sqrt\n",
        "* Usage - sqrt(16)\n",
        "* Use when you only need specific functions, classes, or variables from a module.\n",
        "\n"
      ],
      "metadata": {
        "id": "ZKSZoGbQE7oi"
      }
    },
    {
      "cell_type": "markdown",
      "source": [
        "7. How can you handle multiple exceptions in Python?"
      ],
      "metadata": {
        "id": "QXSQ5ZzA-ico"
      }
    },
    {
      "cell_type": "markdown",
      "source": [
        "->>\n",
        "\n",
        "In Python, you can handle multiple exceptions in a few different ways. The goal is to catch different types of exceptions that might be raised in your code and handle them appropriately. Below are the methods to handle multiple exceptions in Python:\n",
        "\n",
        "\n",
        "1. Using Multiple except Clauses.\n",
        "2. Handling Multiple Exceptions in a Single except Clause.\n",
        "3. Using else Block with Multiple Exceptions.\n",
        "4. Using finally Block.\n",
        "5. Catching Generic Exception (Exception) for Unknown Errors.\n",
        "\n"
      ],
      "metadata": {
        "id": "cu94eLtKGZ1S"
      }
    },
    {
      "cell_type": "markdown",
      "source": [
        "8. What is the purpose of the with statement when handling files in Python?"
      ],
      "metadata": {
        "id": "AOyOFdG_-mCH"
      }
    },
    {
      "cell_type": "markdown",
      "source": [
        "->>\n",
        "\n",
        "The primary purpose of using the with statement in file handling is to ensure that resources like files are properly opened and closed when they are no longer needed, even if an exception occurs during the file operation. This avoids common issues like leaving files open, which can lead to memory leaks, data corruption, or file lock issues."
      ],
      "metadata": {
        "id": "eSKW-IoZHAL5"
      }
    },
    {
      "cell_type": "markdown",
      "source": [
        "9. What is the difference between multithreading and multiprocessing?"
      ],
      "metadata": {
        "id": "4WIHjLIE-pd3"
      }
    },
    {
      "cell_type": "markdown",
      "source": [
        "->>\n",
        "\n",
        "Multithreading:\n",
        "\n",
        "\n",
        "Multithreading refers to the concurrent execution of multiple threads within a single process. Threads are lightweight, and they share the same memory space (heap) of the process they belong to.\n",
        "\n",
        "Multiprocessing:\n",
        "\n",
        "\n",
        "Multiprocessing refers to the concurrent execution of multiple processes, each with its own memory space and Python interpreter. Unlike threads, processes in multiprocessing have separate memory spaces, so they do not share data by default."
      ],
      "metadata": {
        "id": "8mr7lCJ2HLxa"
      }
    },
    {
      "cell_type": "markdown",
      "source": [
        "10. What are the advantages of using logging in a program?"
      ],
      "metadata": {
        "id": "k3kVKV8c-tSy"
      }
    },
    {
      "cell_type": "markdown",
      "source": [
        "->>\n",
        "\n",
        "*  Better Debugging and Error Tracking.\n",
        "*  Separation of Concerns.\n",
        "*  Flexibility in Output Destinations.\n",
        "*  Log Levels for Granular Control.\n",
        "*  Persistent Logging.\n",
        "*  Better Monitoring and Alerts.\n",
        "*  Performance Considerations.\n",
        "*  Auditing and Compliance.\n",
        "*  Easy Integration with External Tools.\n",
        "*  Simplifies Testing and Debugging.\n"
      ],
      "metadata": {
        "id": "5Qpmvz4HHfch"
      }
    },
    {
      "cell_type": "markdown",
      "source": [
        "11. What is memory management in Python?"
      ],
      "metadata": {
        "id": "30oGBItm-xlP"
      }
    },
    {
      "cell_type": "markdown",
      "source": [
        "->>\n",
        "\n",
        "Memory management in Python refers to the way the Python interpreter allocates and deallocates memory for objects and variables during program execution. Python uses an automatic memory management system that includes reference counting, garbage collection, and memory pools to handle memory efficiently."
      ],
      "metadata": {
        "id": "FGtvuKX7IVCh"
      }
    },
    {
      "cell_type": "markdown",
      "source": [
        "12. What are the basic steps involved in exception handling in Python?"
      ],
      "metadata": {
        "id": "fLfo4GPy-1aY"
      }
    },
    {
      "cell_type": "markdown",
      "source": [
        "->>\n",
        "\n",
        "In Python, exception handling is the process of anticipating, detecting, and responding to runtime errors in a program. The primary mechanism for handling exceptions is the try-except block, which allows you to catch and handle errors gracefully, preventing the program from crashing.\n",
        "\n",
        "*  Using the try Block\n",
        "*  Using the except Block\n",
        "*  Using the else Block (Optional)\n",
        "*  Using the finally Block (Optional)\n",
        "*  Handling Multiple Exceptions\n",
        "*  Raising Exceptions Explicitly"
      ],
      "metadata": {
        "id": "cvKV3fnRIocZ"
      }
    },
    {
      "cell_type": "markdown",
      "source": [
        "13. Why is memory management important in Python?"
      ],
      "metadata": {
        "id": "OAMMDJdV-4sH"
      }
    },
    {
      "cell_type": "markdown",
      "source": [
        "->>\n",
        "\n",
        "Memory management in Python is crucial for several reasons, as it directly impacts the performance, efficiency, and reliability of Python programs. Here’s why effective memory management is important.\n",
        "\n",
        "* Efficient Use of System Resources.\n",
        "* Performance Optimization.\n",
        "* Preventing Crashes and Errors.\n",
        "* Garbage Collection and Circular References.\n",
        "* Scalability and Handling Large Datasets.\n",
        "* Reducing Fragmentation.\n",
        "* Memory Management for Long-Running Applications.\n",
        "* Interfacing with External Systems."
      ],
      "metadata": {
        "id": "Vvt0sKaoJBgx"
      }
    },
    {
      "cell_type": "markdown",
      "source": [
        "14. What is the role of try and except in exception handling?"
      ],
      "metadata": {
        "id": "c_BqwLnS--VY"
      }
    },
    {
      "cell_type": "markdown",
      "source": [
        "->>\n",
        "\n",
        "Role of try Block\n",
        "\n",
        "The try block is used to enclose code that might raise an exception. It defines the part of your program where you expect an error might occur, such as accessing a file, dividing numbers, or performing calculations that could potentially fail.\n",
        "\n",
        "When Python executes a try block, it runs the code inside it. If no exception occurs, the code runs as usual. However, if an exception is raised (e.g., trying to divide by zero or accessing a nonexistent file), the program immediately jumps to the corresponding except block.\n",
        "\n",
        "Role of except Block\n",
        "\n",
        "The except block is used to catch and handle exceptions that occur inside the try block. It defines the code that will run if an error (exception) is raised.\n",
        "\n",
        "When an exception occurs inside the try block, Python stops executing the code in the try block and jumps to the corresponding except block. You can specify the type of exception you want to catch (e.g., ZeroDivisionError, FileNotFoundError, etc.) and handle it appropriately."
      ],
      "metadata": {
        "id": "yhVfrbHcJtHI"
      }
    },
    {
      "cell_type": "markdown",
      "source": [
        "15. How does Python's garbage collection system work?"
      ],
      "metadata": {
        "id": "d3pBw6Vp_CVP"
      }
    },
    {
      "cell_type": "markdown",
      "source": [
        "->>\n",
        "\n",
        "Python's garbage collection (GC) system is designed to automatically manage memory by reclaiming memory that is no longer in use. The main goal is to ensure that objects that are no longer needed by the program are freed, allowing the memory to be reused efficiently. This process helps avoid memory leaks and ensures that the program doesn't run out of memory, leading to crashes or performance degradation."
      ],
      "metadata": {
        "id": "h-h7-RY-KAjw"
      }
    },
    {
      "cell_type": "markdown",
      "source": [
        "16. What is the purpose of the else block in exception handling?"
      ],
      "metadata": {
        "id": "AyORe_eC_Gc5"
      }
    },
    {
      "cell_type": "markdown",
      "source": [
        "->>\n",
        "\n",
        "Execute code when no exceptions occur: The else block allows you to write code that should only run when no exception has been raised in the try block. This can be helpful for handling normal program flow when the try block succeeds.\n",
        "\n",
        "Keeps exception handling clean: It allows you to separate error handling from the normal flow of the program. Code that would normally execute if no error happens can be placed in the else block, keeping the try block focused on potentially problematic code and the except block focused on error handling.\n",
        "\n",
        "Avoids unnecessary indentation: Without the else block, you might need to put the successful code in the try block, leading to more indentation. Using else helps to keep the logic clean and clear."
      ],
      "metadata": {
        "id": "7nlgZxBKKHKJ"
      }
    },
    {
      "cell_type": "markdown",
      "source": [
        "17. What are the common logging levels in Python?"
      ],
      "metadata": {
        "id": "I4vfMJlB_Ksh"
      }
    },
    {
      "cell_type": "markdown",
      "source": [
        "->>\n",
        "\n",
        "In Python, the logging module provides a flexible framework for logging messages. Logging messages are categorized into different levels, which help to indicate the severity or importance of the events being logged. Each level represents a different threshold for the type of messages that should be logged.\n",
        "\n",
        "* DEBUG (Level 10)\n",
        "* INFO (Level 20)\n",
        "* WARNING (Level 30)\n",
        "* ERROR (Level 40)\n",
        "* CRITICAL (Level 50)"
      ],
      "metadata": {
        "id": "jNRYCUSTKYth"
      }
    },
    {
      "cell_type": "markdown",
      "source": [
        "18. What is the difference between os.fork() and multiprocessing in Python?"
      ],
      "metadata": {
        "id": "E_je1P8O_Pq_"
      }
    },
    {
      "cell_type": "markdown",
      "source": [
        "->>\n",
        "\n",
        "os.fork()\n",
        "\n",
        "os.fork() is a low-level function that is available on Unix-based systems (Linux, macOS) for creating a new process. When you call os.fork(), it creates a child process that is a copy of the parent process, and it returns two different values depending on whether it is in the parent or child process.\n",
        "\n",
        "* Unix-based systems (Linux, macOS)\n",
        "* Low-level process creation\n",
        "* Low-level, manual process management\n",
        "* Parent and child processes share memory\n",
        "* Cross-platform Compatibility Not available on Windows\n",
        "* Manual Inter-process Communication\n",
        "* Suitable for simple, low-level process control\n",
        "\n",
        "\n",
        "multiprocessing\n",
        "\n",
        "The multiprocessing module provides a higher-level API for creating and managing processes, and it works across all platforms, including Windows and Unix-like systems.\n",
        "\n",
        "* Cross-platform (Windows, Linux, macOS)\n",
        "* High-level process management\n",
        "* Higher-level, easier to use and manage\n",
        "* Separate memory space for each process\n",
        "* Cross-platform Compatibility Available on all platforms\n",
        "* Inter-process Communication Built-in support for queues, pipes, etc.\n",
        "* Suitable for scalable and complex parallel processing tasks"
      ],
      "metadata": {
        "id": "5R65m4_SKyjC"
      }
    },
    {
      "cell_type": "markdown",
      "source": [
        "19. What is the importance of closing a file in Python?"
      ],
      "metadata": {
        "id": "Wd7wmyac_U6A"
      }
    },
    {
      "cell_type": "markdown",
      "source": [
        "->>\n",
        "\n",
        "Closing a file in Python is important for several reasons related to resource management, data integrity, and system performance.\n",
        "\n",
        "*  Releases System Resources\n",
        "*  Ensures Data Is Written (Flushed)\n",
        "*  Prevents File Corruption\n",
        "*  Avoids Hitting OS File Limits\n",
        "*  Best Practice and Code Readability\n"
      ],
      "metadata": {
        "id": "xAtaxDSeMWp5"
      }
    },
    {
      "cell_type": "markdown",
      "source": [
        "20. What is the difference between file.read() and file.readline() in Python?"
      ],
      "metadata": {
        "id": "N6CamRz9_Y7o"
      }
    },
    {
      "cell_type": "markdown",
      "source": [
        "->>\n",
        "\n",
        "file.read()\n",
        "\n",
        "* Read entire file or specified bytes\n",
        "* Returns\tSingle string\n",
        "* Memory usage\tHigh for large files\n",
        "* Read all content at once\n",
        "\n",
        "\n",
        "file.readline()\n",
        "\n",
        "* Read One line at a time\n",
        "* Return Single line as a string\n",
        "* Memory usage efficient for large files\n",
        "* Process file line-by-line"
      ],
      "metadata": {
        "id": "arugXQv0M_WR"
      }
    },
    {
      "cell_type": "markdown",
      "source": [
        "21. What is the logging module in Python used for?"
      ],
      "metadata": {
        "id": "KdGHpnmg_c9_"
      }
    },
    {
      "cell_type": "markdown",
      "source": [
        "->>\n",
        "\n",
        "The logging module in Python is used for recording messages that describe events that happen during a program’s execution. It provides a flexible and standardized way to track and diagnose issues, monitor application behavior, and capture runtime information for debugging and analysis.\n",
        "\n",
        "* Debugging and Troubleshooting.\n",
        "* Monitoring Application Behavior.\n",
        "* Avoiding print() Statements in Production.\n",
        "* Recording Errors for Later Review.\n",
        "* Log Levels for Fine-Grained Control."
      ],
      "metadata": {
        "id": "iEvKO9BrN9Ix"
      }
    },
    {
      "cell_type": "markdown",
      "source": [
        "22. What is the os module in Python used for in file handling?"
      ],
      "metadata": {
        "id": "OTZlfsK3_hBo"
      }
    },
    {
      "cell_type": "markdown",
      "source": [
        "->>\n",
        "\n",
        "The os module in Python is used in file handling to interact with the operating system's file system. It provides functions for creating, deleting, navigating, and modifying files and directories, making it a key module for performing system-level file operations.\n",
        "\n"
      ],
      "metadata": {
        "id": "QRApZrzWOf1I"
      }
    },
    {
      "cell_type": "markdown",
      "source": [
        "23. What are the challenges associated with memory management in Python?"
      ],
      "metadata": {
        "id": "blbJlYQi_lRQ"
      }
    },
    {
      "cell_type": "markdown",
      "source": [
        "->>\n",
        "\n",
        "Memory management in Python is largely automatic, thanks to its built-in garbage collector and dynamic memory allocation, but it still presents several challenges—especially in large-scale or performance-critical applications.\n",
        "\n",
        "* Memory Leaks\n",
        "* Circular References\n",
        "* High Memory Overhead"
      ],
      "metadata": {
        "id": "h-YyWuMoOjbI"
      }
    },
    {
      "cell_type": "markdown",
      "source": [
        "24. How do you raise an exception manually in Python?"
      ],
      "metadata": {
        "id": "9aFWhOXd_qZQ"
      }
    },
    {
      "cell_type": "markdown",
      "source": [
        "->>\n",
        "\n",
        "raise an exception manually in Python using the raise statement, followed by an exception class."
      ],
      "metadata": {
        "id": "oKsEesInPAEo"
      }
    },
    {
      "cell_type": "markdown",
      "source": [
        "25. Why is it important to use multithreading in certain applications?"
      ],
      "metadata": {
        "id": "l98v8pmJ_unp"
      }
    },
    {
      "cell_type": "markdown",
      "source": [
        "->>\n",
        "\n",
        "Using multithreading is important in certain applications because it allows a program to perform multiple tasks concurrently, which can significantly improve responsiveness, efficiency, and performance—especially for I/O-bound operations.\n",
        "\n",
        "* Improved Responsiveness\n",
        "* Efficient I/O Handling\n",
        "* Resource Sharing\n",
        "* Faster Execution for I/O-bound Tasks\n",
        "* Scalability\n"
      ],
      "metadata": {
        "id": "zUFP-cgXPPnI"
      }
    },
    {
      "cell_type": "markdown",
      "source": [
        "# **Practical Questions**"
      ],
      "metadata": {
        "id": "otw1VMkA_zN4"
      }
    },
    {
      "cell_type": "markdown",
      "source": [
        "1. How can you open a file for writing in Python and write a string to it?"
      ],
      "metadata": {
        "id": "BPcRT72e_20o"
      }
    },
    {
      "cell_type": "code",
      "source": [
        "with open('example.txt', 'w') as file:\n",
        "    file.write('Hello, world!')"
      ],
      "metadata": {
        "id": "Ae61g033Nrfu"
      },
      "execution_count": 19,
      "outputs": []
    },
    {
      "cell_type": "markdown",
      "source": [
        "2. Write a Python program to read the contents of a file and print each line."
      ],
      "metadata": {
        "id": "_tG5LDRS_9_4"
      }
    },
    {
      "cell_type": "code",
      "source": [
        "with open('example.txt', 'r') as file:\n",
        "     for line in file:\n",
        "        print(line, end='')"
      ],
      "metadata": {
        "colab": {
          "base_uri": "https://localhost:8080/"
        },
        "id": "JqaLimnLN5Tm",
        "outputId": "320093f0-02a4-49a8-f9bf-9cecd9c999c0"
      },
      "execution_count": 20,
      "outputs": [
        {
          "output_type": "stream",
          "name": "stdout",
          "text": [
            "Hello, world!"
          ]
        }
      ]
    },
    {
      "cell_type": "markdown",
      "source": [
        "3. How would you handle a case where the file doesn't exist while trying to open it for reading?"
      ],
      "metadata": {
        "id": "nLX4YJYNACCQ"
      }
    },
    {
      "cell_type": "code",
      "source": [
        "filename = 'example.txt'\n",
        "\n",
        "try:\n",
        "    with open(filename, 'r') as file:\n",
        "        for line in file:\n",
        "            print(line, end='')\n",
        "except FileNotFoundError:\n",
        "    print(f\"Error: The file '{filename}' does not exist.\")"
      ],
      "metadata": {
        "colab": {
          "base_uri": "https://localhost:8080/"
        },
        "id": "hohPpUypONpu",
        "outputId": "727cc1d4-0cc4-46de-a396-fcc3c6529bbc"
      },
      "execution_count": 17,
      "outputs": [
        {
          "output_type": "stream",
          "name": "stdout",
          "text": [
            "Error: The file 'example.txt' does not exist.\n"
          ]
        }
      ]
    },
    {
      "cell_type": "markdown",
      "source": [
        "4. Write a Python script that reads from one file and writes its content to another file."
      ],
      "metadata": {
        "id": "t5YYUdkMAF7A"
      }
    },
    {
      "cell_type": "code",
      "source": [
        "source_file = 'source.txt'\n",
        "destination_file = 'destination.txt'\n",
        "\n",
        "try:\n",
        "    with open(source_file, 'r') as src:\n",
        "        content = src.read()\n",
        "\n",
        "    with open(destination_file, 'w') as dst:\n",
        "        dst.write(content)\n",
        "\n",
        "    print(f\"Contents copied from '{source_file}' to '{destination_file}'.\")\n",
        "except FileNotFoundError:\n",
        "    print(f\"Error: The file '{source_file}' does not exist.\")"
      ],
      "metadata": {
        "colab": {
          "base_uri": "https://localhost:8080/"
        },
        "id": "WKzlR6V_Oi8v",
        "outputId": "1e50448a-6c56-43fc-876f-b3e43f4100b5"
      },
      "execution_count": null,
      "outputs": [
        {
          "output_type": "stream",
          "name": "stdout",
          "text": [
            "Error: The file 'source.txt' does not exist.\n"
          ]
        }
      ]
    },
    {
      "cell_type": "markdown",
      "source": [
        "5. How would you catch and handle division by zero error in Python?"
      ],
      "metadata": {
        "id": "bApi0Lt2ALUA"
      }
    },
    {
      "cell_type": "code",
      "source": [
        "try:\n",
        "    numerator = 10\n",
        "    denominator = 0\n",
        "    result = numerator / denominator\n",
        "    print(f\"Result: {result}\")\n",
        "except ZeroDivisionError:\n",
        "    print(\"Error: Cannot divide by zero.\")"
      ],
      "metadata": {
        "colab": {
          "base_uri": "https://localhost:8080/"
        },
        "id": "EcBdv8hvOzld",
        "outputId": "a3d96631-3ee0-401a-e2d1-81b123cf17be"
      },
      "execution_count": null,
      "outputs": [
        {
          "output_type": "stream",
          "name": "stdout",
          "text": [
            "Error: Cannot divide by zero.\n"
          ]
        }
      ]
    },
    {
      "cell_type": "markdown",
      "source": [
        "6. Write a Python program that logs an error message to a log file when a division by zero exception occurs."
      ],
      "metadata": {
        "id": "mjnbIPCwAQgx"
      }
    },
    {
      "cell_type": "code",
      "source": [
        "import logging\n",
        "\n",
        "logging.basicConfig(\n",
        "    filename='error.log',\n",
        "    level=logging.ERROR,\n",
        "    format='%(asctime)s - %(levelname)s - %(message)s'\n",
        ")\n",
        "\n",
        "try:\n",
        "    numerator = 10\n",
        "    denominator = 0\n",
        "    result = numerator / denominator\n",
        "    print(f\"Result: {result}\")\n",
        "except ZeroDivisionError as e:\n",
        "    logging.error(\"Division by zero occurred: %s\", e)\n",
        "    print(\"An error occurred. Check 'error.log' for details.\")"
      ],
      "metadata": {
        "colab": {
          "base_uri": "https://localhost:8080/"
        },
        "id": "Ll6nfl02O0nd",
        "outputId": "49bd2198-9494-44db-ddbe-68743f366da5"
      },
      "execution_count": null,
      "outputs": [
        {
          "output_type": "stream",
          "name": "stderr",
          "text": [
            "ERROR:root:Division by zero occurred: division by zero\n"
          ]
        },
        {
          "output_type": "stream",
          "name": "stdout",
          "text": [
            "An error occurred. Check 'error.log' for details.\n"
          ]
        }
      ]
    },
    {
      "cell_type": "markdown",
      "source": [
        "7. How do you log information at different levels (INFO, ERROR, WARNING) in Python using the logging module?"
      ],
      "metadata": {
        "id": "Jk0AnutaAVGY"
      }
    },
    {
      "cell_type": "code",
      "source": [
        "import logging\n",
        "\n",
        "logging.basicConfig(\n",
        "    filename='app.log',\n",
        "    level=logging.DEBUG,\n",
        "    format='%(asctime)s - %(levelname)s - %(message)s'\n",
        ")\n",
        "\n",
        "logging.debug(\"This is a DEBUG message (for debugging information).\")\n",
        "logging.info(\"This is an INFO message (for general information).\")\n",
        "logging.warning(\"This is a WARNING message (for potential issues).\")\n",
        "logging.error(\"This is an ERROR message (for serious problems).\")\n",
        "logging.critical(\"This is a CRITICAL message (for very serious errors).\")"
      ],
      "metadata": {
        "colab": {
          "base_uri": "https://localhost:8080/"
        },
        "id": "kpzMtf1OO_l9",
        "outputId": "e4373680-0f8e-4944-d672-a6d70fe25b4c"
      },
      "execution_count": null,
      "outputs": [
        {
          "output_type": "stream",
          "name": "stderr",
          "text": [
            "WARNING:root:This is a WARNING message (for potential issues).\n",
            "ERROR:root:This is an ERROR message (for serious problems).\n",
            "CRITICAL:root:This is a CRITICAL message (for very serious errors).\n"
          ]
        }
      ]
    },
    {
      "cell_type": "markdown",
      "source": [
        "8. Write a program to handle a file opening error using exception handling."
      ],
      "metadata": {
        "id": "3DOQSgtVAcd5"
      }
    },
    {
      "cell_type": "code",
      "source": [
        "filename = 'nonexistent_file.txt'\n",
        "\n",
        "try:\n",
        "    with open(filename, 'r') as file:\n",
        "        content = file.read()\n",
        "        print(content)\n",
        "except FileNotFoundError:\n",
        "    print(f\"Error: The file '{filename}' was not found.\")\n",
        "except PermissionError:\n",
        "    print(f\"Error: You do not have permission to access '{filename}'.\")\n",
        "except Exception as e:\n",
        "    print(f\"An unexpected error occurred: {e}\")"
      ],
      "metadata": {
        "colab": {
          "base_uri": "https://localhost:8080/"
        },
        "id": "Sl3wt8lQPMxd",
        "outputId": "f8a7b734-d677-4857-d641-fabaff53e439"
      },
      "execution_count": null,
      "outputs": [
        {
          "output_type": "stream",
          "name": "stdout",
          "text": [
            "Error: The file 'nonexistent_file.txt' was not found.\n"
          ]
        }
      ]
    },
    {
      "cell_type": "markdown",
      "source": [
        "9. How can you read a file line by line and store its content in a list in Python?"
      ],
      "metadata": {
        "id": "VA7iDSzdAePQ"
      }
    },
    {
      "cell_type": "code",
      "source": [
        "filename = 'example.txt'\n",
        "\n",
        "try:\n",
        "    with open(filename, 'r') as file:\n",
        "        lines = file.readlines()\n",
        "    print(lines)\n",
        "except FileNotFoundError:\n",
        "    print(f\"Error: The file '{filename}' does not exist.\")"
      ],
      "metadata": {
        "colab": {
          "base_uri": "https://localhost:8080/"
        },
        "id": "KqMiFXNjPUQk",
        "outputId": "a990176d-8eb9-465f-ecd5-1f2737fddae7"
      },
      "execution_count": null,
      "outputs": [
        {
          "output_type": "stream",
          "name": "stdout",
          "text": [
            "['Hello, world!']\n"
          ]
        }
      ]
    },
    {
      "cell_type": "markdown",
      "source": [
        "10. How can you append data to an existing file in Python?"
      ],
      "metadata": {
        "id": "rMoaBGqTAlww"
      }
    },
    {
      "cell_type": "code",
      "source": [
        "with open('example.txt', 'a') as file:\n",
        "    file.write(\"This is a new line.\\n\")"
      ],
      "metadata": {
        "id": "LrQUWJRZPb0l"
      },
      "execution_count": null,
      "outputs": []
    },
    {
      "cell_type": "markdown",
      "source": [
        "11. Write a Python program that uses a try-except block to handle an error when attempting to access a\n",
        "dictionary key that doesn't exist."
      ],
      "metadata": {
        "id": "gHXLXXYeAqEZ"
      }
    },
    {
      "cell_type": "code",
      "source": [
        "my_dict = {'name': 'Alice', 'age': 30}\n",
        "\n",
        "try:\n",
        "    value = my_dict['address']\n",
        "    print(value)\n",
        "except KeyError:\n",
        "    print(\"Error: The key 'address' does not exist in the dictionary.\")"
      ],
      "metadata": {
        "colab": {
          "base_uri": "https://localhost:8080/"
        },
        "id": "_BHNN_rkPhsd",
        "outputId": "4b9a82a1-81d8-4adc-8fbf-9b8e4c7110cb"
      },
      "execution_count": null,
      "outputs": [
        {
          "output_type": "stream",
          "name": "stdout",
          "text": [
            "Error: The key 'address' does not exist in the dictionary.\n"
          ]
        }
      ]
    },
    {
      "cell_type": "markdown",
      "source": [
        "12. Write a program that demonstrates using multiple except blocks to handle different types of exceptions."
      ],
      "metadata": {
        "id": "DXs_gOwmAu-o"
      }
    },
    {
      "cell_type": "code",
      "source": [
        "try:\n",
        "    num1 = 10\n",
        "    num2 = 0\n",
        "    result = num1 / num2\n",
        "\n",
        "    with open('nonexistent_file.txt', 'r') as file:\n",
        "        content = file.read()\n",
        "\n",
        "except ZeroDivisionError:\n",
        "    print(\"Error: Cannot divide by zero.\")\n",
        "\n",
        "except FileNotFoundError:\n",
        "    print(\"Error: The file does not exist.\")\n",
        "\n",
        "except Exception as e:\n",
        "    print(f\"An unexpected error occurred: {e}\")"
      ],
      "metadata": {
        "colab": {
          "base_uri": "https://localhost:8080/"
        },
        "id": "Re8a9WOQPpYU",
        "outputId": "a1c2ee05-37e1-4c2e-8b84-4687050b7932"
      },
      "execution_count": null,
      "outputs": [
        {
          "output_type": "stream",
          "name": "stdout",
          "text": [
            "Error: Cannot divide by zero.\n"
          ]
        }
      ]
    },
    {
      "cell_type": "markdown",
      "source": [
        "13. How would you check if a file exists before attempting to read it in Python?"
      ],
      "metadata": {
        "id": "TJH3v_L4A0m4"
      }
    },
    {
      "cell_type": "code",
      "source": [
        "from pathlib import Path\n",
        "\n",
        "file_path = Path('example.txt')\n",
        "\n",
        "if file_path.exists():\n",
        "    with file_path.open('r') as file:\n",
        "        contents = file.read()\n",
        "else:\n",
        "    print(\"File does not exist.\")"
      ],
      "metadata": {
        "id": "DULv2RLZPyI1",
        "colab": {
          "base_uri": "https://localhost:8080/"
        },
        "outputId": "db38934e-8a15-49d4-c5b6-68ed481c410f"
      },
      "execution_count": 1,
      "outputs": [
        {
          "output_type": "stream",
          "name": "stdout",
          "text": [
            "File does not exist.\n"
          ]
        }
      ]
    },
    {
      "cell_type": "markdown",
      "source": [
        "14. Write a program that uses the logging module to log both informational and error messages."
      ],
      "metadata": {
        "id": "1tdGxlXYA4yh"
      }
    },
    {
      "cell_type": "code",
      "source": [
        "import logging\n",
        "\n",
        "logging.basicConfig(\n",
        "    filename='app.log',\n",
        "    level=logging.DEBUG,\n",
        "    format='%(asctime)s - %(levelname)s - %(message)s'\n",
        ")\n",
        "\n",
        "logging.info('Program started')\n",
        "\n",
        "try:\n",
        "    result = 10 / 0\n",
        "except ZeroDivisionError as e:\n",
        "    logging.error('An error occurred: Division by zero', exc_info=True)\n",
        "\n",
        "logging.info('Program ended')"
      ],
      "metadata": {
        "colab": {
          "base_uri": "https://localhost:8080/"
        },
        "id": "IyrLHyYp-JJ1",
        "outputId": "9773ca07-b51e-4173-c72c-b767fccfaff6"
      },
      "execution_count": 2,
      "outputs": [
        {
          "output_type": "stream",
          "name": "stderr",
          "text": [
            "ERROR:root:An error occurred: Division by zero\n",
            "Traceback (most recent call last):\n",
            "  File \"<ipython-input-2-ba479de0c179>\", line 12, in <cell line: 0>\n",
            "    result = 10 / 0\n",
            "             ~~~^~~\n",
            "ZeroDivisionError: division by zero\n"
          ]
        }
      ]
    },
    {
      "cell_type": "markdown",
      "source": [
        "15. Write a Python program that prints the content of a file and handles the case when the file is empty."
      ],
      "metadata": {
        "id": "khqbpmfnA9GJ"
      }
    },
    {
      "cell_type": "code",
      "source": [
        "def print_file_contents(file_path):\n",
        "    try:\n",
        "        with open(file_path, 'r') as file:\n",
        "            contents = file.read()\n",
        "            if contents:\n",
        "                print(\"File Contents:\\n\")\n",
        "                print(contents)\n",
        "            else:\n",
        "                print(\"The file is empty.\")\n",
        "    except FileNotFoundError:\n",
        "        print(f\"Error: The file '{file_path}' does not exist.\")\n",
        "    except Exception as e:\n",
        "        print(f\"An unexpected error occurred: {e}\")\n",
        "\n",
        "file_path = 'example.txt'\n",
        "print_file_contents(file_path)"
      ],
      "metadata": {
        "colab": {
          "base_uri": "https://localhost:8080/"
        },
        "id": "cy0BrT-o-rUE",
        "outputId": "9c4b2811-46e2-4725-a7de-d10c1b418903"
      },
      "execution_count": 4,
      "outputs": [
        {
          "output_type": "stream",
          "name": "stdout",
          "text": [
            "Error: The file 'example.txt' does not exist.\n"
          ]
        }
      ]
    },
    {
      "cell_type": "markdown",
      "source": [
        "16. Demonstrate how to use memory profiling to check the memory usage of a small program."
      ],
      "metadata": {
        "id": "-vFUKPZkBBDK"
      }
    },
    {
      "cell_type": "code",
      "source": [
        "from memory_profiler import profile\n",
        "\n",
        "@profile\n",
        "def generate_large_list():\n",
        "    print(\"Generating a large list...\")\n",
        "    large_list = [i for i in range(1000000)]  # List with 1 million numbers\n",
        "    return large_list\n",
        "\n",
        "if __name__ == \"__main__\":\n",
        "    generate_large_list()"
      ],
      "metadata": {
        "id": "d5DGx_llB4sl"
      },
      "execution_count": null,
      "outputs": []
    },
    {
      "cell_type": "markdown",
      "source": [
        "17. Write a Python program to create and write a list of numbers to a file, one number per line."
      ],
      "metadata": {
        "id": "RK76VRVxBI0p"
      }
    },
    {
      "cell_type": "code",
      "source": [
        "def write_numbers_to_file(file_path, numbers):\n",
        "    try:\n",
        "        with open(file_path, 'w') as file:\n",
        "            for number in numbers:\n",
        "                file.write(f\"{number}\\n\")\n",
        "        print(f\"Numbers have been written to {file_path}\")\n",
        "    except Exception as e:\n",
        "        print(f\"An error occurred: {e}\")\n",
        "\n",
        "numbers = [1, 2, 3, 4, 5, 6, 7, 8, 9, 10]\n",
        "file_path = 'numbers.txt'\n",
        "write_numbers_to_file(file_path, numbers)"
      ],
      "metadata": {
        "colab": {
          "base_uri": "https://localhost:8080/"
        },
        "id": "SSuWDzHN_gV7",
        "outputId": "1573d4dd-9619-4003-c7bf-ee2dae7eebfb"
      },
      "execution_count": 31,
      "outputs": [
        {
          "output_type": "stream",
          "name": "stdout",
          "text": [
            "Numbers have been written to numbers.txt\n"
          ]
        }
      ]
    },
    {
      "cell_type": "markdown",
      "source": [
        "18. How would you implement a basic logging setup that logs to a file with rotation after 1MB?"
      ],
      "metadata": {
        "id": "uCKRsBBCBKVh"
      }
    },
    {
      "cell_type": "code",
      "source": [
        "import logging\n",
        "from logging.handlers import RotatingFileHandler\n",
        "\n",
        "logger = logging.getLogger('my_logger')\n",
        "logger.setLevel(logging.DEBUG)\n",
        "\n",
        "handler = RotatingFileHandler(\n",
        "    'app.log',\n",
        "    maxBytes=1_000_000,\n",
        "    backupCount=3\n",
        ")\n",
        "\n",
        "formatter = logging.Formatter('%(asctime)s - %(levelname)s - %(message)s')\n",
        "handler.setFormatter(formatter)\n",
        "\n",
        "logger.addHandler(handler)\n",
        "\n",
        "logger.info('This is an informational message.')\n",
        "logger.error('This is an error message.')"
      ],
      "metadata": {
        "colab": {
          "base_uri": "https://localhost:8080/"
        },
        "id": "qGoKjDXo_hkT",
        "outputId": "d60bf3a9-8248-488f-e11d-06f9dcdf1457"
      },
      "execution_count": 12,
      "outputs": [
        {
          "output_type": "stream",
          "name": "stderr",
          "text": [
            "INFO:my_logger:This is an informational message.\n",
            "ERROR:my_logger:This is an error message.\n"
          ]
        }
      ]
    },
    {
      "cell_type": "markdown",
      "source": [
        "19.  Write a program that handles both IndexError and KeyError using a try-except block."
      ],
      "metadata": {
        "id": "jpWWqP7KBPcx"
      }
    },
    {
      "cell_type": "code",
      "source": [
        "def handle_errors():\n",
        "    my_list = [10, 20, 30]\n",
        "    my_dict = {'a': 1, 'b': 2}\n",
        "\n",
        "    try:\n",
        "        print(\"List item at index 5:\", my_list[5])\n",
        "\n",
        "        print(\"Value for key 'z':\", my_dict['z'])\n",
        "\n",
        "    except IndexError as ie:\n",
        "        print(f\"IndexError occurred: {ie}\")\n",
        "\n",
        "    except KeyError as ke:\n",
        "        print(f\"KeyError occurred: {ke}\")\n",
        "\n",
        "if __name__ == \"__main__\":\n",
        "    handle_errors()"
      ],
      "metadata": {
        "colab": {
          "base_uri": "https://localhost:8080/"
        },
        "id": "VMUnaRlT_7Ie",
        "outputId": "25958737-27df-43f7-f16f-d2faa8804ebd"
      },
      "execution_count": 14,
      "outputs": [
        {
          "output_type": "stream",
          "name": "stdout",
          "text": [
            "IndexError occurred: list index out of range\n"
          ]
        }
      ]
    },
    {
      "cell_type": "markdown",
      "source": [
        "20. How would you open a file and read its contents using a context manager in Python?"
      ],
      "metadata": {
        "id": "i3uwydfLBTxw"
      }
    },
    {
      "cell_type": "code",
      "source": [
        "file_path = 'example.txt'\n",
        "\n",
        "with open(file_path, 'r') as file:\n",
        "    for line in file:\n",
        "        print(line.strip())"
      ],
      "metadata": {
        "colab": {
          "base_uri": "https://localhost:8080/"
        },
        "id": "hkjkq05j__m8",
        "outputId": "a0320ae9-f825-4dbf-ce42-94732a276c13"
      },
      "execution_count": 21,
      "outputs": [
        {
          "output_type": "stream",
          "name": "stdout",
          "text": [
            "Hello, world!\n"
          ]
        }
      ]
    },
    {
      "cell_type": "markdown",
      "source": [
        "21. Write a Python program that reads a file and prints the number of occurrences of a specific word."
      ],
      "metadata": {
        "id": "nI7X5NI5BaPR"
      }
    },
    {
      "cell_type": "code",
      "source": [
        "def count_word_occurrences(file_path, target_word):\n",
        "    try:\n",
        "        with open(file_path, 'r') as file:\n",
        "            contents = file.read().lower()\n",
        "            words = contents.split()\n",
        "            count = words.count(target_word.lower())\n",
        "            print(f\"The word '{target_word}' appears {count} times in the file.\")\n",
        "    except FileNotFoundError:\n",
        "        print(f\"Error: The file '{file_path}' does not exist.\")\n",
        "    except Exception as e:\n",
        "        print(f\"An error occurred: {e}\")\n",
        "\n",
        "file_path = 'example.txt'\n",
        "word_to_search = 'python'\n",
        "count_word_occurrences(file_path, word_to_search)"
      ],
      "metadata": {
        "colab": {
          "base_uri": "https://localhost:8080/"
        },
        "id": "DdhLUtvfAzSL",
        "outputId": "cb52d34c-222d-4b86-c5c2-d587723be7ea"
      },
      "execution_count": 24,
      "outputs": [
        {
          "output_type": "stream",
          "name": "stdout",
          "text": [
            "The word 'python' appears 0 times in the file.\n"
          ]
        }
      ]
    },
    {
      "cell_type": "markdown",
      "source": [
        "22. How can you check if a file is empty before attempting to read its contents?"
      ],
      "metadata": {
        "id": "j_EoPU-BBePh"
      }
    },
    {
      "cell_type": "code",
      "source": [
        "import os\n",
        "\n",
        "def read_file_if_not_empty(file_path):\n",
        "    if os.path.exists(file_path) and os.path.getsize(file_path) > 0:\n",
        "        with open(file_path, 'r') as file:\n",
        "            contents = file.read()\n",
        "            print(contents)\n",
        "    else:\n",
        "        print(f\"The file '{file_path}' is either empty or does not exist.\")\n",
        "\n",
        "file_path = 'example.txt'\n",
        "read_file_if_not_empty(file_path)"
      ],
      "metadata": {
        "colab": {
          "base_uri": "https://localhost:8080/"
        },
        "id": "IwyqTOhPBEPO",
        "outputId": "b75bd927-9af3-45f8-e956-02eebe51e30c"
      },
      "execution_count": 26,
      "outputs": [
        {
          "output_type": "stream",
          "name": "stdout",
          "text": [
            "Hello, world!\n"
          ]
        }
      ]
    },
    {
      "cell_type": "markdown",
      "source": [
        "23. Write a Python program that writes to a log file when an error occurs during file handling."
      ],
      "metadata": {
        "id": "N7plfEb1Bg4B"
      }
    },
    {
      "cell_type": "code",
      "source": [
        "import logging\n",
        "\n",
        "logging.basicConfig(\n",
        "    filename='error_log.txt',\n",
        "    level=logging.ERROR,\n",
        "    format='%(asctime)s - %(levelname)s - %(message)s'\n",
        ")\n",
        "\n",
        "def read_file(file_path):\n",
        "    try:\n",
        "        with open(file_path, 'r') as file:\n",
        "            contents = file.read()\n",
        "            print(contents)\n",
        "    except Exception as e:\n",
        "        logging.error(f\"Error occurred while handling file '{file_path}': {e}\")\n",
        "        print(f\"An error occurred. Please check the log file for details.\")\n",
        "\n",
        "file_path = 'non_existent_file.txt'\n",
        "read_file(file_path)"
      ],
      "metadata": {
        "colab": {
          "base_uri": "https://localhost:8080/"
        },
        "id": "FSRs6FbMBVwM",
        "outputId": "486cdc5c-8c47-4927-961c-b51cdf743f3f"
      },
      "execution_count": 29,
      "outputs": [
        {
          "output_type": "stream",
          "name": "stderr",
          "text": [
            "ERROR:root:Error occurred while handling file 'non_existent_file.txt': [Errno 2] No such file or directory: 'non_existent_file.txt'\n"
          ]
        },
        {
          "output_type": "stream",
          "name": "stdout",
          "text": [
            "An error occurred. Please check the log file for details.\n"
          ]
        }
      ]
    },
    {
      "cell_type": "code",
      "source": [],
      "metadata": {
        "id": "Pc9ViQ1RBWQB"
      },
      "execution_count": null,
      "outputs": []
    }
  ]
}