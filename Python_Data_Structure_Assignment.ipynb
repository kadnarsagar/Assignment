{
  "nbformat": 4,
  "nbformat_minor": 0,
  "metadata": {
    "colab": {
      "provenance": []
    },
    "kernelspec": {
      "name": "python3",
      "display_name": "Python 3"
    },
    "language_info": {
      "name": "python"
    }
  },
  "cells": [
    {
      "cell_type": "markdown",
      "source": [
        "# **Data Types and Structures Questions**"
      ],
      "metadata": {
        "id": "AlB13KKLUwE3"
      }
    },
    {
      "cell_type": "markdown",
      "source": [
        "1. What are data structures, and why are they important.\n",
        "\n",
        "->>\n",
        "    Ways to organize and sorting data in computer that it can be accessed and modified efficiently.\n",
        "  \n",
        "  - Reduced the time complexity.\n",
        "  - Problem solving.\n",
        "  - Scalability.\n",
        "  - Organization.\n",
        "  - Real world modeling."
      ],
      "metadata": {
        "id": "7PiMJqYwVHgO"
      }
    },
    {
      "cell_type": "markdown",
      "source": [
        "2. Explain the difference between mutable and immutable data types with examples.\n",
        "\n",
        "->>\n",
        "  Mutable data type can be change after they are created.\n",
        "\n",
        "    Examples -\n",
        "        List\n",
        "        Dictionary\n",
        "        Set"
      ],
      "metadata": {
        "id": "wW5xU0zrVoAI"
      }
    },
    {
      "cell_type": "code",
      "source": [
        " # List (Mutable data type)\n",
        " my_list = [1, 2, 3, 4, 5]\n",
        " my_list.append(6)\n",
        " my_list.append(7)\n",
        " my_list"
      ],
      "metadata": {
        "colab": {
          "base_uri": "https://localhost:8080/"
        },
        "id": "zvNJvYfXiNa6",
        "outputId": "aaaba988-d100-475c-892e-d319a58ba468"
      },
      "execution_count": null,
      "outputs": [
        {
          "output_type": "execute_result",
          "data": {
            "text/plain": [
              "[1, 2, 3, 4, 5, 6, 7]"
            ]
          },
          "metadata": {},
          "execution_count": 2
        }
      ]
    },
    {
      "cell_type": "code",
      "source": [
        " # Dictionary (Mutable data type)\n",
        " my_dict = {\"Course\" : \"pwskills\", \"Sagar\" : 3}\n",
        " my_dict[\"Course\"] = \"Data analytics\"\n",
        " my_dict"
      ],
      "metadata": {
        "colab": {
          "base_uri": "https://localhost:8080/"
        },
        "id": "JRcAvd0RiwUe",
        "outputId": "56e9f966-e424-4197-9293-5b6fc890fd47"
      },
      "execution_count": null,
      "outputs": [
        {
          "output_type": "execute_result",
          "data": {
            "text/plain": [
              "{'Course': 'Data analytics', 'Sagar': 3}"
            ]
          },
          "metadata": {},
          "execution_count": 4
        }
      ]
    },
    {
      "cell_type": "code",
      "source": [
        "# Set (Mutable data type)\n",
        "my_set = {1, 2, 3, 4, 5, 6}\n",
        "my_set.add(7)\n",
        "my_set.add(8)\n",
        "my_set"
      ],
      "metadata": {
        "colab": {
          "base_uri": "https://localhost:8080/"
        },
        "id": "tXZQblGwjW--",
        "outputId": "be92dcb9-834e-4ef5-f8ef-f47ad5d5d065"
      },
      "execution_count": null,
      "outputs": [
        {
          "output_type": "execute_result",
          "data": {
            "text/plain": [
              "{1, 2, 3, 4, 5, 6, 7, 8}"
            ]
          },
          "metadata": {},
          "execution_count": 5
        }
      ]
    },
    {
      "cell_type": "markdown",
      "source": [
        "Immutable data type cannot be changed after they are created.\n",
        "\n",
        "    Examples -\n",
        "        String\n",
        "        Tuple"
      ],
      "metadata": {
        "id": "LajJ5R08kCIA"
      }
    },
    {
      "cell_type": "code",
      "source": [
        "# String (Immutable data type)\n",
        "my_str = \"Sagar\"\n",
        "my_str = \"Hello\"    # Created new string\n",
        "my_str"
      ],
      "metadata": {
        "colab": {
          "base_uri": "https://localhost:8080/",
          "height": 36
        },
        "id": "Iy226ovTkSBW",
        "outputId": "5aac401a-93dc-47f2-a937-aee97e972793"
      },
      "execution_count": null,
      "outputs": [
        {
          "output_type": "execute_result",
          "data": {
            "text/plain": [
              "'Hello'"
            ],
            "application/vnd.google.colaboratory.intrinsic+json": {
              "type": "string"
            }
          },
          "metadata": {},
          "execution_count": 14
        }
      ]
    },
    {
      "cell_type": "code",
      "source": [
        "# Tuple (Immutable data type)\n",
        "my_tup = (1, 2, 3, 4)\n",
        "my_tup[0] = 10\n",
        "my_tup"
      ],
      "metadata": {
        "colab": {
          "base_uri": "https://localhost:8080/",
          "height": 199
        },
        "id": "7SGWWo3DlTO-",
        "outputId": "ae4f434c-8757-49c8-e500-8743083024c2"
      },
      "execution_count": null,
      "outputs": [
        {
          "output_type": "error",
          "ename": "TypeError",
          "evalue": "'tuple' object does not support item assignment",
          "traceback": [
            "\u001b[0;31m---------------------------------------------------------------------------\u001b[0m",
            "\u001b[0;31mTypeError\u001b[0m                                 Traceback (most recent call last)",
            "\u001b[0;32m<ipython-input-16-04a654a5e3da>\u001b[0m in \u001b[0;36m<cell line: 0>\u001b[0;34m()\u001b[0m\n\u001b[1;32m      1\u001b[0m \u001b[0;31m# Tuple (Mutable data type)\u001b[0m\u001b[0;34m\u001b[0m\u001b[0;34m\u001b[0m\u001b[0m\n\u001b[1;32m      2\u001b[0m \u001b[0mmy_tup\u001b[0m \u001b[0;34m=\u001b[0m \u001b[0;34m(\u001b[0m\u001b[0;36m1\u001b[0m\u001b[0;34m,\u001b[0m \u001b[0;36m2\u001b[0m\u001b[0;34m,\u001b[0m \u001b[0;36m3\u001b[0m\u001b[0;34m,\u001b[0m \u001b[0;36m4\u001b[0m\u001b[0;34m)\u001b[0m\u001b[0;34m\u001b[0m\u001b[0;34m\u001b[0m\u001b[0m\n\u001b[0;32m----> 3\u001b[0;31m \u001b[0mmy_tup\u001b[0m\u001b[0;34m[\u001b[0m\u001b[0;36m0\u001b[0m\u001b[0;34m]\u001b[0m \u001b[0;34m=\u001b[0m \u001b[0;36m10\u001b[0m\u001b[0;34m\u001b[0m\u001b[0;34m\u001b[0m\u001b[0m\n\u001b[0m\u001b[1;32m      4\u001b[0m \u001b[0mmy_tup\u001b[0m\u001b[0;34m\u001b[0m\u001b[0;34m\u001b[0m\u001b[0m\n",
            "\u001b[0;31mTypeError\u001b[0m: 'tuple' object does not support item assignment"
          ]
        }
      ]
    },
    {
      "cell_type": "markdown",
      "source": [
        "3. What are the main differences between lists and tuples in Python.\n",
        "\n",
        "->>\n",
        "\n",
        "             Lists                       Tuple\n",
        "             \n",
        "             -Mutable                 -   Immutable\n",
        "           -   []                       -   ()\n",
        "         - Slightly Slower            - Slightly Faster\n",
        "          - Data change               - data not change\n",
        "       - More memory used             - Less memory use\n",
        "       - .append(), .remove()        -  .count(), .index()\n",
        "         method available               method available\n",
        "       - No Dictionary key            -  dictinary key"
      ],
      "metadata": {
        "id": "lywc2L5qVsS-"
      }
    },
    {
      "cell_type": "markdown",
      "source": [
        "4. Describe how dictionaries store data.\n",
        "\n",
        "->>\n",
        "       Dictionary is a collection of Key Value pairs.  {Key : Value}\n",
        "\n",
        "       my_dict = {\"name\":\"sagar\", \"age\":26, \"city\":\"sangamner\"}\n",
        "\n",
        "    Hashing the key.\n",
        "    Accessing the value.\n",
        "    Storing the pair."
      ],
      "metadata": {
        "id": "P4sqXdYtV5-u"
      }
    },
    {
      "cell_type": "code",
      "source": [
        "person = {\"name\": \"Sagar\", \"age\": 26}\n",
        "person"
      ],
      "metadata": {
        "colab": {
          "base_uri": "https://localhost:8080/"
        },
        "id": "JFSG4t85qrNm",
        "outputId": "75307156-2198-4554-d249-7c18643c8181"
      },
      "execution_count": null,
      "outputs": [
        {
          "output_type": "execute_result",
          "data": {
            "text/plain": [
              "{'name': 'Sagar', 'age': 26}"
            ]
          },
          "metadata": {},
          "execution_count": 1
        }
      ]
    },
    {
      "cell_type": "markdown",
      "source": [
        "5. Why might you use a set instead of a list in Python.\n",
        "\n",
        "->>      \n",
        "\n",
        "*   set eliminate duplicates.\n",
        "*   Sets is a fast to eliminate.\n",
        "*   Set supports mathematical operations like union, intersection, difference, symmetric_difference.\n"
      ],
      "metadata": {
        "id": "BbPvJQZRWB2-"
      }
    },
    {
      "cell_type": "code",
      "source": [
        "my_set = {1, 1, 2, 2, 2, 4, 3, 7, 5}\n",
        "my_set"
      ],
      "metadata": {
        "colab": {
          "base_uri": "https://localhost:8080/"
        },
        "id": "Uq-xj_6kbBKG",
        "outputId": "5e85019f-a216-4b66-89ae-e86cca7c36e9"
      },
      "execution_count": null,
      "outputs": [
        {
          "output_type": "execute_result",
          "data": {
            "text/plain": [
              "{1, 2, 3, 4, 5, 7}"
            ]
          },
          "metadata": {},
          "execution_count": 3
        }
      ]
    },
    {
      "cell_type": "markdown",
      "source": [
        "6. What is a string in Python, and how is it different from a list.\n",
        "\n",
        "->>\n",
        "     String is a sequence of characters and its Immutable, it can support index, slicing.\n",
        "\n",
        "     lists is supports any data type like int, string, it is mutable.\n"
      ],
      "metadata": {
        "id": "Ur-3lPpzWYbe"
      }
    },
    {
      "cell_type": "code",
      "source": [
        "# String\n",
        "my_str = \"Sagar\"\n",
        "my_str"
      ],
      "metadata": {
        "colab": {
          "base_uri": "https://localhost:8080/",
          "height": 36
        },
        "id": "7pETOdttb6l1",
        "outputId": "2434bd20-d06b-475c-c246-0f486c6ab7e1"
      },
      "execution_count": null,
      "outputs": [
        {
          "output_type": "execute_result",
          "data": {
            "text/plain": [
              "'Sagar'"
            ],
            "application/vnd.google.colaboratory.intrinsic+json": {
              "type": "string"
            }
          },
          "metadata": {},
          "execution_count": 5
        }
      ]
    },
    {
      "cell_type": "code",
      "source": [
        "# List\n",
        "my_list = [\"a\", \"b\", \"c\"]\n",
        "my_list"
      ],
      "metadata": {
        "colab": {
          "base_uri": "https://localhost:8080/"
        },
        "id": "XvKKMPQscnoN",
        "outputId": "2a0bc543-4001-4ab3-c578-0198ee46efab"
      },
      "execution_count": null,
      "outputs": [
        {
          "output_type": "execute_result",
          "data": {
            "text/plain": [
              "['a', 'b', 'c']"
            ]
          },
          "metadata": {},
          "execution_count": 6
        }
      ]
    },
    {
      "cell_type": "markdown",
      "source": [
        "7. How do tuples ensure data integrity in Python.\n",
        "\n",
        "->>  Tuples are immutable means if a tuple created then cannot be changes"
      ],
      "metadata": {
        "id": "mQXpCzwAWj5m"
      }
    },
    {
      "cell_type": "code",
      "source": [
        "my_tup = (1, 2, 3, 4, 5, 6)\n",
        "my_tup[0]= 10"
      ],
      "metadata": {
        "colab": {
          "base_uri": "https://localhost:8080/",
          "height": 163
        },
        "id": "yfN4mShQdBUs",
        "outputId": "f165e12a-70c2-42b6-c9b5-86829359f330"
      },
      "execution_count": null,
      "outputs": [
        {
          "output_type": "error",
          "ename": "TypeError",
          "evalue": "'tuple' object does not support item assignment",
          "traceback": [
            "\u001b[0;31m---------------------------------------------------------------------------\u001b[0m",
            "\u001b[0;31mTypeError\u001b[0m                                 Traceback (most recent call last)",
            "\u001b[0;32m<ipython-input-7-08a68b4c14f5>\u001b[0m in \u001b[0;36m<cell line: 0>\u001b[0;34m()\u001b[0m\n\u001b[1;32m      1\u001b[0m \u001b[0mmy_tup\u001b[0m \u001b[0;34m=\u001b[0m \u001b[0;34m(\u001b[0m\u001b[0;36m1\u001b[0m\u001b[0;34m,\u001b[0m \u001b[0;36m2\u001b[0m\u001b[0;34m,\u001b[0m \u001b[0;36m3\u001b[0m\u001b[0;34m,\u001b[0m \u001b[0;36m4\u001b[0m\u001b[0;34m,\u001b[0m \u001b[0;36m5\u001b[0m\u001b[0;34m,\u001b[0m \u001b[0;36m6\u001b[0m\u001b[0;34m)\u001b[0m\u001b[0;34m\u001b[0m\u001b[0;34m\u001b[0m\u001b[0m\n\u001b[0;32m----> 2\u001b[0;31m \u001b[0mmy_tup\u001b[0m\u001b[0;34m[\u001b[0m\u001b[0;36m0\u001b[0m\u001b[0;34m]\u001b[0m\u001b[0;34m=\u001b[0m \u001b[0;36m10\u001b[0m\u001b[0;34m\u001b[0m\u001b[0;34m\u001b[0m\u001b[0m\n\u001b[0m",
            "\u001b[0;31mTypeError\u001b[0m: 'tuple' object does not support item assignment"
          ]
        }
      ]
    },
    {
      "cell_type": "markdown",
      "source": [
        "8. What is a hash table, and how does it relate to dictionaries in Python.\n",
        "\n",
        "->> Hash table is that stores key value pairs and used hash functions.\n",
        "\n",
        "dictionaries are built using hash function."
      ],
      "metadata": {
        "id": "2xPia7FEWlq2"
      }
    },
    {
      "cell_type": "code",
      "source": [
        "person = {\"name\": \"Alice\", \"age\": 30}\n",
        "person"
      ],
      "metadata": {
        "colab": {
          "base_uri": "https://localhost:8080/"
        },
        "id": "ErsdHbHge8LL",
        "outputId": "91f87b25-ce6d-460a-8bdb-d2a864c5279f"
      },
      "execution_count": null,
      "outputs": [
        {
          "output_type": "execute_result",
          "data": {
            "text/plain": [
              "{'name': 'Alice', 'age': 30}"
            ]
          },
          "metadata": {},
          "execution_count": 8
        }
      ]
    },
    {
      "cell_type": "markdown",
      "source": [
        "9. Can lists contain different data types in Python.\n",
        "\n",
        "->>  lists can contain heterogeneous data types and objects. int, bool, string functions can be stored in list"
      ],
      "metadata": {
        "id": "wOGI9GD4WtUG"
      }
    },
    {
      "cell_type": "code",
      "source": [
        "my_list = [42, \"hello\", 3.14, True, None, [1, 2, 3], {\"key\": \"value\"}]\n",
        "my_list"
      ],
      "metadata": {
        "colab": {
          "base_uri": "https://localhost:8080/"
        },
        "id": "Q8VpTj9qfxv7",
        "outputId": "9d5666de-c718-42bb-c857-61e805f23b9d"
      },
      "execution_count": null,
      "outputs": [
        {
          "output_type": "execute_result",
          "data": {
            "text/plain": [
              "[42, 'hello', 3.14, True, None, [1, 2, 3], {'key': 'value'}]"
            ]
          },
          "metadata": {},
          "execution_count": 9
        }
      ]
    },
    {
      "cell_type": "markdown",
      "source": [
        "10.  Explain why strings are immutable in Python.\n",
        "\n",
        "->> string is a immutable.\n",
        "\n",
        "Hashability, performance, avoid accidental changes, clean design."
      ],
      "metadata": {
        "id": "qKUqnkH1W5pW"
      }
    },
    {
      "cell_type": "markdown",
      "source": [
        "11. What advantages do dictionaries offer over lists for certain tasks.\n",
        "\n",
        "->>  lists an orderd collection of items, accessedd by index.\n",
        "\n",
        "dictioinary an unorderd collection of key value pairs, accessed by key."
      ],
      "metadata": {
        "id": "TL9NYTKzW7jW"
      }
    },
    {
      "cell_type": "markdown",
      "source": [
        "12. Describe a scenario where using a tuple would be preferable over a list.\n",
        "\n",
        "->> tuples are immutable, once created it cannot be changed. it is fixed size, safe as keys."
      ],
      "metadata": {
        "id": "welBMa2VWcFn"
      }
    },
    {
      "cell_type": "markdown",
      "source": [
        "13. How do sets handle duplicate values in Python.\n",
        "\n",
        "->> sets automatically removes duplicates, it can store unique values."
      ],
      "metadata": {
        "id": "uyv2SECrXN1f"
      }
    },
    {
      "cell_type": "code",
      "source": [
        "my_set = {1, 2, 2, 3, 4, 4, 4}\n",
        "my_set"
      ],
      "metadata": {
        "colab": {
          "base_uri": "https://localhost:8080/"
        },
        "id": "RFRnC6dfjG7B",
        "outputId": "47894ae0-1051-416d-eff3-357802c72b6a"
      },
      "execution_count": null,
      "outputs": [
        {
          "output_type": "execute_result",
          "data": {
            "text/plain": [
              "{1, 2, 3, 4}"
            ]
          },
          "metadata": {},
          "execution_count": 11
        }
      ]
    },
    {
      "cell_type": "markdown",
      "source": [
        "14. How does the “in” keyword work differently for lists and dictionaries.\n",
        "\n",
        "->> if in used for a list, python checks the value exists anywhere in the list.\n",
        "\n",
        "if in used for a dictionary, python checks the key exists anywhere in the dictionaries."
      ],
      "metadata": {
        "id": "uFBJ2kXYXSrG"
      }
    },
    {
      "cell_type": "code",
      "source": [
        "# lists\n",
        "my_list = [10, 20, 30, 40]\n",
        "20 in my_list"
      ],
      "metadata": {
        "colab": {
          "base_uri": "https://localhost:8080/"
        },
        "id": "HbpHevo3kb-d",
        "outputId": "311b4bf1-76cf-44a5-cda3-e1f3d083fc0a"
      },
      "execution_count": null,
      "outputs": [
        {
          "output_type": "execute_result",
          "data": {
            "text/plain": [
              "True"
            ]
          },
          "metadata": {},
          "execution_count": 13
        }
      ]
    },
    {
      "cell_type": "code",
      "source": [
        "# dictionary\n",
        "my_dict = {\"name\": \"Alice\", \"age\": 30}\n",
        "\"name\" in my_dict"
      ],
      "metadata": {
        "colab": {
          "base_uri": "https://localhost:8080/"
        },
        "id": "REjJ7cmDkoxQ",
        "outputId": "de2456c2-46c8-4143-e8fc-6bc698988eb6"
      },
      "execution_count": null,
      "outputs": [
        {
          "output_type": "execute_result",
          "data": {
            "text/plain": [
              "True"
            ]
          },
          "metadata": {},
          "execution_count": 15
        }
      ]
    },
    {
      "cell_type": "markdown",
      "source": [
        "15. Can you modify the elements of a tuple? Explain why or why not.\n",
        "\n",
        "->>  can not modify the elements of a tuple, because tuples are Immutable, once tuple created you cannot be changed.\n",
        "Data safety, hashability, performance.\n",
        "\n",
        "but, tuples mutable objects can be modified -"
      ],
      "metadata": {
        "id": "_eDi-8o4XUU-"
      }
    },
    {
      "cell_type": "code",
      "source": [
        "my_tuple = ([1, 2], 3)\n",
        "my_tuple[0].append(4)\n",
        "my_tuple"
      ],
      "metadata": {
        "colab": {
          "base_uri": "https://localhost:8080/"
        },
        "id": "d3E-BwW7mtfX",
        "outputId": "2aaf195a-2df4-49d0-fd3d-048798c4f723"
      },
      "execution_count": null,
      "outputs": [
        {
          "output_type": "execute_result",
          "data": {
            "text/plain": [
              "([1, 2, 4], 3)"
            ]
          },
          "metadata": {},
          "execution_count": 17
        }
      ]
    },
    {
      "cell_type": "markdown",
      "source": [
        "16. What is a nested dictionary, and give an example of its use case.\n",
        "\n",
        "->>\n",
        "nested dictionary in python is a dictionary where each value is itself another dictionary. to store complex data structire in hierarchical."
      ],
      "metadata": {
        "id": "JqBtO7KwXeed"
      }
    },
    {
      "cell_type": "code",
      "source": [
        "# Example\n",
        "\n",
        "students = {\n",
        "    \"Alice\": {\n",
        "        \"age\": 23,\n",
        "        \"major\": \"Computer Science\",\n",
        "        \"grades\": {\"Math\": \"A\", \"Python\": \"A+\", \"Databases\": \"B+\"}\n",
        "    },\n",
        "    \"Bob\": {\n",
        "        \"age\": 21,\n",
        "        \"major\": \"Mechanical Engineering\",\n",
        "        \"grades\": {\"Thermodynamics\": \"B\", \"Calculus\": \"A-\", \"Physics\": \"A\"}\n",
        "    }\n",
        "}"
      ],
      "metadata": {
        "id": "C3qkpbP6PSYw"
      },
      "execution_count": null,
      "outputs": []
    },
    {
      "cell_type": "code",
      "source": [
        "students"
      ],
      "metadata": {
        "colab": {
          "base_uri": "https://localhost:8080/"
        },
        "id": "lJcRgGscPg4V",
        "outputId": "2ae7847b-c689-4267-83a4-9713929a3eef"
      },
      "execution_count": null,
      "outputs": [
        {
          "output_type": "execute_result",
          "data": {
            "text/plain": [
              "{'Alice': {'age': 23,\n",
              "  'major': 'Computer Science',\n",
              "  'grades': {'Math': 'A', 'Python': 'A+', 'Databases': 'B+'}},\n",
              " 'Bob': {'age': 21,\n",
              "  'major': 'Mechanical Engineering',\n",
              "  'grades': {'Thermodynamics': 'B', 'Calculus': 'A-', 'Physics': 'A'}}}"
            ]
          },
          "metadata": {},
          "execution_count": 2
        }
      ]
    },
    {
      "cell_type": "markdown",
      "source": [
        "17. Describe the time complexity of accessing elements in a dictionary.\n",
        "\n",
        "->>\n",
        "element in a dictionary in python has an average case time complexity of O(1).\n",
        "*  its very fast and constant time regarding size.\n",
        "*   dictionary implement using hash table.\n",
        "*   hash directly find to the memory location of a values.\n",
        "\n"
      ],
      "metadata": {
        "id": "3bVPRKuDXgge"
      }
    },
    {
      "cell_type": "code",
      "source": [],
      "metadata": {
        "id": "xvk-cPqrRH6g"
      },
      "execution_count": null,
      "outputs": []
    },
    {
      "cell_type": "markdown",
      "source": [
        "18. In what situations are lists preferred over dictionaries.\n",
        "\n",
        "->> dictionary are using for hash table.\n",
        "\n",
        "* Ordered collection\n",
        "* index based accessed\n",
        "*  simple sequences\n",
        "*  iteration in order\n",
        "*  duplicates allowed\n",
        "\n",
        "* duplicate value allowed"
      ],
      "metadata": {
        "id": "EGRvu833Xpzu"
      }
    },
    {
      "cell_type": "markdown",
      "source": [
        "19. Why are dictionaries considered unordered, and how does that affect data retrieval.\n",
        "\n",
        "->> dictionaries are unordered collection.\n",
        "*  dictinari is fast key value loockup.\n",
        "*  it return same orderd they were added.\n",
        "*  duplicate values are allowed, but duplicate keys are not allowed.\n",
        "\n",
        "\n",
        "\n"
      ],
      "metadata": {
        "id": "k0csUzasXvT-"
      }
    },
    {
      "cell_type": "code",
      "source": [
        "my_dict = {'a': 1, 'b': 2, 'c': 3, 'd': 2}\n",
        "my_dict"
      ],
      "metadata": {
        "colab": {
          "base_uri": "https://localhost:8080/"
        },
        "id": "YbY9ULg6UA9A",
        "outputId": "9d7a7ceb-9454-44f4-f42e-577729e16182"
      },
      "execution_count": null,
      "outputs": [
        {
          "output_type": "execute_result",
          "data": {
            "text/plain": [
              "{'a': 1, 'b': 2, 'c': 3, 'd': 2}"
            ]
          },
          "metadata": {},
          "execution_count": 5
        }
      ]
    },
    {
      "cell_type": "markdown",
      "source": [
        "20. Explain the difference between a list and a dictionary in terms of data retrieval.\n",
        "\n",
        "->>  List\n",
        "\n",
        "*  list is a ordered collection of items.\n",
        "*  accessed data by index.\n",
        "*   my_list[0] get first element\n",
        "---\n",
        "  Dictionary\n",
        "\n",
        "*   dictionary is a unordered of items.\n",
        "*   Accessed data by key not position or index\n",
        "*   my_dict['key'] get value of key"
      ],
      "metadata": {
        "id": "Q8x_BO8rXxsW"
      }
    },
    {
      "cell_type": "code",
      "source": [
        "# list\n",
        "my_list = ['apple', 'banana', 'cherry']\n",
        "my_list[1]"
      ],
      "metadata": {
        "colab": {
          "base_uri": "https://localhost:8080/",
          "height": 36
        },
        "id": "46j2FY0jdwb4",
        "outputId": "798b7bd4-3188-4d7e-fc24-3e0cec1993ba"
      },
      "execution_count": null,
      "outputs": [
        {
          "output_type": "execute_result",
          "data": {
            "text/plain": [
              "'banana'"
            ],
            "application/vnd.google.colaboratory.intrinsic+json": {
              "type": "string"
            }
          },
          "metadata": {},
          "execution_count": 11
        }
      ]
    },
    {
      "cell_type": "code",
      "source": [
        "# dictionary\n",
        "my_dict = {'fruit1': 'apple', 'fruit2': 'banana', 'fruit3': 'watermelon'}\n",
        "my_dict['fruit3']"
      ],
      "metadata": {
        "colab": {
          "base_uri": "https://localhost:8080/",
          "height": 36
        },
        "id": "biABtTf7d2TJ",
        "outputId": "785e089d-4df2-4c7e-b10f-4991f0e1abbf"
      },
      "execution_count": null,
      "outputs": [
        {
          "output_type": "execute_result",
          "data": {
            "text/plain": [
              "'watermelon'"
            ],
            "application/vnd.google.colaboratory.intrinsic+json": {
              "type": "string"
            }
          },
          "metadata": {},
          "execution_count": 12
        }
      ]
    },
    {
      "cell_type": "markdown",
      "source": [
        "# **Practical Questions**"
      ],
      "metadata": {
        "id": "mOacpyx8YHdW"
      }
    },
    {
      "cell_type": "markdown",
      "source": [
        "1. Write a code to create a string with your name and print it."
      ],
      "metadata": {
        "id": "GNW_mpw7YN0O"
      }
    },
    {
      "cell_type": "code",
      "source": [
        "my_str = \"Sagar\"\n",
        "\n",
        "\"My name is\",my_str"
      ],
      "metadata": {
        "colab": {
          "base_uri": "https://localhost:8080/"
        },
        "id": "sq3mvuwVrWPG",
        "outputId": "2fbec40e-80f5-4563-9cb0-4efcc32f83b9"
      },
      "execution_count": null,
      "outputs": [
        {
          "output_type": "execute_result",
          "data": {
            "text/plain": [
              "('My name is', 'Sagar')"
            ]
          },
          "metadata": {},
          "execution_count": 41
        }
      ]
    },
    {
      "cell_type": "markdown",
      "source": [
        "2. Write a code to find the length of the string \"Hello World\"."
      ],
      "metadata": {
        "id": "O01JJTK6Yp5H"
      }
    },
    {
      "cell_type": "code",
      "source": [
        "my_str = \"Hello World\"\n",
        "\n",
        "len(my_str)"
      ],
      "metadata": {
        "colab": {
          "base_uri": "https://localhost:8080/"
        },
        "id": "C1XCvbsrsFwP",
        "outputId": "287842a7-7fe4-4937-802c-128172d32774"
      },
      "execution_count": null,
      "outputs": [
        {
          "output_type": "execute_result",
          "data": {
            "text/plain": [
              "11"
            ]
          },
          "metadata": {},
          "execution_count": 25
        }
      ]
    },
    {
      "cell_type": "markdown",
      "source": [
        "3. Write a code to slice the first 3 characters from the string \"Python Programming\"."
      ],
      "metadata": {
        "id": "Sq_Wd1-zYsuG"
      }
    },
    {
      "cell_type": "code",
      "source": [
        "my_str = \"Python Programming\"\n",
        "\n",
        "a = my_str[:3]\n",
        "a"
      ],
      "metadata": {
        "colab": {
          "base_uri": "https://localhost:8080/",
          "height": 36
        },
        "id": "beHzAkN6sTC-",
        "outputId": "89ee1caf-86ea-4ffe-de22-db51d20c4d57"
      },
      "execution_count": null,
      "outputs": [
        {
          "output_type": "execute_result",
          "data": {
            "text/plain": [
              "'Pyt'"
            ],
            "application/vnd.google.colaboratory.intrinsic+json": {
              "type": "string"
            }
          },
          "metadata": {},
          "execution_count": 27
        }
      ]
    },
    {
      "cell_type": "markdown",
      "source": [
        "4. Write a code to convert the string \"hello\" to uppercase."
      ],
      "metadata": {
        "id": "I2drqA43Y05m"
      }
    },
    {
      "cell_type": "code",
      "source": [
        "my_str = \"hello\"\n",
        "\n",
        "my_str.upper()"
      ],
      "metadata": {
        "colab": {
          "base_uri": "https://localhost:8080/",
          "height": 36
        },
        "id": "XFprWxbks2Md",
        "outputId": "6b8e7157-24e4-4051-a6e3-f07c61e98b02"
      },
      "execution_count": null,
      "outputs": [
        {
          "output_type": "execute_result",
          "data": {
            "text/plain": [
              "'HELLO'"
            ],
            "application/vnd.google.colaboratory.intrinsic+json": {
              "type": "string"
            }
          },
          "metadata": {},
          "execution_count": 29
        }
      ]
    },
    {
      "cell_type": "markdown",
      "source": [
        "5. Write a code to replace the word \"apple\" with \"orange\" in the string \"I like apple\"."
      ],
      "metadata": {
        "id": "_TEP6eUzY5jW"
      }
    },
    {
      "cell_type": "code",
      "source": [
        "a = \"I like apple\"\n",
        "\n",
        "b = a.replace(\"apple\", \"orange\")\n",
        "b"
      ],
      "metadata": {
        "colab": {
          "base_uri": "https://localhost:8080/",
          "height": 36
        },
        "id": "JLzT1LCBtG0-",
        "outputId": "6d076569-3cc5-4219-f0cc-beb2a1da6d75"
      },
      "execution_count": null,
      "outputs": [
        {
          "output_type": "execute_result",
          "data": {
            "text/plain": [
              "'I like orange'"
            ],
            "application/vnd.google.colaboratory.intrinsic+json": {
              "type": "string"
            }
          },
          "metadata": {},
          "execution_count": 30
        }
      ]
    },
    {
      "cell_type": "markdown",
      "source": [
        "6. Write a code to create a list with numbers 1 to 5 and print it."
      ],
      "metadata": {
        "id": "NzELbwE-ZBfG"
      }
    },
    {
      "cell_type": "code",
      "source": [
        "l = [1, 2, 3, 4, 5]\n",
        "\n",
        "l"
      ],
      "metadata": {
        "colab": {
          "base_uri": "https://localhost:8080/"
        },
        "id": "AeHN7fpStmnV",
        "outputId": "83f3e013-24a6-41ba-89e7-09bc82d6d29d"
      },
      "execution_count": null,
      "outputs": [
        {
          "output_type": "execute_result",
          "data": {
            "text/plain": [
              "[1, 2, 3, 4, 5]"
            ]
          },
          "metadata": {},
          "execution_count": 31
        }
      ]
    },
    {
      "cell_type": "code",
      "source": [
        "l = list(range(1, 6))\n",
        "\n",
        "l"
      ],
      "metadata": {
        "colab": {
          "base_uri": "https://localhost:8080/"
        },
        "id": "jps6AS-bt6-O",
        "outputId": "7988ac89-7045-487f-ef1d-a82927428ecf"
      },
      "execution_count": null,
      "outputs": [
        {
          "output_type": "execute_result",
          "data": {
            "text/plain": [
              "[1, 2, 3, 4, 5]"
            ]
          },
          "metadata": {},
          "execution_count": 33
        }
      ]
    },
    {
      "cell_type": "markdown",
      "source": [
        "7. Write a code to append the number 10 to the list [1, 2, 3, 4]."
      ],
      "metadata": {
        "id": "dpFlCnRHZMCe"
      }
    },
    {
      "cell_type": "code",
      "source": [
        "l = [1, 2, 3, 4]\n",
        "\n",
        "l.append(10)\n",
        "l"
      ],
      "metadata": {
        "colab": {
          "base_uri": "https://localhost:8080/"
        },
        "id": "mgv9sxPNuMq9",
        "outputId": "5846b7af-037d-4d9a-a656-c62d2a0b6be6"
      },
      "execution_count": null,
      "outputs": [
        {
          "output_type": "execute_result",
          "data": {
            "text/plain": [
              "[1, 2, 3, 4, 10]"
            ]
          },
          "metadata": {},
          "execution_count": 34
        }
      ]
    },
    {
      "cell_type": "markdown",
      "source": [
        "8. Write a code to remove the number 3 from the list [1, 2, 3, 4, 5]."
      ],
      "metadata": {
        "id": "q3rMzgmsZQGu"
      }
    },
    {
      "cell_type": "code",
      "source": [
        "l = [1, 2, 3, 4, 5]\n",
        "\n",
        "l.remove(3)\n",
        "l"
      ],
      "metadata": {
        "colab": {
          "base_uri": "https://localhost:8080/"
        },
        "id": "8EXmAbmTuWq1",
        "outputId": "43d6c22b-5e5d-4c71-fd73-98332218260e"
      },
      "execution_count": null,
      "outputs": [
        {
          "output_type": "execute_result",
          "data": {
            "text/plain": [
              "[1, 2, 4, 5]"
            ]
          },
          "metadata": {},
          "execution_count": 35
        }
      ]
    },
    {
      "cell_type": "markdown",
      "source": [
        "9. Write a code to access the second element in the list ['a', 'b', 'c', 'd']."
      ],
      "metadata": {
        "id": "QxcNX1FNZUMW"
      }
    },
    {
      "cell_type": "code",
      "source": [
        "l = ['a', 'b', 'c', 'd']\n",
        "\n",
        "l[1]"
      ],
      "metadata": {
        "colab": {
          "base_uri": "https://localhost:8080/",
          "height": 36
        },
        "id": "O8fztjZ1uf7d",
        "outputId": "55392d74-15d7-4a11-97d1-ad89e07a9c44"
      },
      "execution_count": null,
      "outputs": [
        {
          "output_type": "execute_result",
          "data": {
            "text/plain": [
              "'b'"
            ],
            "application/vnd.google.colaboratory.intrinsic+json": {
              "type": "string"
            }
          },
          "metadata": {},
          "execution_count": 36
        }
      ]
    },
    {
      "cell_type": "markdown",
      "source": [
        "10. Write a code to reverse the list [10, 20, 30, 40, 50]."
      ],
      "metadata": {
        "id": "uXm--MkPZZ3l"
      }
    },
    {
      "cell_type": "code",
      "source": [
        "List = [10, 20, 30, 40, 50]\n",
        "\n",
        "List.reverse()\n",
        "List"
      ],
      "metadata": {
        "colab": {
          "base_uri": "https://localhost:8080/"
        },
        "id": "KEGD-vO5uxHd",
        "outputId": "46588bd7-a7dd-4324-95dc-73c1700bdad4"
      },
      "execution_count": null,
      "outputs": [
        {
          "output_type": "execute_result",
          "data": {
            "text/plain": [
              "[50, 40, 30, 20, 10]"
            ]
          },
          "metadata": {},
          "execution_count": 40
        }
      ]
    },
    {
      "cell_type": "markdown",
      "source": [
        "11. Write a code to create a tuple with the elements 100, 200, 300 and print it."
      ],
      "metadata": {
        "id": "6SxHZx6AZftm"
      }
    },
    {
      "cell_type": "code",
      "source": [
        "tup = (100, 200, 300)\n",
        "\n",
        "tup"
      ],
      "metadata": {
        "colab": {
          "base_uri": "https://localhost:8080/"
        },
        "id": "l2fV2evPvIt9",
        "outputId": "3208eba9-19da-42a5-dd54-60fb9af4ddb7"
      },
      "execution_count": null,
      "outputs": [
        {
          "output_type": "execute_result",
          "data": {
            "text/plain": [
              "(100, 200, 300)"
            ]
          },
          "metadata": {},
          "execution_count": 40
        }
      ]
    },
    {
      "cell_type": "markdown",
      "source": [
        "12. Write a code to access the second-to-last element of the tuple ('red', 'green', 'blue', 'yellow')."
      ],
      "metadata": {
        "id": "1gha_bDyZwC-"
      }
    },
    {
      "cell_type": "code",
      "source": [
        "tup = ('red', 'green', 'blue', 'yellow')\n",
        "\n",
        "tup[1:]"
      ],
      "metadata": {
        "colab": {
          "base_uri": "https://localhost:8080/"
        },
        "id": "NOv2yJy_vXAH",
        "outputId": "9f0c3040-c7ef-4559-859e-c980e521beaa"
      },
      "execution_count": null,
      "outputs": [
        {
          "output_type": "execute_result",
          "data": {
            "text/plain": [
              "('green', 'blue', 'yellow')"
            ]
          },
          "metadata": {},
          "execution_count": 41
        }
      ]
    },
    {
      "cell_type": "markdown",
      "source": [
        "13. Write a code to find the minimum number in the tuple (10, 20, 5, 15)."
      ],
      "metadata": {
        "id": "bukkm068Z2o2"
      }
    },
    {
      "cell_type": "code",
      "source": [
        "tup1 = (10, 20, 5, 15)\n",
        "\n",
        "min(tup1)"
      ],
      "metadata": {
        "colab": {
          "base_uri": "https://localhost:8080/"
        },
        "id": "wTtY8Llvvpmh",
        "outputId": "74c1407d-571b-4d19-c1ce-4664ad1ce302"
      },
      "execution_count": null,
      "outputs": [
        {
          "output_type": "execute_result",
          "data": {
            "text/plain": [
              "5"
            ]
          },
          "metadata": {},
          "execution_count": 39
        }
      ]
    },
    {
      "cell_type": "markdown",
      "source": [
        "14. Write a code to find the index of the element \"cat\" in the tuple ('dog', 'cat', 'rabbit')."
      ],
      "metadata": {
        "id": "BTWefY1RZ6Yu"
      }
    },
    {
      "cell_type": "code",
      "source": [
        "animal = ('dog', 'cat', 'rabbit')\n",
        "\n",
        "animal.index('cat')"
      ],
      "metadata": {
        "colab": {
          "base_uri": "https://localhost:8080/"
        },
        "id": "vd768-qRwOVO",
        "outputId": "131f2c08-c1b5-4e10-8dc4-6a2a7ecfb636"
      },
      "execution_count": null,
      "outputs": [
        {
          "output_type": "execute_result",
          "data": {
            "text/plain": [
              "1"
            ]
          },
          "metadata": {},
          "execution_count": 38
        }
      ]
    },
    {
      "cell_type": "markdown",
      "source": [
        "15. Write a code to create a tuple containing three different fruits and check if \"kiwi\" is in it."
      ],
      "metadata": {
        "id": "qBJycRiYaEfm"
      }
    },
    {
      "cell_type": "code",
      "source": [
        "fruits = ('banana', 'mango', 'cherry')\n",
        "\n",
        "if \"kiwi\" in fruits:\n",
        "  print(\"kiwi is available in fruits tuple\")\n",
        "else:\n",
        "  print(\"kiwi is not available in fruits tuple\")"
      ],
      "metadata": {
        "colab": {
          "base_uri": "https://localhost:8080/"
        },
        "id": "7si0_TxdxkhX",
        "outputId": "a5497cae-84ac-4b9e-cbf1-549cb94daba2"
      },
      "execution_count": null,
      "outputs": [
        {
          "output_type": "stream",
          "name": "stdout",
          "text": [
            "kiwi is not available in fruits tuple\n"
          ]
        }
      ]
    },
    {
      "cell_type": "markdown",
      "source": [
        "16. Write a code to create a set with the elements 'a', 'b', 'c' and print it."
      ],
      "metadata": {
        "id": "ttqsOc4daHtu"
      }
    },
    {
      "cell_type": "code",
      "source": [
        "Set1 = {'a', 'b', 'c'}\n",
        "\n",
        "Set1"
      ],
      "metadata": {
        "colab": {
          "base_uri": "https://localhost:8080/"
        },
        "id": "JuLoHcdqyOo2",
        "outputId": "8777f7e6-3334-4f2e-ad3a-6c6fec29cd48"
      },
      "execution_count": null,
      "outputs": [
        {
          "output_type": "execute_result",
          "data": {
            "text/plain": [
              "{'a', 'b', 'c'}"
            ]
          },
          "metadata": {},
          "execution_count": 36
        }
      ]
    },
    {
      "cell_type": "markdown",
      "source": [
        "17. Write a code to clear all elements from the set {1, 2, 3, 4, 5}."
      ],
      "metadata": {
        "id": "yhLOOOrpaKlO"
      }
    },
    {
      "cell_type": "code",
      "source": [
        "sets = {1, 2, 3, 4, 5}\n",
        "\n",
        "sets.clear()\n",
        "sets"
      ],
      "metadata": {
        "colab": {
          "base_uri": "https://localhost:8080/"
        },
        "id": "URywPZonyiIW",
        "outputId": "fb30fa56-88f6-4d6c-f6a5-117cf09e1394"
      },
      "execution_count": null,
      "outputs": [
        {
          "output_type": "execute_result",
          "data": {
            "text/plain": [
              "set()"
            ]
          },
          "metadata": {},
          "execution_count": 35
        }
      ]
    },
    {
      "cell_type": "markdown",
      "source": [
        "18. Write a code to remove the element 4 from the set {1, 2, 3, 4}."
      ],
      "metadata": {
        "id": "rEsEZafQaRFX"
      }
    },
    {
      "cell_type": "code",
      "source": [
        "set1 = {1, 2, 3, 4}\n",
        "\n",
        "set1.remove(4)\n",
        "set1"
      ],
      "metadata": {
        "colab": {
          "base_uri": "https://localhost:8080/"
        },
        "id": "m-a18FyVyv6O",
        "outputId": "c4a5608a-aa15-4d80-822c-dce18054e96c"
      },
      "execution_count": null,
      "outputs": [
        {
          "output_type": "execute_result",
          "data": {
            "text/plain": [
              "{1, 2, 3}"
            ]
          },
          "metadata": {},
          "execution_count": 34
        }
      ]
    },
    {
      "cell_type": "markdown",
      "source": [
        "19. Write a code to find the union of two sets {1, 2, 3} and {3, 4, 5}."
      ],
      "metadata": {
        "id": "PNNnRWgcaUU-"
      }
    },
    {
      "cell_type": "code",
      "source": [
        "set1 = {1, 2, 3}\n",
        "set2 = {3, 4, 5}\n",
        "\n",
        "set1 | set2"
      ],
      "metadata": {
        "colab": {
          "base_uri": "https://localhost:8080/"
        },
        "id": "hVMf_woMPZwI",
        "outputId": "59fca8f1-cefa-469c-b8ea-7b89e1092ab9"
      },
      "execution_count": null,
      "outputs": [
        {
          "output_type": "execute_result",
          "data": {
            "text/plain": [
              "{1, 2, 3, 4, 5}"
            ]
          },
          "metadata": {},
          "execution_count": 33
        }
      ]
    },
    {
      "cell_type": "markdown",
      "source": [
        "20. Write a code to find the intersection of two sets {1, 2, 3} and {2, 3, 4}."
      ],
      "metadata": {
        "id": "3p8CkUM3aXhm"
      }
    },
    {
      "cell_type": "code",
      "source": [
        "set1 = {1, 2, 3}\n",
        "set2 = {3, 4, 5}\n",
        "\n",
        "set1 & set2"
      ],
      "metadata": {
        "colab": {
          "base_uri": "https://localhost:8080/"
        },
        "id": "sChssRYlQNfK",
        "outputId": "c34b0d3a-5c3b-4c77-c2ea-deaafcf6d1c2"
      },
      "execution_count": null,
      "outputs": [
        {
          "output_type": "execute_result",
          "data": {
            "text/plain": [
              "{3}"
            ]
          },
          "metadata": {},
          "execution_count": 32
        }
      ]
    },
    {
      "cell_type": "markdown",
      "source": [
        "21. Write a code to create a dictionary with the keys \"name\", \"age\", and \"city\", and print it."
      ],
      "metadata": {
        "id": "iJ_yIMLYaawf"
      }
    },
    {
      "cell_type": "code",
      "source": [
        "dict = {\"name\" : \"Sagar\", \"age\" : 26, \"city\" : \"Sangamner\"}\n",
        "\n",
        "dict"
      ],
      "metadata": {
        "colab": {
          "base_uri": "https://localhost:8080/"
        },
        "id": "WUd-yyQfQWDY",
        "outputId": "bcc663cc-b398-48ce-fb1f-bea5cfc38920"
      },
      "execution_count": null,
      "outputs": [
        {
          "output_type": "execute_result",
          "data": {
            "text/plain": [
              "{'name': 'Sagar', 'age': 26, 'city': 'Sangamner'}"
            ]
          },
          "metadata": {},
          "execution_count": 5
        }
      ]
    },
    {
      "cell_type": "markdown",
      "source": [
        "22. Write a code to add a new key-value pair \"country\": \"USA\" to the dictionary {'name': 'John', 'age': 25}."
      ],
      "metadata": {
        "id": "2Vl6XraRaeWN"
      }
    },
    {
      "cell_type": "code",
      "source": [
        "dict = {'name' : 'John', 'age' : 25,}\n",
        "\n",
        "dict['country'] = 'USA'\n",
        "dict"
      ],
      "metadata": {
        "colab": {
          "base_uri": "https://localhost:8080/"
        },
        "id": "e3_xtQlARCvo",
        "outputId": "11264289-729d-44ff-b103-62125720797a"
      },
      "execution_count": null,
      "outputs": [
        {
          "output_type": "execute_result",
          "data": {
            "text/plain": [
              "{'name': 'John', 'age': 25, 'country': 'USA'}"
            ]
          },
          "metadata": {},
          "execution_count": 31
        }
      ]
    },
    {
      "cell_type": "markdown",
      "source": [
        "23. Write a code to access the value associated with the key \"name\" in the dictionary {'name': 'Alice', 'age': 30}."
      ],
      "metadata": {
        "id": "3E6WufnDah2-"
      }
    },
    {
      "cell_type": "code",
      "source": [
        "dict = {'name':'Alice', 'age':30}\n",
        "\n",
        "dict['name']"
      ],
      "metadata": {
        "colab": {
          "base_uri": "https://localhost:8080/",
          "height": 36
        },
        "id": "_dODqGO2R7nV",
        "outputId": "d0c00458-7fba-4b9a-9ab2-8b9c89b12fd5"
      },
      "execution_count": null,
      "outputs": [
        {
          "output_type": "execute_result",
          "data": {
            "text/plain": [
              "'Alice'"
            ],
            "application/vnd.google.colaboratory.intrinsic+json": {
              "type": "string"
            }
          },
          "metadata": {},
          "execution_count": 9
        }
      ]
    },
    {
      "cell_type": "markdown",
      "source": [
        "24. Write a code to remove the key \"age\" from the dictionary {'name': 'Bob', 'age': 22, 'city': 'New York'}."
      ],
      "metadata": {
        "id": "wKqQr7STakdO"
      }
    },
    {
      "cell_type": "code",
      "source": [
        "dict = {'name': 'Bob', 'age': 22, 'city': 'New York'}\n",
        "\n",
        "del dict['age']\n",
        "dict"
      ],
      "metadata": {
        "colab": {
          "base_uri": "https://localhost:8080/"
        },
        "id": "M5WEP6PSSY6H",
        "outputId": "8634e462-b20b-4da7-ea26-6792d177cb10"
      },
      "execution_count": null,
      "outputs": [
        {
          "output_type": "execute_result",
          "data": {
            "text/plain": [
              "{'name': 'Bob', 'city': 'New York'}"
            ]
          },
          "metadata": {},
          "execution_count": 12
        }
      ]
    },
    {
      "cell_type": "markdown",
      "source": [
        "25. Write a code to check if the key \"city\" exists in the dictionary {'name': 'Alice', 'city': 'Paris'}."
      ],
      "metadata": {
        "id": "yU0OuvhIanaH"
      }
    },
    {
      "cell_type": "code",
      "source": [
        "dic1 =  {'name': 'Alice', 'city': 'Paris'}\n",
        "\n",
        "if 'city' in dic1:\n",
        "  print('key city is exists in dictionary')\n",
        "else:\n",
        "  print('key city is not exists in dictionary')"
      ],
      "metadata": {
        "id": "USy0AByFSuw4",
        "colab": {
          "base_uri": "https://localhost:8080/"
        },
        "outputId": "ef5652df-b69c-4a4a-9ae0-730106998a2c"
      },
      "execution_count": null,
      "outputs": [
        {
          "output_type": "stream",
          "name": "stdout",
          "text": [
            "key city is exists in dictionary\n"
          ]
        }
      ]
    },
    {
      "cell_type": "markdown",
      "source": [
        "26. Write a code to create a list, a tuple, and a dictionary, and print them all."
      ],
      "metadata": {
        "id": "durR0Lluaqme"
      }
    },
    {
      "cell_type": "code",
      "source": [
        "l = ['apple', 1, 3, 'pinaple', 'watermelon']\n",
        "tup = (3, 4, 6, 'mango', 'cherry', 'imaly')\n",
        "dic = {'name':'Sagar', 'age':26, 'course':'DS'}\n",
        "\n",
        "print(\"list :\", l)\n",
        "print(\"tuple :\", tup)\n",
        "print(\"Dictionary :\", dic)"
      ],
      "metadata": {
        "colab": {
          "base_uri": "https://localhost:8080/"
        },
        "id": "DKvWGp9jUI2i",
        "outputId": "3c9bc78f-ed1e-47cf-fb80-d862106e4300"
      },
      "execution_count": null,
      "outputs": [
        {
          "output_type": "stream",
          "name": "stdout",
          "text": [
            "list : ['apple', 1, 3, 'pinaple', 'watermelon']\n",
            "tuple : (3, 4, 6, 'mango', 'cherry', 'imaly')\n",
            "Dictionary : {'name': 'Sagar', 'age': 26, 'course': 'DS'}\n"
          ]
        }
      ]
    },
    {
      "cell_type": "markdown",
      "source": [
        "27. Write a code to create a list of 5 random numbers between 1 and 100, sort it in ascending order, and print the\n",
        "result.(replaced)"
      ],
      "metadata": {
        "id": "-pP1c5S_auNX"
      }
    },
    {
      "cell_type": "code",
      "source": [
        "import random\n",
        "\n",
        "random_numbers = [random.randint(1, 100) for random_numbers in range(5)]\n",
        "\n",
        "random_numbers.sort()\n",
        "random_numbers"
      ],
      "metadata": {
        "colab": {
          "base_uri": "https://localhost:8080/"
        },
        "id": "yAecy9zocgoe",
        "outputId": "2bf4b516-1b84-46d7-8bed-f97a7769311c"
      },
      "execution_count": null,
      "outputs": [
        {
          "output_type": "execute_result",
          "data": {
            "text/plain": [
              "[11, 18, 35, 45, 49]"
            ]
          },
          "metadata": {},
          "execution_count": 42
        }
      ]
    },
    {
      "cell_type": "code",
      "source": [
        "random_num = [99, 55, 87, 23, 66]\n",
        "\n",
        "random_num.sort()\n",
        "random_num"
      ],
      "metadata": {
        "id": "7zQRlvnBeAVF",
        "colab": {
          "base_uri": "https://localhost:8080/"
        },
        "outputId": "4ce5e6e1-ed94-4ef1-8058-67e5faa6f80f"
      },
      "execution_count": null,
      "outputs": [
        {
          "output_type": "execute_result",
          "data": {
            "text/plain": [
              "[23, 55, 66, 87, 99]"
            ]
          },
          "metadata": {},
          "execution_count": 6
        }
      ]
    },
    {
      "cell_type": "markdown",
      "source": [
        "28. Write a code to create a list with strings and print the element at the third index."
      ],
      "metadata": {
        "id": "rsJ5MaA7a5F-"
      }
    },
    {
      "cell_type": "code",
      "source": [
        "list_string = ['Sagar', 'cherry', 'banana', 'mango', 'watermelon', 'imaly', 'apple']\n",
        "\n",
        "list_string[3]"
      ],
      "metadata": {
        "colab": {
          "base_uri": "https://localhost:8080/",
          "height": 36
        },
        "id": "Gx1N_vWfVd5o",
        "outputId": "ab9fd92a-be31-43d1-fb76-d7f138f6ff59"
      },
      "execution_count": null,
      "outputs": [
        {
          "output_type": "execute_result",
          "data": {
            "text/plain": [
              "'mango'"
            ],
            "application/vnd.google.colaboratory.intrinsic+json": {
              "type": "string"
            }
          },
          "metadata": {},
          "execution_count": 27
        }
      ]
    },
    {
      "cell_type": "markdown",
      "source": [
        "29. Write a code to combine two dictionaries into one and print the result."
      ],
      "metadata": {
        "id": "-nS_8oKRa9pu"
      }
    },
    {
      "cell_type": "code",
      "source": [
        "dict1 = {'name':'Sagar', 'age':26,}\n",
        "dict2 = {'course':'DS'}\n",
        "\n",
        "dict2.update(dict1)\n",
        "dict2"
      ],
      "metadata": {
        "colab": {
          "base_uri": "https://localhost:8080/"
        },
        "id": "Xp6tN2U9TbPo",
        "outputId": "64a7db36-8d60-4d63-eff2-8ff65b3a495e"
      },
      "execution_count": null,
      "outputs": [
        {
          "output_type": "execute_result",
          "data": {
            "text/plain": [
              "{'course': 'DS', 'name': 'Sagar', 'age': 26}"
            ]
          },
          "metadata": {},
          "execution_count": 30
        }
      ]
    },
    {
      "cell_type": "markdown",
      "source": [
        "30. Write a code to convert a list of strings into a set."
      ],
      "metadata": {
        "id": "kY6C-Gd9bBm-"
      }
    },
    {
      "cell_type": "code",
      "source": [
        "string_list = ['Sagar', 'cherry', 'banana', 'mango', 'watermelon', 'imaly', 'apple']\n",
        "\n",
        "set(string_list)"
      ],
      "metadata": {
        "colab": {
          "base_uri": "https://localhost:8080/"
        },
        "id": "JvJUJ87-WYWP",
        "outputId": "b7e247d4-dbf0-431a-a015-e0fb4f992814"
      },
      "execution_count": null,
      "outputs": [
        {
          "output_type": "execute_result",
          "data": {
            "text/plain": [
              "{'Sagar', 'apple', 'banana', 'cherry', 'imaly', 'mango', 'watermelon'}"
            ]
          },
          "metadata": {},
          "execution_count": 4
        }
      ]
    },
    {
      "cell_type": "code",
      "execution_count": null,
      "metadata": {
        "id": "XqXgDKr-USR0"
      },
      "outputs": [],
      "source": []
    }
  ]
}