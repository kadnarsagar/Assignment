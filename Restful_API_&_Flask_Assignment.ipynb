{
  "cells": [
    {
      "cell_type": "markdown",
      "metadata": {
        "id": "KPH1TpxGV9PC"
      },
      "source": [
        "# **Restful API & Flask**"
      ]
    },
    {
      "cell_type": "markdown",
      "metadata": {
        "id": "IHpvICeXWW2L"
      },
      "source": [
        "1. What is a RESTful API?"
      ]
    },
    {
      "cell_type": "markdown",
      "metadata": {
        "id": "hDnkvcdFNtPQ"
      },
      "source": [
        "->>\n",
        "\n",
        "A RESTful API (Representational State Transfer API) is an architectural style for building web services that communicate over HTTP using standard methods. It is designed around resources—things like users, products, or data—which are accessed and manipulated using a predefined set of operations.\n",
        "\n",
        "A RESTful API is:\n",
        "\n",
        "* Based on standard HTTP methods\n",
        "* Resource-oriented\n",
        "* Stateless\n",
        "* Often uses JSON for communication"
      ]
    },
    {
      "cell_type": "markdown",
      "metadata": {
        "id": "lItHUzWIWcVo"
      },
      "source": [
        "2. Explain the concept of API specification."
      ]
    },
    {
      "cell_type": "markdown",
      "metadata": {
        "id": "_BYRUOeKOPmq"
      },
      "source": [
        "->>\n",
        "\n",
        "An API specification is a detailed, formal description of how an API works—what endpoints it provides, what data it expects, what it returns, and how clients should interact with it. It's like a contract between the API provider and its consumers.\n",
        "\n",
        "An API specification is like a blueprint for how an API works. It describes what the API does, how it should be used, and what responses to expect—allowing humans and machines to understand and work with it effectively."
      ]
    },
    {
      "cell_type": "markdown",
      "metadata": {
        "id": "mZANS6uUWh3x"
      },
      "source": [
        "3. What is Flask, and why is it popular for building APIs?"
      ]
    },
    {
      "cell_type": "markdown",
      "metadata": {
        "id": "rxvvIGFUOaZv"
      },
      "source": [
        "->>\n",
        "\n",
        "Flask is a lightweight, open-source web framework written in Python. It's designed to make it easy to build web applications and RESTful APIs with minimal setup. Flask is often described as a \"micro\" framework because it provides the core features you need and leaves the rest to you, giving you full control over your app's structure and components.\n",
        "\n",
        "Flask is a simple, powerful, and flexible Python framework that's ideal for building APIs. Its lightweight design, ease of use, and rich ecosystem make it a favorite choice for developers—from beginners to professionals.\n",
        "\n",
        " 1. Lightweight and Minimalistic.\n",
        " 2. Easy to Learn and Use.   \n",
        " 3. Flexible and Extensible.\n",
        " 4. Large Ecosystem.\n",
        " 5. Great for RESTful APIs."
      ]
    },
    {
      "cell_type": "markdown",
      "metadata": {
        "id": "7Kjz3UWqWn_p"
      },
      "source": [
        "4. What is routing in Flask?"
      ]
    },
    {
      "cell_type": "markdown",
      "metadata": {
        "id": "Bn5WKE6HPEsn"
      },
      "source": [
        "->>\n",
        "\n",
        "Routing in Flask refers to the process of mapping a URL path to a specific function in your application. This allows Flask to determine what code to run when a user accesses a particular URL.\n",
        "\n",
        "Each route is defined using the @app.route() decorator, which connects a URL pattern to a Python function.\n",
        "\n",
        "* Maps URLs to Python functions.\n",
        "* Supports dynamic and type-specific routes.\n",
        "* Can handle different HTTP methods.\n",
        "* Is central to building web pages and RESTful APIs."
      ]
    },
    {
      "cell_type": "markdown",
      "metadata": {
        "id": "sJGo51UxWr94"
      },
      "source": [
        "5. How do you create a simple Flask application?"
      ]
    },
    {
      "cell_type": "markdown",
      "metadata": {
        "id": "ANvARQyuPSz2"
      },
      "source": [
        "->>\n",
        "\n",
        "*  Install Flask\n",
        "\n",
        "       pip install flask\n",
        "\n",
        "* Create the App File\n",
        "\n",
        "      file named-  app.py\n",
        "\n",
        "    add the code\n",
        "\n",
        "      from flask import Flask\n",
        "\n",
        "      app = Flask(__name__)\n",
        "\n",
        "      @app.route('/')\n",
        "      def home():\n",
        "          return 'Hello, World!'\n",
        "\n",
        "      if __name__ == '__main__':\n",
        "          app.run(debug=True)\n",
        "\n",
        "* Run the Flask App"
      ]
    },
    {
      "cell_type": "markdown",
      "metadata": {
        "id": "sFiivGiMWwsy"
      },
      "source": [
        "6. What are HTTP methods used in RESTful APIs?"
      ]
    },
    {
      "cell_type": "markdown",
      "metadata": {
        "id": "pCOSv_ZZQUKE"
      },
      "source": [
        "->>\n",
        "\n",
        "In RESTful APIs, HTTP methods define the type of action the client wants to perform on a resource. These methods map directly to CRUD operations—Create, Read, Update, and Delete."
      ]
    },
    {
      "cell_type": "markdown",
      "metadata": {
        "id": "7ykGhE-pW0RQ"
      },
      "source": [
        "7. What is the purpose of the @app.route() decorator in Flask?"
      ]
    },
    {
      "cell_type": "markdown",
      "metadata": {
        "id": "LHLqqACgQXKf"
      },
      "source": [
        "->>\n",
        "\n",
        "The @app.route() decorator in Flask is used to bind a URL path to a Python function—effectively telling Flask which function should run when a specific route is accessed in the browser.\n",
        "\n",
        "It defines a route in your web application. When a user visits the specified URL, Flask calls the corresponding view function and returns its response.\n",
        "\n",
        "The @app.route() decorator:\n",
        "* Connects URL paths to functions.\n",
        "* Enables dynamic routing with URL variables.\n",
        "* Supports multiple HTTP methods like GET, POST, etc."
      ]
    },
    {
      "cell_type": "markdown",
      "metadata": {
        "id": "uUD4xo2BW4ip"
      },
      "source": [
        "8. What is the difference between GET and POST HTTP methods?"
      ]
    },
    {
      "cell_type": "markdown",
      "metadata": {
        "id": "gne4a3UyQ6lW"
      },
      "source": [
        "->>\n",
        "\n",
        "GET Method\n",
        "* Purpose: Retrieve data from the server.\n",
        "* Data Location: Sent in the URL query string (e.g., ?name=John).\n",
        "* Safe: Yes — it doesn’t modify server data.\n",
        "* Idempotent: Yes — same request = same result every time.\n",
        "* Caching: Often cached by browsers.\n",
        "* Visible Data: Data is visible in the URL (not secure for sensitive info).\n",
        "\n",
        "\n",
        "POST Method\n",
        "* Purpose: Submit data to the server to create or update a resource.\n",
        "* Data Location: Sent in the request body, not visible in the URL.\n",
        "* Safe: No — it can modify server state.\n",
        "* Idempotent: No — sending the same POST multiple times may have side effects.\n",
        "* Caching: Typically not cached.\n",
        "* Used For: Forms, file uploads, authentication, etc."
      ]
    },
    {
      "cell_type": "markdown",
      "metadata": {
        "id": "wDnv0D1WW88Q"
      },
      "source": [
        "9.  How do you handle errors in Flask APIs?"
      ]
    },
    {
      "cell_type": "markdown",
      "metadata": {
        "id": "kwOb5lmlS_Df"
      },
      "source": [
        "->>\n",
        "\n",
        "In Flask APIs, error handling is important for returning clear, consistent, and user-friendly responses when something goes wrong (like missing data or invalid input).\n",
        "\n",
        "Flask provides several ways to handle errors gracefully:\n",
        "\n",
        "1. Using abort() for Common HTTP Errors\n",
        "2. Custom Error Handlers with @app.errorhandler\n",
        "3. Handling Unexpected Exceptions\n",
        "4. Return Custom JSON Responses in Your Logic"
      ]
    },
    {
      "cell_type": "markdown",
      "metadata": {
        "id": "ztXr6lYSXAmo"
      },
      "source": [
        "10. How do you connect Flask to a SQL database?"
      ]
    },
    {
      "cell_type": "markdown",
      "metadata": {
        "id": "hqAD5lfITS9w"
      },
      "source": [
        "->>\n",
        "\n",
        "Connecting Flask to a SQL database typically involves using an ORM (Object-Relational Mapper) like SQLAlchemy, which lets you interact with the database using Python objects instead of raw SQL queries.\n",
        "\n",
        "Here’s a step-by-step overview to connect Flask with a SQL database using Flask-SQLAlchemy:\n",
        "1. Install Dependencies\n",
        "\n",
        "\n",
        "    pip install flask sqlalchemy flask-sqlalchemy\n",
        "\n",
        "2. Basic Flask App Setup with SQLAlchemy\n",
        "\n",
        "\n",
        "    from flask import Flask\n",
        "    from flask_sqlalchemy import SQLAlchemy\n",
        "\n",
        "    app = Flask(__name__)\n",
        "\n",
        "    app.config['SQLALCHEMY_DATABASE_URI'] = 'sqlite:///mydatabase.db'\n",
        "\n",
        "    app.config['SQLALCHEMY_TRACK_MODIFICATIONS'] = False\n",
        "\n",
        "    db = SQLAlchemy(app)\n",
        "\n",
        "    class User(db.Model):\n",
        "        id = db.Column(db.Integer, primary_key=True)\n",
        "        username = db.Column(db.String(80), unique=True, nullable=False)\n",
        "        email = db.Column(db.String(120), unique=True,nullable=False)\n",
        "\n",
        "        def __repr__(self):\n",
        "            return f'<User {self.username}>'\n",
        "\n",
        "    @app.route('/')\n",
        "    def index():\n",
        "        return 'Hello, Flask with SQL!'\n",
        "\n",
        "    if __name__ == '__main__':\n",
        "        with app.app_context():\n",
        "            db.create_all()\n",
        "        app.run(debug=True)\n",
        "\n",
        "\n",
        "3. Using the Database\n",
        "  * Add records\n",
        "\n",
        "\n",
        "    with app.app_context():\n",
        "        new_user = User(username='alice',email='alice@example.com')\n",
        "        db.session.add(new_user)\n",
        "        db.session.commit()\n",
        "  * Query records\n",
        "\n",
        "\n",
        "    with app.app_context():\n",
        "        user = User.query.filter_by(username='alice').first()\n",
        "        print(user.email)\n",
        "\n",
        "\n",
        "\n",
        "* Use Flask-SQLAlchemy to easily integrate SQL databases with Flask.\n",
        "* Define models as Python classes.\n",
        "* Use db.session to add, update, delete, and query records.\n",
        "* Configure the database URI in app.config."
      ]
    },
    {
      "cell_type": "markdown",
      "metadata": {
        "id": "LGGBist3XEFx"
      },
      "source": [
        "11. What is the role of Flask-SQLAlchemy?"
      ]
    },
    {
      "cell_type": "markdown",
      "metadata": {
        "id": "HAlsXuerWBaC"
      },
      "source": [
        "->>\n",
        "\n",
        "Flask-SQLAlchemy is an extension for Flask that integrates the powerful SQLAlchemy ORM (Object-Relational Mapper) with Flask applications, making it much easier to work with databases in a Flask project.\n",
        "\n",
        "Flask-SQLAlchemy acts as a bridge between Flask and SQLAlchemy, simplifying database operations and enabling you to work with databases in a more Pythonic, maintainable way.\n",
        "\n",
        "1. Simplifies Database Integration\n",
        "\n",
        "    It provides a convenient way to set up and use SQLAlchemy within Flask, managing configuration and the application context automatically.\n",
        "\n",
        "2. Object-Relational Mapping (ORM)\n",
        "\n",
        "    Allows you to interact with your database using Python classes and objects instead of writing raw SQL queries. This makes your code cleaner, more readable, and easier to maintain.\n",
        "\n",
        "3. Session Management\n",
        "\n",
        "    Handles database sessions and connections under the hood, so you don’t have to manage those manually.\n",
        "\n",
        "4. Model Definition\n",
        "\n",
        "    Lets you define your database tables as Python classes (called models) with attributes representing columns.\n",
        "\n",
        "5. Querying Made Easy\n",
        "\n",
        "    Provides an intuitive query API to fetch, filter, update, and delete records."
      ]
    },
    {
      "cell_type": "markdown",
      "metadata": {
        "id": "jI3Gi6YuXJug"
      },
      "source": [
        "12. What are Flask blueprints, and how are they useful?"
      ]
    },
    {
      "cell_type": "markdown",
      "metadata": {
        "id": "e2Pj73_JWgKk"
      },
      "source": [
        "->>\n",
        "\n",
        "Flask Blueprints are a way to organize a Flask application into smaller, reusable components or modules. They help you structure your app more cleanly, especially as it grows bigger.\n",
        "\n",
        "* A blueprint is like a mini Flask app.\n",
        "* It can define its own routes, error handlers, static files, templates, and more.\n",
        "* You register blueprints on the main Flask application to include their routes and functionality.\n",
        "\n",
        "Useful\n",
        "\n",
        "\n",
        "1. Modularity\n",
        "\n",
        "    Break your app into logical pieces (e.g., auth, admin, blog).\n",
        "\n",
        "2. Reusability\n",
        "\n",
        "    Blueprints can be packaged and reused across multiple projects.\n",
        "\n",
        "3. Team Collaboration\n",
        "\n",
        "    Different teams or developers can work on different blueprints independently.\n",
        "\n",
        "4. Cleaner Codebase\n",
        "\n",
        "    Keeps the main app file smaller and more maintainable."
      ]
    },
    {
      "cell_type": "markdown",
      "metadata": {
        "id": "-z6DCIzlXQwg"
      },
      "source": [
        "13. What is the purpose of Flask's request object?"
      ]
    },
    {
      "cell_type": "markdown",
      "metadata": {
        "id": "XqRDUNspXK0-"
      },
      "source": [
        "->>\n",
        "\n",
        "The Flask request object represents the incoming HTTP request from a client. It gives your Flask app access to all the data sent by the client so you can read and process it.\n",
        "\n",
        "* Access request data: headers, query parameters, form data, JSON payloads, cookies, files, etc.\n",
        "* Understand the request: method (GET, POST, etc.), URL, user agent, IP address, etc.\n",
        "* Control flow: Make decisions based on what the client sent."
      ]
    },
    {
      "cell_type": "markdown",
      "metadata": {
        "id": "G-m5-wDqXVBg"
      },
      "source": [
        "14. How do you create a RESTful API endpoint using Flask?"
      ]
    },
    {
      "cell_type": "markdown",
      "metadata": {
        "id": "49qO92SWXYL-"
      },
      "source": [
        "->>\n",
        "\n",
        "Creating a RESTful API endpoint in Flask involves defining routes that respond with JSON data and handle different HTTP methods like GET, POST, PUT, DELETE. Here’s a simple example of how to create a RESTful API endpoint:\n",
        "\n",
        "\n",
        "    from flask import Flask, jsonify, request, abort\n",
        "\n",
        "    app = Flask(__name__)\n",
        "\n",
        "    tasks = [\n",
        "        {\"id\": 1, \"title\": \"Buy groceries\", \"done\": False},\n",
        "        {\"id\": 2, \"title\": \"Read a book\", \"done\": True},\n",
        "    ]\n",
        "\n",
        "    @app.route('/tasks', methods=['GET'])\n",
        "    def get_tasks():\n",
        "        return jsonify(tasks)\n",
        "\n",
        "    @app.route('/tasks/<int:task_id>', methods=['GET'])\n",
        "    def get_task(task_id):\n",
        "        task = next((task for task in tasks if task['id'] == task_id), None)\n",
        "        if task is None:\n",
        "            abort(404)\n",
        "        return jsonify(task)\n",
        "\n",
        "    @app.route('/tasks', methods=['POST'])\n",
        "    def create_task():\n",
        "        if not request.json or 'title' not in request.json:\n",
        "            abort(400, description=\"Title is required\")\n",
        "        new_task = {\n",
        "            'id': tasks[-1]['id'] + 1 if tasks else 1,\n",
        "            'title': request.json['title'],\n",
        "            'done': False\n",
        "        }\n",
        "        tasks.append(new_task)\n",
        "        return jsonify(new_task), 201\n",
        "\n",
        "    @app.route('/tasks/<int:task_id>', methods=['PUT'])\n",
        "    def update_task(task_id):\n",
        "        task = next((task for task in tasks if task['id'] == task_id), None)\n",
        "        if task is None:\n",
        "            abort(404)\n",
        "        if not request.json:\n",
        "            abort(400)\n",
        "    \n",
        "        task['title'] = request.json.get('title', task['title'])\n",
        "        task['done'] = request.json.get('done', task['done'])\n",
        "        return jsonify(task)\n",
        "\n",
        "    @app.route('/tasks/<int:task_id>', methods=['DELETE'])\n",
        "    def delete_task(task_id):\n",
        "        global tasks\n",
        "        task = next((task for task in tasks if task['id'] == task_id), None)\n",
        "        if task is None:\n",
        "            abort(404)\n",
        "        tasks = [t for t in tasks if t['id'] != task_id]\n",
        "        return jsonify({'result': True})\n",
        "\n",
        "    if __name__ == '__main__':\n",
        "        app.run(debug=True)"
      ]
    },
    {
      "cell_type": "markdown",
      "metadata": {
        "id": "nGf45o1LXaho"
      },
      "source": [
        "15.  What is the purpose of Flask's jsonify() function?"
      ]
    },
    {
      "cell_type": "markdown",
      "metadata": {
        "id": "k-cZXgdsZEBr"
      },
      "source": [
        "->>\n",
        "\n",
        "The purpose of Flask's jsonify() function is to convert Python data structures into a JSON-formatted HTTP response that Flask can send back to the client.\n",
        "\n",
        "* Takes Python objects like dictionaries, lists, etc.\n",
        "* Serializes them into JSON.\n",
        "* Sets the Content-Type header to application/json.\n",
        "* Returns a Flask Response object ready to send.\n",
        "\n",
        "\n",
        "* It ensures the response is correctly formatted as JSON.\n",
        "* It automatically sets appropriate headers.\n",
        "* It handles encoding safely (e.g., special characters).\n",
        "\n",
        "\n"
      ]
    },
    {
      "cell_type": "markdown",
      "metadata": {
        "id": "jmLwrg44Xe8o"
      },
      "source": [
        "16. Explain Flask’s url_for() function."
      ]
    },
    {
      "cell_type": "markdown",
      "metadata": {
        "id": "DQVK6dFDZi1P"
      },
      "source": [
        "->>\n",
        "\n",
        "Flask’s url_for() function is used to build URLs dynamically for your application’s routes based on the function name that handles the route, rather than hardcoding URLs as strings.\n",
        "\n",
        "* Generates a URL to a specific view function by its endpoint name (usually the function name).\n",
        "* Helps avoid hardcoding URLs, making your code more maintainable and flexible.\n",
        "* Automatically handles URL building including any dynamic parts (like variables in the route).\n",
        "* Works well with different URL prefixes, blueprints, or changes in route structure."
      ]
    },
    {
      "cell_type": "markdown",
      "metadata": {
        "id": "vSYQAPndXpJp"
      },
      "source": [
        "17. How does Flask handle static files (CSS, JavaScript, etc.)."
      ]
    },
    {
      "cell_type": "markdown",
      "metadata": {
        "id": "vn4zifdlZ2ie"
      },
      "source": [
        "->>\n",
        "\n",
        "Flask handles static files like CSS, JavaScript, images, and other assets through a special static folder in your project directory.\n",
        "\n",
        "* By default, Flask looks for static files in a folder named static at the root of your project.\n",
        "* Files placed inside the static folder can be accessed by the client via the URL path /static/<filename>.\n",
        "* Flask automatically serves these files without needing to write explicit routes."
      ]
    },
    {
      "cell_type": "markdown",
      "metadata": {
        "id": "EMy7cnS1XsqA"
      },
      "source": [
        "18. What is an API specification, and how does it help in building a Flask API?"
      ]
    },
    {
      "cell_type": "markdown",
      "metadata": {
        "id": "jpbWKthwaGYG"
      },
      "source": [
        "->>\n",
        "\n",
        "An API specification is a formal, structured document that describes how an API works — detailing its endpoints, request methods, parameters, request/response formats, authentication, error codes, and more.\n",
        "\n",
        "API Specification\n",
        "* A blueprint or contract for how clients and servers communicate via the API.\n",
        "* Defines what endpoints exist, what data they expect, and what responses they return.\n",
        "* Examples include OpenAPI (Swagger), RAML, and API Blueprint.\n",
        "\n",
        "API Specification Helps in Building a Flask API\n",
        "\n",
        "* Clear Design Before Coding\n",
        "\n",
        "    You define how your API should behave upfront, making development more organized and consistent.\n",
        "\n",
        "* Automatic Documentation\n",
        "\n",
        "    Tools can generate human-readable API docs directly from the specification.\n",
        "\n",
        "* Client & Server Agreement\n",
        "\n",
        "    Ensures both frontend (clients) and backend (your Flask app) agree on request/response formats.\n",
        "\n",
        "* Easier Testing and Validation\n",
        "\n",
        "    You can auto-generate test cases or validate requests/responses against the spec.\n",
        "\n",
        "* Supports Code Generation\n",
        "\n",
        "    Some tools generate Flask boilerplate code or client SDKs from the API spec.\n",
        "\n"
      ]
    },
    {
      "cell_type": "markdown",
      "metadata": {
        "id": "H4pn1bNoXzZo"
      },
      "source": [
        "19.  What are HTTP status codes, and why are they important in a Flask API?"
      ]
    },
    {
      "cell_type": "markdown",
      "metadata": {
        "id": "ShUI-Igsajlf"
      },
      "source": [
        "->>\n",
        "\n",
        "HTTP status codes are standardized three-digit numbers sent by a server in response to a client’s HTTP request. They indicate the result of the request — whether it was successful, resulted in an error, or needs further action.\n",
        "\n",
        "* Communicate Result Clearly\n",
        "\n",
        "    Clients know if their request succeeded or failed, and why.\n",
        "\n",
        "* Help Client Handling\n",
        "\n",
        "    Enables clients (browsers, apps) to handle responses appropriately (retry, show error messages, redirect).\n",
        "\n",
        "* Improve Debugging\n",
        "\n",
        "    Helps developers diagnose what went wrong.\n",
        "\n",
        "* RESTful API Best Practices\n",
        "\n",
        "    Proper use of status codes aligns your API with HTTP standards and expectations."
      ]
    },
    {
      "cell_type": "markdown",
      "metadata": {
        "id": "ctvF0vk-X5cQ"
      },
      "source": [
        "20. How do you handle POST requests in Flask?"
      ]
    },
    {
      "cell_type": "markdown",
      "metadata": {
        "id": "FRnwLDp2cXQm"
      },
      "source": [
        "->>\n",
        "\n",
        "To handle POST requests in Flask, you define a route that accepts the POST method and use the request object to access the data sent by the client.\n",
        "\n",
        "* Import required modules\n",
        "* Define a route with methods=['POST']\n",
        "* Use request.form or request.json to get the data\n",
        "* Return a response (usually JSON)"
      ]
    },
    {
      "cell_type": "markdown",
      "metadata": {
        "id": "HnB27SjxX9Rw"
      },
      "source": [
        "21. How would you secure a Flask API?"
      ]
    },
    {
      "cell_type": "markdown",
      "metadata": {
        "id": "KfizQoM-cxle"
      },
      "source": [
        "->>\n",
        "\n",
        "Securing a Flask API involves implementing multiple layers of protection to ensure that data is transmitted safely, users are authenticated and authorized, and the API is protected from common attacks.\n",
        "\n",
        "1. Use HTTPS\n",
        "    * Always deploy your Flask app behind a web server (like Nginx) with an SSL certificate.\n",
        "\n",
        "    * HTTPS ensures encrypted data transfer, protecting sensitive data like tokens and passwords.\n",
        "2. Authentication & Authorization\n",
        "    * Use JWT (JSON Web Tokens) or OAuth2 for secure authentication.\n",
        "\n",
        "    * Libraries like Flask-JWT-Extended help enforce authentication.\n",
        "3. Input Validation\n",
        "    * Always validate user input to prevent attacks like SQL injection and XSS.\n",
        "\n",
        "    * Use libraries like Marshmallow or Pydantic to define schemas and enforce types.\n",
        "\n",
        "4. Rate Limiting\n",
        "    * Prevent abuse (e.g., brute-force login attempts) using rate limiting.\n",
        "\n",
        "    * Use Flask-Limiter.\n",
        "5. Cross-Origin Resource Sharing (CORS)\n",
        "    * Use Flask-CORS to control which origins are allowed to access your API.\n",
        "6. Secure Configuration\n",
        "    * Never expose secrets like API keys or database credentials.\n",
        "\n",
        "    * Load secrets from environment variables or a secure vault.\n",
        "\n",
        "    * Disable DEBUG mode in production.\n",
        "7. Security Headers\n",
        "    * Set headers like Content-Security-Policy, X-Frame-Options, and Strict-Transport-Security via your server or Flask.\n",
        "\n",
        "8. Limit Data Exposure\n",
        "    * Avoid returning sensitive information in responses.\n",
        "\n",
        "    * Sanitize error messages and stack traces.\n",
        "\n",
        "9. Logging & Monitoring\n",
        "    * Log access and errors securely.\n",
        "\n",
        "    * Use tools like Sentry, ELK stack, or Prometheus/Grafana to monitor behavior and spot anomalies.\n",
        "\n",
        "10. Regular Updates & Dependency Checks\n",
        "    * Keep Flask and extensions updated.\n",
        "\n",
        "    * Use pip-audit or safety to scan for vulnerable packages.\n",
        "\n"
      ]
    },
    {
      "cell_type": "markdown",
      "metadata": {
        "id": "_ib39DTHYC-3"
      },
      "source": [
        "22. What is the significance of the Flask-RESTful extension?"
      ]
    },
    {
      "cell_type": "markdown",
      "metadata": {
        "id": "Yl7m_duDeGb2"
      },
      "source": [
        "->>\n",
        "\n",
        "The Flask-RESTful extension is a popular Flask extension that simplifies the process of building RESTful APIs. It provides tools and abstractions to help you write clean, maintainable, and scalable API endpoints.\n",
        "\n"
      ]
    },
    {
      "cell_type": "markdown",
      "metadata": {
        "id": "FB6DTmKXYHGg"
      },
      "source": [
        "23. What is the role of Flask’s session object?"
      ]
    },
    {
      "cell_type": "markdown",
      "metadata": {
        "id": "1G_iJJ9KeN0c"
      },
      "source": [
        "->>\n",
        "\n",
        "The session object in Flask is used to store data across requests for a particular user — it allows you to persist information (like login status, user preferences, or temporary data) between different HTTP requests made by the same client."
      ]
    },
    {
      "cell_type": "markdown",
      "metadata": {
        "id": "qu4gehMEYLPP"
      },
      "source": [
        "# **Practical**"
      ]
    },
    {
      "cell_type": "markdown",
      "metadata": {
        "id": "AUgSsM2VYjlX"
      },
      "source": [
        "1. How do you create a basic Flask application?"
      ]
    },
    {
      "cell_type": "code",
      "execution_count": null,
      "metadata": {
        "colab": {
          "background_save": true,
          "base_uri": "https://localhost:8080/"
        },
        "id": "xOsOW0Zk9QhC",
        "outputId": "2f112091-6861-4df8-a9ab-efd4124775f1"
      },
      "outputs": [
        {
          "output_type": "stream",
          "name": "stdout",
          "text": [
            " * Serving Flask app '__main__'\n",
            " * Debug mode: on\n"
          ]
        },
        {
          "output_type": "stream",
          "name": "stderr",
          "text": [
            "INFO:werkzeug:\u001b[31m\u001b[1mWARNING: This is a development server. Do not use it in a production deployment. Use a production WSGI server instead.\u001b[0m\n",
            " * Running on http://127.0.0.1:5000\n",
            "INFO:werkzeug:\u001b[33mPress CTRL+C to quit\u001b[0m\n",
            "INFO:werkzeug: * Restarting with stat\n"
          ]
        }
      ],
      "source": [
        "from flask import Flask\n",
        "\n",
        "app = Flask(__name__)\n",
        "\n",
        "@app.route('/')\n",
        "def home():\n",
        "    return \"Hello, Flask!\"\n",
        "\n",
        "if __name__ == '__main__':\n",
        "    app.run(debug=True)"
      ]
    },
    {
      "cell_type": "markdown",
      "metadata": {
        "id": "AeCMLn8wYniP"
      },
      "source": [
        "2. How do you serve static files like images or CSS in Flask?"
      ]
    },
    {
      "cell_type": "code",
      "source": [
        "from flask import Flask, url_for, render_template_string\n",
        "\n",
        "app = Flask(__name__)\n",
        "\n",
        "@app.route('/')\n",
        "def home():\n",
        "    # Use url_for to generate the URL for static files\n",
        "    css_url = url_for('static', filename='styles.css')\n",
        "    logo_url = url_for('static', filename='logo.png')\n",
        "    return render_template_string('''\n",
        "        <html>\n",
        "        <head><link rel=\"stylesheet\" href=\"{{ css_url }}\"></head>\n",
        "        <body>\n",
        "            <h1>Welcome!</h1>\n",
        "            <img src=\"{{ logo_url }}\" alt=\"Logo\">\n",
        "        </body>\n",
        "        </html>\n",
        "    ''', css_url=css_url, logo_url=logo_url)\n",
        "\n",
        "if __name__ == '__main__':\n",
        "    app.run(debug=True)"
      ],
      "metadata": {
        "id": "Llbn8JSfVB4_",
        "colab": {
          "base_uri": "https://localhost:8080/"
        },
        "outputId": "9ac57d95-6da3-43d5-88a7-757a43a8e04f"
      },
      "execution_count": null,
      "outputs": [
        {
          "output_type": "stream",
          "name": "stdout",
          "text": [
            " * Serving Flask app '__main__'\n",
            " * Debug mode: on\n"
          ]
        },
        {
          "output_type": "stream",
          "name": "stderr",
          "text": [
            "INFO:werkzeug:\u001b[31m\u001b[1mWARNING: This is a development server. Do not use it in a production deployment. Use a production WSGI server instead.\u001b[0m\n",
            " * Running on http://127.0.0.1:5000\n",
            "INFO:werkzeug:\u001b[33mPress CTRL+C to quit\u001b[0m\n",
            "INFO:werkzeug: * Restarting with stat\n"
          ]
        }
      ]
    },
    {
      "cell_type": "markdown",
      "metadata": {
        "id": "irgQwUe0YtZn"
      },
      "source": [
        "3. How do you define different routes with different HTTP methods in Flask?"
      ]
    },
    {
      "cell_type": "code",
      "source": [
        "from flask import Flask, request, jsonify\n",
        "\n",
        "app = Flask(__name__)\n",
        "\n",
        "@app.route('/items', methods=['GET'])\n",
        "def get_items():\n",
        "    return jsonify({\"message\": \"This is a GET request to fetch items\"})\n",
        "\n",
        "@app.route('/items', methods=['POST'])\n",
        "def create_item():\n",
        "    data = request.get_json()\n",
        "    return jsonify({\"message\": \"Item created\", \"item\": data}), 201\n",
        "\n",
        "@app.route('/items/<int:item_id>', methods=['PUT'])\n",
        "def update_item(item_id):\n",
        "    data = request.get_json()\n",
        "    return jsonify({\"message\": f\"Item {item_id} updated\", \"updated_data\": data})\n",
        "\n",
        "@app.route('/items/<int:item_id>', methods=['DELETE'])\n",
        "def delete_item(item_id):\n",
        "    return jsonify({\"message\": f\"Item {item_id} deleted\"})\n",
        "\n",
        "if __name__ == '__main__':\n",
        "    app.run(debug=True)"
      ],
      "metadata": {
        "id": "5_6w9bLLVWJu"
      },
      "execution_count": null,
      "outputs": []
    },
    {
      "cell_type": "markdown",
      "metadata": {
        "id": "8pXryVxKYyKf"
      },
      "source": [
        "4. How do you render HTML templates in Flask?"
      ]
    },
    {
      "cell_type": "code",
      "source": [
        "from flask import Flask, render_template\n",
        "\n",
        "app = Flask(__name__)\n",
        "\n",
        "@app.route('/')\n",
        "def home():\n",
        "    # Render an HTML template named 'index.html' located in the 'templates' folder\n",
        "    return render_template('index.html', title=\"Home Page\", username=\"Alice\")\n",
        "\n",
        "if __name__ == '__main__':\n",
        "    app.run(debug=True)"
      ],
      "metadata": {
        "id": "mPbnK9xnVZtd"
      },
      "execution_count": null,
      "outputs": []
    },
    {
      "cell_type": "markdown",
      "metadata": {
        "id": "qLILOdi0Y15P"
      },
      "source": [
        "5. How can you generate URLs for routes in Flask using url_for?"
      ]
    },
    {
      "cell_type": "code",
      "source": [
        "from flask import Flask, url_for\n",
        "\n",
        "app = Flask(__name__)\n",
        "\n",
        "@app.route('/')\n",
        "def home():\n",
        "    return \"This is the home page.\"\n",
        "\n",
        "@app.route('/user/<username>')\n",
        "def profile(username):\n",
        "    return f\"User profile for {username}\"\n",
        "\n",
        "@app.route('/links')\n",
        "def links():\n",
        "    # Generate URLs for the 'home' and 'profile' routes\n",
        "    home_url = url_for('home')\n",
        "    profile_url = url_for('profile', username='john_doe')\n",
        "    return f\"\"\"\n",
        "    <a href=\"{home_url}\">Home</a><br>\n",
        "    <a href=\"{profile_url}\">John's Profile</a>\n",
        "    \"\"\"\n",
        "\n",
        "if __name__ == '__main__':\n",
        "    app.run(debug=True)"
      ],
      "metadata": {
        "id": "z11oyKHcVcsd"
      },
      "execution_count": null,
      "outputs": []
    },
    {
      "cell_type": "markdown",
      "metadata": {
        "id": "AjERA3N7Y6On"
      },
      "source": [
        "6. How do you handle forms in Flask?"
      ]
    },
    {
      "cell_type": "code",
      "source": [
        "from flask import Flask, request, render_template_string, redirect, url_for\n",
        "\n",
        "app = Flask(__name__)\n",
        "\n",
        "@app.route('/form', methods=['GET', 'POST'])\n",
        "def form():\n",
        "    if request.method == 'POST':\n",
        "        # Access form data\n",
        "        name = request.form.get('name')\n",
        "        email = request.form.get('email')\n",
        "        # Process data (e.g., save to database)\n",
        "        return redirect(url_for('success', username=name))\n",
        "\n",
        "    # Render simple HTML form\n",
        "    return render_template_string('''\n",
        "        <form method=\"POST\">\n",
        "            Name: <input type=\"text\" name=\"name\" required><br>\n",
        "            Email: <input type=\"email\" name=\"email\" required><br>\n",
        "            <input type=\"submit\" value=\"Submit\">\n",
        "        </form>\n",
        "    ''')\n",
        "\n",
        "@app.route('/success/<username>')\n",
        "def success(username):\n",
        "    return f\"Form submitted successfully! Welcome, {username}.\"\n",
        "\n",
        "if __name__ == '__main__':\n",
        "    app.run(debug=True)"
      ],
      "metadata": {
        "id": "DqsVqv24Vmhd"
      },
      "execution_count": null,
      "outputs": []
    },
    {
      "cell_type": "markdown",
      "metadata": {
        "id": "WTiYnBhfY-CX"
      },
      "source": [
        "7. How can you validate form data in Flask?"
      ]
    },
    {
      "cell_type": "code",
      "source": [
        "from flask import Flask, request, render_template_string, redirect, url_for, flash\n",
        "from flask_wtf import FlaskForm\n",
        "from wtforms import StringField, EmailField\n",
        "from wtforms.validators import DataRequired, Email, Length\n",
        "\n",
        "app = Flask(__name__)\n",
        "app.secret_key = 'your_secret_key'  # Needed for CSRF protection and flashing messages\n",
        "\n",
        "class MyForm(FlaskForm):\n",
        "    name = StringField('Name', validators=[DataRequired(), Length(min=2, max=50)])\n",
        "    email = EmailField('Email', validators=[DataRequired(), Email()])\n",
        "\n",
        "@app.route('/form', methods=['GET', 'POST'])\n",
        "def form():\n",
        "    form = MyForm()\n",
        "    if form.validate_on_submit():\n",
        "        name = form.name.data\n",
        "        email = form.email.data\n",
        "        return redirect(url_for('success', username=name))\n",
        "    # Render form with validation error messages\n",
        "    return render_template_string('''\n",
        "        <form method=\"POST\">\n",
        "            {{ form.hidden_tag() }}\n",
        "            Name: {{ form.name(size=20) }}<br>\n",
        "            {% for error in form.name.errors %}\n",
        "                <span style=\"color:red;\">{{ error }}</span><br>\n",
        "            {% endfor %}\n",
        "            Email: {{ form.email(size=20) }}<br>\n",
        "            {% for error in form.email.errors %}\n",
        "                <span style=\"color:red;\">{{ error }}</span><br>\n",
        "            {% endfor %}\n",
        "            <input type=\"submit\" value=\"Submit\">\n",
        "        </form>\n",
        "    ''', form=form)\n",
        "\n",
        "@app.route('/success/<username>')\n",
        "def success(username):\n",
        "    return f\"Form submitted successfully! Welcome, {username}.\"\n",
        "\n",
        "if __name__ == '__main__':\n",
        "    app.run(debug=True)"
      ],
      "metadata": {
        "id": "LYunLrNiVs5U"
      },
      "execution_count": null,
      "outputs": []
    },
    {
      "cell_type": "markdown",
      "metadata": {
        "id": "iTPXZdblZCHX"
      },
      "source": [
        "8. How do you manage sessions in Flask?"
      ]
    },
    {
      "cell_type": "code",
      "source": [
        "from flask import Flask, session, redirect, url_for, request\n",
        "\n",
        "app = Flask(__name__)\n",
        "app.secret_key = 'your_secret_key'  # Required to use sessions securely\n",
        "\n",
        "@app.route('/login', methods=['GET', 'POST'])\n",
        "def login():\n",
        "    if request.method == 'POST':\n",
        "        # Store username in session after login\n",
        "        session['username'] = request.form['username']\n",
        "        return redirect(url_for('profile'))\n",
        "    return '''\n",
        "        <form method=\"POST\">\n",
        "            Username: <input type=\"text\" name=\"username\">\n",
        "            <input type=\"submit\" value=\"Login\">\n",
        "        </form>\n",
        "    '''\n",
        "\n",
        "@app.route('/profile')\n",
        "def profile():\n",
        "    # Access session data\n",
        "    if 'username' in session:\n",
        "        return f\"Logged in as {session['username']}\"\n",
        "    return \"You are not logged in.\"\n",
        "\n",
        "@app.route('/logout')\n",
        "def logout():\n",
        "    # Clear the session\n",
        "    session.pop('username', None)\n",
        "    return redirect(url_for('login'))\n",
        "\n",
        "if __name__ == '__main__':\n",
        "    app.run(debug=True)"
      ],
      "metadata": {
        "id": "sIRI2KSLVy9U"
      },
      "execution_count": null,
      "outputs": []
    },
    {
      "cell_type": "markdown",
      "metadata": {
        "id": "ndmlYuwnZFtn"
      },
      "source": [
        "9. How do you redirect to a different route in Flask?"
      ]
    },
    {
      "cell_type": "code",
      "source": [
        "from flask import Flask, redirect, url_for\n",
        "\n",
        "app = Flask(__name__)\n",
        "\n",
        "@app.route('/')\n",
        "def home():\n",
        "    # Redirect to the 'welcome' route\n",
        "    return redirect(url_for('welcome'))\n",
        "\n",
        "@app.route('/welcome')\n",
        "def welcome():\n",
        "    return \"Welcome to the redirected page!\"\n",
        "\n",
        "if __name__ == '__main__':\n",
        "    app.run(debug=True)"
      ],
      "metadata": {
        "id": "4r37jQeFV4V8"
      },
      "execution_count": null,
      "outputs": []
    },
    {
      "cell_type": "markdown",
      "metadata": {
        "id": "fG0fZnS4ZKA3"
      },
      "source": [
        "10. How do you handle errors in Flask (e.g., 404)?"
      ]
    },
    {
      "cell_type": "code",
      "source": [
        "from flask import Flask, render_template_string\n",
        "\n",
        "app = Flask(__name__)\n",
        "\n",
        "@app.errorhandler(404)\n",
        "def not_found_error(error):\n",
        "    return render_template_string('''\n",
        "        <h1>404 Not Found</h1>\n",
        "        <p>The page you are looking for does not exist.</p>\n",
        "    '''), 404\n",
        "\n",
        "@app.route('/')\n",
        "def home():\n",
        "    return \"Welcome to the home page!\"\n",
        "\n",
        "if __name__ == '__main__':\n",
        "    app.run(debug=True)"
      ],
      "metadata": {
        "id": "qoWKDwsbV7KU"
      },
      "execution_count": null,
      "outputs": []
    },
    {
      "cell_type": "markdown",
      "metadata": {
        "id": "VKpztSK5ZNfX"
      },
      "source": [
        "11. How do you structure a Flask app using Blueprints?"
      ]
    },
    {
      "cell_type": "code",
      "source": [
        "from flask import Blueprint\n",
        "\n",
        "users_bp = Blueprint('users', __name__, url_prefix='/users')\n",
        "\n",
        "@users_bp.route('/')\n",
        "def users_home():\n",
        "    return \"Users Home Page\"\n",
        "\n",
        "@users_bp.route('/profile')\n",
        "def profile():\n",
        "    return \"User Profile Page\"\n",
        "\n",
        "# products/routes.py\n",
        "from flask import Blueprint\n",
        "\n",
        "products_bp = Blueprint('products', __name__, url_prefix='/products')\n",
        "\n",
        "@products_bp.route('/')\n",
        "def products_home():\n",
        "    return \"Products Home Page\"\n",
        "\n",
        "@products_bp.route('/details')\n",
        "def details():\n",
        "    return \"Product Details Page\"\n",
        "\n",
        "# app.py\n",
        "from flask import Flask\n",
        "from users.routes import users_bp\n",
        "from products.routes import products_bp\n",
        "\n",
        "app = Flask(__name__)\n",
        "\n",
        "# Register blueprints\n",
        "app.register_blueprint(users_bp)\n",
        "app.register_blueprint(products_bp)\n",
        "\n",
        "@app.route('/')\n",
        "def home():\n",
        "    return \"Main Home Page\"\n",
        "\n",
        "if __name__ == '__main__':\n",
        "    app.run(debug=True)"
      ],
      "metadata": {
        "id": "BN2WJvK4V_A8"
      },
      "execution_count": null,
      "outputs": []
    },
    {
      "cell_type": "markdown",
      "metadata": {
        "id": "sQooF16MZRCP"
      },
      "source": [
        "12. How do you define a custom Jinja filter in Flask?"
      ]
    },
    {
      "cell_type": "code",
      "source": [
        "from flask import Flask, render_template_string\n",
        "\n",
        "app = Flask(__name__)\n",
        "\n",
        "# Define a custom Jinja filter function\n",
        "def reverse_string(s):\n",
        "    return s[::-1]\n",
        "\n",
        "# Register the filter with Flask\n",
        "app.jinja_env.filters['reverse'] = reverse_string\n",
        "\n",
        "@app.route('/')\n",
        "def home():\n",
        "    text = \"Flask\"\n",
        "    # Use the custom filter 'reverse' in the template\n",
        "    return render_template_string('''\n",
        "        Original: {{ text }} <br>\n",
        "        Reversed: {{ text|reverse }}\n",
        "    ''', text=text)\n",
        "\n",
        "if __name__ == '__main__':\n",
        "    app.run(debug=True)"
      ],
      "metadata": {
        "id": "6Px5w5ajWHAk"
      },
      "execution_count": null,
      "outputs": []
    },
    {
      "cell_type": "markdown",
      "metadata": {
        "id": "XbDmuc3xZUvf"
      },
      "source": [
        "13. How can you redirect with query parameters in Flask?"
      ]
    },
    {
      "cell_type": "code",
      "source": [
        "from flask import Flask, redirect, url_for, request\n",
        "\n",
        "app = Flask(__name__)\n",
        "\n",
        "@app.route('/search')\n",
        "def search():\n",
        "    # Get query parameters from URL\n",
        "    query = request.args.get('q', '')\n",
        "    return f\"Search results for: {query}\"\n",
        "\n",
        "@app.route('/redirect-to-search')\n",
        "def redirect_to_search():\n",
        "    # Redirect to '/search' with query parameters\n",
        "    return redirect(url_for('search', q='flask tutorials', page=2))\n",
        "\n",
        "if __name__ == '__main__':\n",
        "    app.run(debug=True)"
      ],
      "metadata": {
        "id": "GvsIU9dnWKm8"
      },
      "execution_count": null,
      "outputs": []
    },
    {
      "cell_type": "markdown",
      "metadata": {
        "id": "-O5wpjUYZYp-"
      },
      "source": [
        "14. How do you return JSON responses in Flask?"
      ]
    },
    {
      "cell_type": "code",
      "source": [
        "from flask import Flask, jsonify\n",
        "\n",
        "app = Flask(__name__)\n",
        "\n",
        "@app.route('/api/data')\n",
        "def api_data():\n",
        "    data = {\n",
        "        \"name\": \"Alice\",\n",
        "        \"age\": 30,\n",
        "        \"city\": \"New York\"\n",
        "    }\n",
        "    return jsonify(data)  # Automatically converts dict to JSON response\n",
        "\n",
        "if __name__ == '__main__':\n",
        "    app.run(debug=True)"
      ],
      "metadata": {
        "id": "0lHcxLQCWM2c"
      },
      "execution_count": null,
      "outputs": []
    },
    {
      "cell_type": "markdown",
      "metadata": {
        "id": "84nbSuU4Zf__"
      },
      "source": [
        "15. How do you capture URL parameters in Flask?"
      ]
    },
    {
      "cell_type": "code",
      "execution_count": null,
      "metadata": {
        "id": "YeRCWcnYVqyt"
      },
      "outputs": [],
      "source": [
        "from flask import Flask\n",
        "\n",
        "app = Flask(__name__)\n",
        "\n",
        "# Capture a string parameter from the URL\n",
        "@app.route('/user/<username>')\n",
        "def show_user(username):\n",
        "    return f\"User: {username}\"\n",
        "\n",
        "# Capture an integer parameter from the URL\n",
        "@app.route('/post/<int:post_id>')\n",
        "def show_post(post_id):\n",
        "    return f\"Post ID: {post_id}\"\n",
        "\n",
        "if __name__ == '__main__':\n",
        "    app.run(debug=True)"
      ]
    }
  ],
  "metadata": {
    "colab": {
      "provenance": []
    },
    "kernelspec": {
      "display_name": "Python 3",
      "name": "python3"
    },
    "language_info": {
      "name": "python"
    }
  },
  "nbformat": 4,
  "nbformat_minor": 0
}