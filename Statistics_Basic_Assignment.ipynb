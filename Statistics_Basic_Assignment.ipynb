{
  "nbformat": 4,
  "nbformat_minor": 0,
  "metadata": {
    "colab": {
      "provenance": []
    },
    "kernelspec": {
      "name": "python3",
      "display_name": "Python 3"
    },
    "language_info": {
      "name": "python"
    }
  },
  "cells": [
    {
      "cell_type": "markdown",
      "source": [
        "# **Statistics Basics**"
      ],
      "metadata": {
        "id": "BQ4FFeaQPh0i"
      }
    },
    {
      "cell_type": "markdown",
      "source": [
        "1. What is statistics, and why is it important?"
      ],
      "metadata": {
        "id": "Zb-MSQjhPnXZ"
      }
    },
    {
      "cell_type": "markdown",
      "source": [
        "->>\n",
        "\n",
        "\n",
        "  Statistics is a branch of mathematics that deals with collecting, analyzing, interpreting, presenting, and organizing data. It provides methods to describe and quantify variability in data, allowing for informed decision-making. Statistics can be descriptive, summarizing data points using metrics like mean and standard deviation, or inferential, making predictions and testing hypotheses based on sample data extrapolated to larger populations.\n",
        "\n",
        "* Informed Decision-Making\n",
        "\n",
        "  Statistics provides methods and tools to analyze data, enabling us to perform better and evidence-based results in various fields such as business, healthcare, and public policy.\n",
        "\n",
        "* Understanding the Worl\n",
        "\n",
        "  Descriptive statistics help summarize and visualize data, making it easier to understand trends, patterns, and relationships within the data.\n",
        "\n",
        "* Predictive Insights\n",
        "  \n",
        "  Inferential statistics enable predictions about future events based on current data.\n",
        "\n",
        "* Scientific Research\n",
        "\n",
        "  Statistics is foundational in research, assisting in hypothesis testing and validating experimental results.\n",
        "\n",
        "* Everyday Applications\n",
        "  \n",
        "  From determining the average fuel efficiency of a car to evaluating the effectiveness of a new medication, statistics play a role in daily life decisions, emphasizing its pervasive importance.\n",
        "\n"
      ],
      "metadata": {
        "id": "WNEy6xM_m_Vm"
      }
    },
    {
      "cell_type": "markdown",
      "source": [
        "2. What are the two main types of statistics?"
      ],
      "metadata": {
        "id": "mj0-3qNmPsRQ"
      }
    },
    {
      "cell_type": "markdown",
      "source": [
        "->>\n",
        "\n",
        "* Descriptive Statistics\n",
        "\n",
        "  Descriptive statistics involve methods for summarizing and organizing data to make it understandable. This includes calculating measures such as the mean (average), median, mode, range, and standard deviation. Visual tools like charts, graphs, and tables are also employed to represent data distributions effectively.\n",
        "\n",
        "  Example: Calculating the average test score of students in a class provides a quick overview of the class's performance.\n",
        "\n",
        "  Descriptive statistics focus solely on the dataset at hand, without making inferences about a larger population.\n",
        "\n",
        "* Inferential Statistics\n",
        "\n",
        "  Inferential statistics use data from a sample to make generalizations or predictions about a larger population. This branch employs techniques like hypothesis testing, confidence intervals, and regression analysis to draw conclusions beyond the immediate data.\n",
        "\n",
        "  Example: Surveying a sample of voters to predict the outcome of an election for the entire electorate.\n",
        "\n",
        "  Inferential statistics are essential when it's impractical or impossible to collect data from an entire population, allowing researchers to make informed decisions based on sample data."
      ],
      "metadata": {
        "id": "49_6R9qXn3JW"
      }
    },
    {
      "cell_type": "markdown",
      "source": [
        "3. What are descriptive statistics?"
      ],
      "metadata": {
        "id": "G4sHQQktPxe5"
      }
    },
    {
      "cell_type": "markdown",
      "source": [
        "->>\n",
        "\n",
        "   Descriptive statistics is a branch of statistics that focuses on summarizing and organizing data to make it understandable and interpretable. It provides simple summaries about the sample and the measures, often through numerical calculations, graphs, and tables. Unlike inferential statistics, which aims to make predictions or inferences about a population based on a sample, descriptive statistics is concerned solely with describing the characteristics of a dataset."
      ],
      "metadata": {
        "id": "ejDq95vho0pG"
      }
    },
    {
      "cell_type": "markdown",
      "source": [
        "4. What is inferential statistics?"
      ],
      "metadata": {
        "id": "C28WDtZ5P20Y"
      }
    },
    {
      "cell_type": "markdown",
      "source": [
        "->>\n",
        "\n",
        "Inferential statistics involves using sample data to estimate population parameters, test hypotheses, and make predictions. Since it's often impractical to collect data from an entire population, researchers rely on samples to make inferences about the larger group. This approach acknowledges that conclusions drawn are subject to a degree of uncertainty, which is quantified using probability."
      ],
      "metadata": {
        "id": "lS-wdADApDls"
      }
    },
    {
      "cell_type": "markdown",
      "source": [
        "5. What is sampling in statistics?"
      ],
      "metadata": {
        "id": "dTFTWsQkP6rZ"
      }
    },
    {
      "cell_type": "markdown",
      "source": [
        "->>\n",
        "\n",
        "Sampling is a fundamental concept in statistics that involves selecting a subset, or \"sample,\" from a larger group known as the \"population.\" This approach allows researchers to gather insights and make inferences about the entire population without examining every individual member, which is often impractical or impossible due to constraints like time, cost, or accessibility."
      ],
      "metadata": {
        "id": "FLFSemMUpq6G"
      }
    },
    {
      "cell_type": "markdown",
      "source": [
        "6. What are the different types of sampling methods?"
      ],
      "metadata": {
        "id": "QFgZzUE0P-xw"
      }
    },
    {
      "cell_type": "markdown",
      "source": [
        "->>\n",
        "\n",
        "* Probability Sampling\n",
        "\n",
        " In probability sampling, every member of the population has a known, non-zero chance of being selected. This approach is ideal for producing representative and unbiased results.\n",
        "\n",
        "1. Simple Random Sampling\n",
        "\n",
        "  Definition: Each individual in the population has an equal chance of being selected.\n",
        "\n",
        " Example: Drawing names from a hat to select participants.\n",
        "\n",
        " Advantage: Minimizes selection bias.\n",
        "\n",
        "2. Stratified Sampling\n",
        "\n",
        " Definition: The population is divided into subgroups (strata) based on shared characteristics, and random samples are taken from each stratum.\n",
        "\n",
        " Example: Dividing a school's students by grade level and randomly selecting students from each grade.\n",
        "\n",
        " Advantage: Ensures representation across key subgroups.\n",
        "\n",
        "3. Cluster Sampling\n",
        "\n",
        " Definition: The population is divided into clusters, some of which are randomly selected, and all individuals within chosen clusters are surveyed.\n",
        "\n",
        " Example: Selecting random classrooms in a school and surveying all students in those rooms.\n",
        "\n",
        " Advantage: Cost-effective for large, dispersed populations.\n",
        "\n",
        "4. Systematic Sampling\n",
        "\n",
        " Definition: Selecting every nth individual from a list, starting from a randomly chosen point.\n",
        "\n",
        " Example: Choosing every 10th customer entering a store.\n",
        "\n",
        " Advantage: Simplifies the sampling process.\n",
        "\n",
        "* Non-Probability Sampling\n",
        "\n",
        " In non-probability sampling, not all members have a known or equal chance of being selected. This method is often used when probability sampling isn't feasible.\n",
        "\n",
        "1. Convenience Sampling\n",
        "\n",
        " Definition: Selecting individuals who are easiest to reach.\n",
        "\n",
        " Example: Surveying people at a nearby mall.\n",
        "\n",
        " Advantage: Quick and inexpensive.\n",
        "\n",
        " Limitation: High risk of bias; may not represent the population.\n",
        "\n",
        "2. Purposive (Judgmental) Sampling\n",
        "\n",
        " Definition: Selecting individuals based on specific characteristics or qualities.\n",
        "\n",
        " Example: Choosing experts in a field for a specialized study.\n",
        "\n",
        " Advantage: Focuses on specific, relevant subjects.\n",
        "\n",
        " Limitation: Subjective; potential for researcher bias.\n",
        "\n",
        "3. Snowball Sampling\n",
        "\n",
        " Definition: Existing study subjects recruit future subjects from among their acquaintances.\n",
        "\n",
        " Example: Studying a hidden population, like individuals with a rare disease, where participants refer others they know.\n",
        "\n",
        " Advantage: Useful for hard-to-reach populations.\n",
        "\n",
        " Limitation: Potential for sampling bias; not generalizable.\n",
        "\n",
        "4. Quota Sampling\n",
        "\n",
        " Definition: Ensuring the sample meets certain quotas representing specific characteristics.\n",
        "\n",
        " Example: Surveying a set number of individuals from different age groups.\n",
        "\n",
        " Advantage: Ensures representation of specific subgroups.\n",
        "\n",
        " Limitation: Non-random selection can introduce bias."
      ],
      "metadata": {
        "id": "ErecJAYIpzf0"
      }
    },
    {
      "cell_type": "markdown",
      "source": [
        "7. What is the difference between random and non-random sampling?"
      ],
      "metadata": {
        "id": "1YtmsMVeQC_Q"
      }
    },
    {
      "cell_type": "markdown",
      "source": [
        "->>\n",
        "\n",
        "* Random Sampling (Probability Sampling)\n",
        "\n",
        " Definition: In random sampling, every member of the population has a known and equal chance of being selected. This method minimizes selection bias and enhances the representativeness of the sample.\n",
        "\n",
        " * Selection Basis : Equal chance for all members\n",
        " * Bias\t: Minimizes selection bias\n",
        " * Representativeness : Generally representative of the population\n",
        " * Generalizability\t: High\n",
        " * Complexity\t: More complex and time-consuming\n",
        " * Cost\tPotentially higher\n",
        "\n",
        "* Non-Random Sampling (Non-Probability Sampling)\n",
        "\n",
        " Definition: Non-random sampling involves selecting individuals based on non-random criteria, such as convenience or judgment. This approach does not give all members of the population an equal chance of selection.\n",
        "\n",
        " * Selection Basis : \tBased on convenience or researcher judgment\n",
        " * Bias : Higher risk of selection bias\n",
        " * Representativeness : May not represent the population accurately\n",
        " * Generalizability : Limited\n",
        " * Complexity : Simpler and quicker\n",
        " * Cost : Generally lower\n"
      ],
      "metadata": {
        "id": "ZDqYbltesTOi"
      }
    },
    {
      "cell_type": "markdown",
      "source": [
        "8. Define and give examples of qualitative and quantitative data."
      ],
      "metadata": {
        "id": "XJcxuwevQHVY"
      }
    },
    {
      "cell_type": "markdown",
      "source": [
        "->>\n",
        "\n",
        "* Qualitative Data\n",
        "\n",
        " Definition: Qualitative data is non-numerical information that captures characteristics, descriptions, and qualities of phenomena. It emphasizes understanding meanings, experiences, and subjective insights rather than numerical measurement.\n",
        "\n",
        " Examples of Qualitative Data\n",
        "\n",
        " Colors: Descriptions like \"blue,\" \"red,\" or \"green.\"\n",
        "\n",
        " Opinions: Customer feedback such as \"The service was excellent.\"\n",
        "\n",
        " Behaviors: Observations like \"The participant smiled during the interview.\"\n",
        "\n",
        " Textures: Descriptions such as \"The fabric feels rough.\"\n",
        "\n",
        "* Quantitative Data\n",
        "\n",
        " Definition: Quantitative data is numerical information that can be measured and expressed using numbers. It allows for statistical analysis and mathematical computations.\n",
        "\n",
        " Examples of Quantitative Data\n",
        "\n",
        " Height: A person's height measured in centimeters or inches.\n",
        "\n",
        " Age: Age expressed in years.\n",
        "\n",
        " Income: Monthly income in dollars.\n",
        "\n",
        " Temperature: Room temperature measured in degrees Celsius or Fahrenheit."
      ],
      "metadata": {
        "id": "BcDjuLczuacZ"
      }
    },
    {
      "cell_type": "markdown",
      "source": [
        "9. What are the different types of data in statistics?"
      ],
      "metadata": {
        "id": "cpUV63TTQLKw"
      }
    },
    {
      "cell_type": "markdown",
      "source": [
        "->>\n",
        "\n",
        "1. Qualitative (Categorical) Data\n",
        "\n",
        " Qualitative data represents categories or labels and is further divided into:\n",
        "\n",
        " a. Nominal Data\n",
        "   \n",
        "   Definition: Categorizes data without any intrinsic order.\n",
        "\n",
        "   Examples: Gender (Male, Female), Blood Type (A, B, AB, O), Nationality (Indian, American, etc.).\n",
        "\n",
        "   Usage: Used to label variables without quantitative value.\n",
        "\n",
        "  b. Ordinal Data\n",
        "\n",
        "   Definition: Categorizes data with a meaningful order, but the intervals between categories are not consistent.\n",
        "\n",
        "   Examples: Customer Satisfaction (Very Satisfied, Satisfied, Neutral, Dissatisfied, Very Dissatisfied), Education Level (High School, Bachelor's, Master's, PhD).\n",
        "\n",
        "   Usage: Used to represent rankings or ordered categories.\n",
        "\n",
        "2. Quantitative (Numerical) Data\n",
        "\n",
        "   Quantitative data represents measurable quantities and is divided into:\n",
        "\n",
        "   a. Discrete Data\n",
        "    \n",
        "     Definition: Consists of distinct, separate values; often counts.\n",
        "\n",
        "     Examples: Number of students in a class, Number of cars in a parking lot.\n",
        "\n",
        "     Usage: Used for counting occurrences or items.\n",
        "\n",
        "   b. Continuous Data\n",
        "   \n",
        "     Definition: Can take any value within a range; often measurements.\n",
        "\n",
        "     Examples: Height, Weight, Temperature.\n",
        "\n",
        "     Usage: Used for measurements that can be infinitely divided.\n",
        "\n"
      ],
      "metadata": {
        "id": "GOOBNeVUvabw"
      }
    },
    {
      "cell_type": "markdown",
      "source": [
        "10. Explain nominal, ordinal, interval, and ratio levels of measurement."
      ],
      "metadata": {
        "id": "y7TcH90BQSew"
      }
    },
    {
      "cell_type": "markdown",
      "source": [
        "->>\n",
        "\n",
        " 1. Nominal Scale\n",
        "\n",
        "   * Definition: Categorizes data into distinct, non-overlapping groups without any inherent order.\n",
        "\n",
        "   * Key Features:\n",
        "      * No natural ranking or order.\n",
        "      * Categories are mutually exclusive.\n",
        "      * Mathematical operations are limited to counting occurrences.\n",
        "\n",
        "   * Examples:\n",
        "       * Gender (Male, Female)\n",
        "       * Blood Type (A, B, AB, O)\n",
        "       * Nationality (Indian, American, etc.)\n",
        "\n",
        "  * Appropriate Statistical Measures:\n",
        "       * Mode (most frequent category)\n",
        "       * Frequency counts\n",
        "\n",
        "  * Usage: Ideal for labeling variables without quantitative value.\n",
        "\n",
        "2. Ordinal Scale\n",
        "\n",
        "  * Definition: Categorizes data with a meaningful order, but the intervals between categories are not consistent or known.\n",
        "\n",
        "  * Key Features:\n",
        "      * Categories have a defined order.\n",
        "      * Differences between categories are not uniform.\n",
        "      * Mathematical operations are limited; median and mode are appropriate.\n",
        "\n",
        "  * Examples:\n",
        "     * Customer Satisfaction (Very Dissatisfied, Dissatisfied, Neutral, Satisfied, Very Satisfied)\n",
        "     * Education Level (High School, Bachelor's, Master's, PhD)\n",
        "\n",
        "   * Appropriate Statistical Measures:\n",
        "     * bMedian\n",
        "     * Mode\n",
        "     * Percentiles\n",
        "\n",
        "   * Usage: Useful for ranking and ordering data.\n",
        "\n",
        "3. Interval Scale\n",
        "\n",
        "   * Definition: Measures data with equal intervals between values, but lacks a true zero point.\n",
        "\n",
        "  * Key Features:\n",
        "     * Equal distances between adjacent values.\n",
        "     * No absolute zero; zero is arbitrary.\n",
        "     * Allows for addition and subtraction; multiplication and division are not meaningful.\n",
        "\n",
        "  * Examples:\n",
        "    * Temperature (Celsius, Fahrenheit)\n",
        "    * IQ Scores\n",
        "    * Calendar Dates\n",
        "\n",
        "  * Appropriate Statistical Measures:\n",
        "     * Mean\n",
        "     * Standard Deviation\n",
        "     * Range\n",
        "\n",
        "  * Usage: Suitable for measuring variables where differences are meaningful, but ratios are not.\n",
        "\n",
        "4. Ratio Scale\n",
        "\n",
        "  * Definition: Possesses all the properties of the interval scale, with the addition of a true zero point, allowing for meaningful ratios.\n",
        "\n",
        "  * Key Features:\n",
        "     * Equal intervals between values.\n",
        "     * Absolute zero point.\n",
        "     * All arithmetic operations are meaningful.\n",
        "\n",
        "  * Examples:\n",
        "     * Height\n",
        "     * Weight\n",
        "     * Income\n",
        "     * Age\n",
        "\n",
        "   * Appropriate Statistical Measures:\n",
        "      * All measures (Mean, Median, Mode)\n",
        "      * Geometric Mean\n",
        "      * Coefficient of Variation\n",
        "\n",
        "   * Usage: Ideal for variables where both differences and ratios are meaningful."
      ],
      "metadata": {
        "id": "ys8Jk2Slwxv4"
      }
    },
    {
      "cell_type": "markdown",
      "source": [
        "11. What is the measure of central tendency?"
      ],
      "metadata": {
        "id": "DQZWysNFQXXg"
      }
    },
    {
      "cell_type": "markdown",
      "source": [
        "->>\n",
        "\n",
        "In statistics, a measure of central tendency is a single value that aims to describe a dataset by identifying its central point or typical value. This concept helps summarize a large set of data with a single representative figure, providing insights into where most values in a distribution fall."
      ],
      "metadata": {
        "id": "I9r1CRQG02gU"
      }
    },
    {
      "cell_type": "markdown",
      "source": [
        "12. Define mean, median, and mode."
      ],
      "metadata": {
        "id": "pMHos49iQZ2Q"
      }
    },
    {
      "cell_type": "markdown",
      "source": [
        "->>\n",
        "\n",
        "* Mean (Arithmetic Average)\n",
        "\n",
        "   * Definition: The mean is calculated by summing all the values in a dataset and dividing by the total number of values.\n",
        "\n",
        "   * Formula: Mean = (Sum of all values) / (Number of values)\n",
        "\n",
        "  * Example: For the dataset [5, 10, 15], the mean is (5 + 10 + 15) / 3 = 10.\n",
        "\n",
        "   * Use Case: Best used with interval or ratio data that is symmetrically distributed without outliers.\n",
        "\n",
        "* Median\n",
        "\n",
        "   * Definition: The median is the middle value when the data is ordered from smallest to largest.\n",
        "\n",
        "   * Calculation:\n",
        "      * If the number of observations (n) is odd, the median is the middle value.\n",
        "      * If n is even, the median is the average of the two middle values.\n",
        "\n",
        "  * Example: For [3, 7, 9], the median is 7; for [3, 7, 9, 11], the median is (7 + 9)/2 = 8.\n",
        "\n",
        "  * Use Case: Useful for ordinal data or when the data is skewed, as it is not affected by extreme values.\n",
        "\n",
        "* Mode\n",
        "\n",
        "   * Definition: The mode is the value that appears most frequently in a dataset.\n",
        "\n",
        "   * Example: In [2, 4, 4, 6, 8], the mode is 4.\n",
        "\n",
        "   * Use Case: Applicable to nominal, ordinal, interval, and ratio data; especially useful for categorical data to identify the most common category.\n",
        "\n"
      ],
      "metadata": {
        "id": "T93zSe7_056z"
      }
    },
    {
      "cell_type": "markdown",
      "source": [
        "13. What is the significance of the measure of central tendency?"
      ],
      "metadata": {
        "id": "gJvphg1_QgnI"
      }
    },
    {
      "cell_type": "markdown",
      "source": [
        "->>\n",
        "\n",
        "1. Simplifying Complex Data\n",
        "2. Facilitating Comparisons\n",
        "3. Identifying Trends and Patterns\n",
        "4. Supporting Decision-Making\n",
        "5. Detecting Outliers and Skewness\n",
        "6. Enhancing Data Interpretation"
      ],
      "metadata": {
        "id": "rXLpWaTx12wD"
      }
    },
    {
      "cell_type": "markdown",
      "source": [
        "14. What is variance, and how is it calculated?"
      ],
      "metadata": {
        "id": "KUS_6CgfQi_Z"
      }
    },
    {
      "cell_type": "markdown",
      "source": [
        "->>\n",
        "\n",
        "Variance calculates the average of the squared differences between each data point and the mean. A higher variance indicates that data points are more spread out from the mean, while a lower variance suggests they are closer to the mean.\n",
        "\n",
        "1. Compute the Mean (Average): Add all data points and divide by the number of points.\n",
        "2. Calculate Deviations: Subtract the mean from each data point to find the deviation for each.\n",
        "3. Square Deviations: Square each deviation to eliminate negative values.\n",
        "4. Sum of Squared Deviations: Add all squared deviations together.\n",
        "5. Divide: For population variance, divide the sum by\n",
        "𝑁\n",
        "N; for sample variance, divide by\n",
        "𝑛\n",
        "−\n",
        "1\n",
        "n−1."
      ],
      "metadata": {
        "id": "lez4vb_V2QaS"
      }
    },
    {
      "cell_type": "markdown",
      "source": [
        "15. What is standard deviation, and why is it important?"
      ],
      "metadata": {
        "id": "aR3raOQaQrgo"
      }
    },
    {
      "cell_type": "markdown",
      "source": [
        "->>\n",
        "\n",
        "Standard Deviation is a fundamental statistical measure that quantifies the amount of variation or dispersion in a dataset. It provides insight into how much individual data points differ from the mean (average) value.\n",
        "\n",
        "* Risk Assessment in Finance:\n",
        "\n",
        "  In finance, standard deviation is used to measure the volatility of asset prices. A higher standard deviation indicates higher risk and potential for significant changes in value .\n",
        "\n",
        "* Quality Control in Manufacturing:\n",
        "\n",
        "  Manufacturers use standard deviation to monitor the consistency of product quality. A low standard deviation indicates that products are uniform and meet quality standards .\n",
        "\n",
        "* Performance Evaluation:\n",
        "  \n",
        "  Businesses use standard deviation to assess the variability in employee performance, sales figures, or other key metrics, helping to identify areas for improvement .\n",
        "\n",
        "* Data Comparison:\n",
        "\n",
        "  Standard deviation allows for the comparison of variability between multiple datasets. Researchers can use it to assess differences in the spread of data points and make informed decisions based on the results .\n",
        "\n",
        "* Identifying Outliers:\n",
        "\n",
        "  Standard deviation helps identify outliers, which are data points that significantly deviate from the mean. Outliers can affect the analysis, and understanding their presence is crucial for accurate interpretations .\n",
        "\n"
      ],
      "metadata": {
        "id": "d_6ShoNqmdco"
      }
    },
    {
      "cell_type": "markdown",
      "source": [
        "16. Define and explain the term range in statistics."
      ],
      "metadata": {
        "id": "XUXzPRb5QvqI"
      }
    },
    {
      "cell_type": "markdown",
      "source": [
        "->>\n",
        "\n",
        "In statistics, the range is a measure of dispersion that indicates the spread or extent of a data set. It is calculated as the difference between the highest and lowest values in the dataset.\n",
        "\n",
        "The range is computed using the formula:\n",
        "\n",
        "Range = Maximum Value − Minimum Value\n",
        "\n",
        "This provides a simple numerical value representing the total spread of the data."
      ],
      "metadata": {
        "id": "pMfho9-0nfDo"
      }
    },
    {
      "cell_type": "markdown",
      "source": [
        "17. What is the difference between variance and standard deviation?"
      ],
      "metadata": {
        "id": "g0xpDq_DQzIA"
      }
    },
    {
      "cell_type": "markdown",
      "source": [
        "->>\n",
        "\n",
        "Variance and Standard Deviation are both fundamental statistical measures that quantify the spread or dispersion of a dataset. While they are closely related, they differ in their calculation and interpretation.\n",
        "\n",
        "Variance\n",
        "* Definition - Variance measures the average squared deviation of each data point from the mean of the dataset.\n",
        "* Formula - Average of squared deviations\n",
        "* Units - Squared units of original data\n",
        "* Interpretability - Less intuitive due to squared units\n",
        "* Usefulness - Useful in mathematical computations\n",
        "*\n",
        "\n",
        "Standard Deviation\n",
        "* Definition - Standard deviation is the square root of the variance and provides a measure of the average distance that data points fall from the mean.\n",
        "* Formula - Square root of variance\n",
        "* Units - Same units as original data\n",
        "* Interpretability- More intuitive and easier to interpret\n",
        "* Usefulness - Preferred for practical understanding\n",
        "*"
      ],
      "metadata": {
        "id": "pQCGdMYuoLZI"
      }
    },
    {
      "cell_type": "markdown",
      "source": [
        "18. What is skewness in a dataset?"
      ],
      "metadata": {
        "id": "SXx2CjTyQ3TJ"
      }
    },
    {
      "cell_type": "markdown",
      "source": [
        "->>\n",
        "\n",
        "Skewness is a statistical measure that describes the asymmetry or lack of symmetry in a dataset's distribution. Understanding skewness helps in interpreting data patterns, especially when assessing the normality of data, which is crucial for various statistical analyses.\n",
        "\n",
        "Skewness quantifies the degree to which a distribution deviates from a normal distribution, which is symmetric. A perfectly symmetrical distribution has a skewness of zero. Positive skewness indicates a distribution with a longer right tail, while negative skewness indicates a longer left tail."
      ],
      "metadata": {
        "id": "T1wnc3NLpfRY"
      }
    },
    {
      "cell_type": "markdown",
      "source": [
        "19. What does it mean if a dataset is positively or negatively skewed?"
      ],
      "metadata": {
        "id": "o0UUjz-3Q7gy"
      }
    },
    {
      "cell_type": "markdown",
      "source": [
        "->>\n",
        "\n",
        "In statistics, skewness refers to the asymmetry or lopsidedness in the distribution of data. It indicates whether the data points are more concentrated on one side of the mean than the other. Understanding skewness is crucial because it affects the interpretation of central tendency measures like the mean and median.\n",
        "\n",
        "Positive Skew (Right Skew)\n",
        "\n",
        "* Description: In a positively skewed distribution, the right tail (larger values) is longer or fatter than the left tail. This means that most data points are clustered on the lower end, with a few larger values stretching the tail to the right.\n",
        "\n",
        "* Central Tendency Relationship: In such distributions, the mean is greater than the median, which is greater than the mode. This is because the extreme high values pull the mean to the right.\n",
        "\n",
        "* Examples:\n",
        "   * Income distribution, where most people earn a moderate income, but a few earn extremely high incomes.\n",
        "\n",
        "   * Exam scores, where most students score in a certain range, but a few score exceptionally high.\n",
        "\n",
        "\n",
        "Negative Skew (Left Skew)\n",
        "\n",
        "* Description: In a negatively skewed distribution, the left tail (smaller values) is longer or fatter than the right tail. This indicates that most data points are concentrated on the higher end, with a few smaller values stretching the tail to the left.\n",
        "\n",
        "* Central Tendency Relationship: Here, the mean is less than the median, which is less than the mode. The extreme low values pull the mean to the left.\n",
        "\n",
        "* Examples:\n",
        "   * Test scores on an easy exam, where most students score well, but a few score very low.\n",
        "\n",
        "   * Age at retirement, where most people retire at a certain age, but a few retire exceptionally early."
      ],
      "metadata": {
        "id": "tJtM91sFqCPH"
      }
    },
    {
      "cell_type": "markdown",
      "source": [
        "20. Define and explain kurtosis."
      ],
      "metadata": {
        "id": "rFeOKba-Q_Rw"
      }
    },
    {
      "cell_type": "markdown",
      "source": [
        "->>\n",
        "\n",
        "Kurtosis is a statistical measure that describes the shape of a probability distribution, specifically focusing on the \"tailedness\" or the presence of outliers in the data. It quantifies the extent to which data points are concentrated in the tails (extreme values) compared to a normal distribution."
      ],
      "metadata": {
        "id": "l52PgiNirM5v"
      }
    },
    {
      "cell_type": "markdown",
      "source": [
        "21. What is the purpose of covariance?"
      ],
      "metadata": {
        "id": "lQ9JftlyREfQ"
      }
    },
    {
      "cell_type": "markdown",
      "source": [
        "->>\n",
        "\n",
        "Covariance is a statistical measure that indicates the direction of the linear relationship between two random variables. It assesses how much the variables change together, providing insight into their joint variability.\n",
        "\n",
        "* Assessing Relationships Between Variables: Covariance helps determine whether two variables tend to increase or decrease together.\n",
        "\n",
        "  * Positive Covariance: Indicates that as one variable increases, the other tends to increase as well.\n",
        "\n",
        "  * Negative Covariance: Suggests that as one variable increases, the other tends to decrease.\n",
        "\n",
        "  * Zero Covariance: Implies no linear relationship between the variables.\n",
        "\n",
        "* Portfolio Management in Finance: In finance, covariance is used to understand how different assets move in relation to each other. By combining assets with negative covariance, investors can reduce overall portfolio risk. This concept is integral to Modern Portfolio Theory, which aims to optimize the balance between risk and return.\n",
        "\n",
        "* Principal Component Analysis (PCA): Covariance matrices are used in PCA to identify patterns in data and reduce its dimensionality, aiding in data compression and noise reduction.\n",
        "\n",
        "* Genetics and Evolutionary Biology: Covariance is applied to study genetic traits and their relationship with fitness, providing insights into evolutionary processes.\n",
        "\n"
      ],
      "metadata": {
        "id": "OL5RWBVDroMv"
      }
    },
    {
      "cell_type": "markdown",
      "source": [
        "22. What does correlation measure in statistics?"
      ],
      "metadata": {
        "id": "dBN-ztn7RIrg"
      }
    },
    {
      "cell_type": "markdown",
      "source": [
        "->>\n",
        "\n",
        "Correlation in statistics measures the strength and direction of a linear relationship between two variables. It quantifies how changes in one variable correspond to changes in another, providing insights into their association.\n",
        "\n",
        "* Assessing Relationships Between Variables: Correlation helps determine whether and how strongly pairs of variables are related. For instance, analyzing the relationship between hours studied and exam scores.\n",
        "\n",
        "* Predictive Analysis: A strong correlation allows for predictions. For example, predicting a person's weight based on their height if a strong positive correlation exists.\n",
        "\n",
        "* Risk Management in Finance: In portfolio management, understanding the correlation between asset returns helps in diversification strategies to minimize risk."
      ],
      "metadata": {
        "id": "pZW_G6UWsVzQ"
      }
    },
    {
      "cell_type": "markdown",
      "source": [
        "23. What is the difference between covariance and correlation?"
      ],
      "metadata": {
        "id": "sFEcFozmRNRA"
      }
    },
    {
      "cell_type": "markdown",
      "source": [
        "->>\n",
        "\n",
        "Covariance and correlation are both statistical tools used to assess the relationship between two variables, but they differ in their scale, interpretation, and application.\n",
        "\n",
        "Covariance\n",
        "* Scale - Dependent on units of measurement\n",
        "* Interpretation - Direction of relationship\n",
        "* Range - −∞ to + ∞\n",
        "* Standardization - Not standardized\n",
        "* Comparison - Difficult across different datasets\n",
        "\n",
        "Correlation\n",
        "* Scale - Unitless\n",
        "* Interpretation - Strength and direction of relationship\n",
        "* Range - −1 to +1\n",
        "* Standardization - Standardized\n",
        "* Comparison - Easy across different datasets"
      ],
      "metadata": {
        "id": "_xgx5FiBtEs3"
      }
    },
    {
      "cell_type": "markdown",
      "source": [
        "24. What are some real-world applications of statistics?"
      ],
      "metadata": {
        "id": "0Jc3k1ryRSmA"
      }
    },
    {
      "cell_type": "markdown",
      "source": [
        "->>\n",
        "\n",
        "Statistics is an essential tool in various fields, enabling informed decision-making and problem-solving. Here are some real-world applications of statistics.\n",
        "\n",
        "Healthcare & Medical Research\n",
        "  * Clinical Trials: Assessing the effectiveness and safety of new treatments.\n",
        "  * Epidemiology: Tracking disease outbreaks and identifying risk factors.\n",
        "  * Public Health: Allocating resources based on disease prevalence and outcomes.\n",
        "\n",
        "Business & Economics\n",
        "  * Market Research: Understanding consumer behavior and preferences.\n",
        "  * Quality Control: Ensuring product consistency and reliability.\n",
        "  * Financial Analysis: Assessing investment risks and returns.\n",
        "\n",
        "Education\n",
        "  * Student Performance: Analyzing test scores to improve teaching methods.\n",
        "  * Curriculum Development: Designing effective educational programs based on data.\n",
        "  * Policy Making: Informing decisions on educational reforms and funding.\n",
        "\n",
        "Sports Analytics\n",
        "  * Performance Metrics: Evaluating player statistics to enhance team strategies.\n",
        "  * Injury Prevention: Identifying patterns to reduce risk of injuries.\n",
        "  * Fan Engagement: Analyzing audience preferences to improve experience.\n",
        "\n",
        "Weather Forecasting\n",
        "  * Climate Modeling: Predicting weather patterns using historical data.\n",
        "  * Disaster Preparedness: Anticipating natural events like hurricanes or droughts.\n",
        "  * Agricultural Planning: Advising on planting and harvesting schedules.\n",
        "\n",
        "Government & Public Policy\n",
        "  * Census Data: Understanding population demographics for resource allocation.\n",
        "  * Crime Analysis: Identifying trends to inform law enforcement strategies.\n",
        "  * Economic Planning: Developing policies based on economic indicators.\n",
        "\n",
        "Environmental Science\n",
        "  * Pollution Monitoring: Assessing air and water quality.\n",
        "  * Conservation Efforts: Tracking biodiversity and ecosystem health.\n",
        "  * Climate Change Studies: Analyzing long-term environmental data.\n",
        "\n",
        "Transportation & Logistics\n",
        "  * Traffic Analysis: Optimizing traffic flow and reducing congestion.\n",
        "  * Route Planning: Improving delivery efficiency and reducing costs.\n",
        "  * Safety Studies: Identifying accident hotspots to enhance road safety.\n",
        "\n",
        "Personal Decision-Making\n",
        "  * Financial Planning: Budgeting and investment decisions based on statistical trends.\n",
        "  * Health Monitoring: Tracking personal health metrics for well-being.\n",
        "  * Time Management: Optimizing daily schedules using statistical analysis."
      ],
      "metadata": {
        "id": "4yGWiAGeuZJQ"
      }
    },
    {
      "cell_type": "markdown",
      "source": [
        "# **Practical**"
      ],
      "metadata": {
        "id": "272NwxHXRWsf"
      }
    },
    {
      "cell_type": "markdown",
      "source": [
        "1. How do you calculate the mean, median, and mode of a dataset?"
      ],
      "metadata": {
        "id": "sXuwAXMDRZyJ"
      }
    },
    {
      "cell_type": "code",
      "source": [
        "data = [28, 57, 37, 56, 88, 77, 12]\n",
        "(28 + 57 + 37 + 56 + 88 + 77 + 12) / 7   # Mean calculate"
      ],
      "metadata": {
        "colab": {
          "base_uri": "https://localhost:8080/"
        },
        "id": "tCpiVx6efo0z",
        "outputId": "edabe161-5a0b-4c3d-fca4-3b90ede41b3f"
      },
      "execution_count": null,
      "outputs": [
        {
          "output_type": "execute_result",
          "data": {
            "text/plain": [
              "50.714285714285715"
            ]
          },
          "metadata": {},
          "execution_count": 1
        }
      ]
    },
    {
      "cell_type": "code",
      "source": [
        "import numpy as np\n",
        "np.mean(data)   # Mean calculate using numpy library"
      ],
      "metadata": {
        "colab": {
          "base_uri": "https://localhost:8080/"
        },
        "id": "34rWcIkHgQgq",
        "outputId": "bda00490-8a5e-49ff-8b7f-0b2c5325a482"
      },
      "execution_count": null,
      "outputs": [
        {
          "output_type": "execute_result",
          "data": {
            "text/plain": [
              "np.float64(50.714285714285715)"
            ]
          },
          "metadata": {},
          "execution_count": 2
        }
      ]
    },
    {
      "cell_type": "code",
      "source": [
        "np.median(data)  # Median calculate numpy library"
      ],
      "metadata": {
        "colab": {
          "base_uri": "https://localhost:8080/"
        },
        "id": "uQkOSp_UgoAx",
        "outputId": "3f88f018-e556-40d9-8b04-00f69f6b1f3e"
      },
      "execution_count": null,
      "outputs": [
        {
          "output_type": "execute_result",
          "data": {
            "text/plain": [
              "np.float64(56.0)"
            ]
          },
          "metadata": {},
          "execution_count": 3
        }
      ]
    },
    {
      "cell_type": "code",
      "source": [
        "import statistics\n",
        "\n",
        "statistics.mode(data)    # Mpde calculate"
      ],
      "metadata": {
        "colab": {
          "base_uri": "https://localhost:8080/"
        },
        "id": "fx0gycG7g0n4",
        "outputId": "b0917706-0c98-42c9-e8bc-350a6cfeb8be"
      },
      "execution_count": null,
      "outputs": [
        {
          "output_type": "execute_result",
          "data": {
            "text/plain": [
              "28"
            ]
          },
          "metadata": {},
          "execution_count": 6
        }
      ]
    },
    {
      "cell_type": "markdown",
      "source": [
        "2. Write a Python program to compute the variance and standard deviation of a dataset."
      ],
      "metadata": {
        "id": "Uzvxuy7qRjT4"
      }
    },
    {
      "cell_type": "code",
      "source": [
        "import numpy as np\n",
        "import statistics\n",
        "\n",
        "data = [10, 12, 23, 23, 16, 23, 21, 16]\n",
        "\n",
        "# Using statistics module\n",
        "variance_stat = statistics.variance(data)\n",
        "std_dev_stat = statistics.stdev(data)\n",
        "\n",
        "print(f\"Variance: {variance_stat}\")\n",
        "print(f\"Standard Deviation: {std_dev_stat}\")"
      ],
      "metadata": {
        "colab": {
          "base_uri": "https://localhost:8080/"
        },
        "id": "DKvPZW9www64",
        "outputId": "1d1583ff-27ca-41e2-9e84-d9e30b627c21"
      },
      "execution_count": null,
      "outputs": [
        {
          "output_type": "stream",
          "name": "stdout",
          "text": [
            "Variance: 27.428571428571427\n",
            "Standard Deviation: 5.237229365663818\n"
          ]
        }
      ]
    },
    {
      "cell_type": "code",
      "source": [
        "# Using numpy library\n",
        "variance_np = np.var(data)\n",
        "std_dev_np = np.std(data)\n",
        "\n",
        "print(f\"Variance: {variance_np}\")\n",
        "print(f\"Standard Deviation: {std_dev_np}\")"
      ],
      "metadata": {
        "colab": {
          "base_uri": "https://localhost:8080/"
        },
        "id": "96aHwmaLjw93",
        "outputId": "228d3880-165a-4cdb-a080-27042da26416"
      },
      "execution_count": null,
      "outputs": [
        {
          "output_type": "stream",
          "name": "stdout",
          "text": [
            "Variance: 24.0\n",
            "Standard Deviation: 4.898979485566356\n"
          ]
        }
      ]
    },
    {
      "cell_type": "markdown",
      "source": [
        "3. Create a dataset and classify it into nominal, ordinal, interval, and ratio types."
      ],
      "metadata": {
        "id": "p4Ic9hgiRnSq"
      }
    },
    {
      "cell_type": "markdown",
      "source": [
        "| Employee ID | Name    | Department | Education Level | Age | Salary (₹) |\n",
        "| ----------- | ------- | ---------- | --------------- | --- | ---------- |\n",
        "| 101         | Alice   | HR         | Bachelor's      | 28  | 500,000    |\n",
        "| 102         | Bob     | IT         | Master's        | 35  | 800,000    |\n",
        "| 103         | Charlie | Finance    | PhD             | 40  | 1,200,000  |\n",
        "| 104         | Diana   | Marketing  | Bachelor's      | 30  | 600,000    |\n",
        "| 105         | Eve     | IT         | Master's        | 32  | 850,000    |\n"
      ],
      "metadata": {
        "id": "u95nUnBGxCDY"
      }
    },
    {
      "cell_type": "code",
      "source": [
        "import pandas as pd\n",
        "\n",
        "data = {\n",
        "    'Employee ID': [101, 102, 103, 104, 105],\n",
        "    'Name': ['Alice', 'Bob', 'Charlie', 'Diana', 'Eve'],\n",
        "    'Department': ['HR', 'IT', 'Finance', 'Marketing', 'IT'],\n",
        "    'Education Level': ['Bachelor\\'s', 'Master\\'s', 'PhD', 'Bachelor\\'s', 'Master\\'s'],\n",
        "    'Age': [28, 35, 40, 30, 32],\n",
        "    'Salary (₹)': [500000, 800000, 1200000, 600000, 850000]\n",
        "}\n",
        "\n",
        "df = pd.DataFrame(data)\n",
        "\n",
        "df['Department'] = pd.Categorical(df['Department'])  # Nominal\n",
        "df['Education Level'] = pd.Categorical(df['Education Level'], ordered=True)  # Ordinal\n",
        "\n",
        "print(\"Dataset:\")\n",
        "print(df)\n",
        "print(\"\\nData Types:\")\n",
        "print(df.dtypes)"
      ],
      "metadata": {
        "id": "B_TVFm-_xD1Y",
        "colab": {
          "base_uri": "https://localhost:8080/"
        },
        "outputId": "b1d55d6f-fc2c-4db6-fd27-a4dccd732844"
      },
      "execution_count": null,
      "outputs": [
        {
          "output_type": "stream",
          "name": "stdout",
          "text": [
            "Dataset:\n",
            "   Employee ID     Name Department Education Level  Age  Salary (₹)\n",
            "0          101    Alice         HR      Bachelor's   28      500000\n",
            "1          102      Bob         IT        Master's   35      800000\n",
            "2          103  Charlie    Finance             PhD   40     1200000\n",
            "3          104    Diana  Marketing      Bachelor's   30      600000\n",
            "4          105      Eve         IT        Master's   32      850000\n",
            "\n",
            "Data Types:\n",
            "Employee ID           int64\n",
            "Name                 object\n",
            "Department         category\n",
            "Education Level    category\n",
            "Age                   int64\n",
            "Salary (₹)            int64\n",
            "dtype: object\n"
          ]
        }
      ]
    },
    {
      "cell_type": "markdown",
      "source": [
        "4. Implement sampling techniques like random sampling and stratified sampling."
      ],
      "metadata": {
        "id": "Gdcgcl3HRrTA"
      }
    },
    {
      "cell_type": "code",
      "source": [
        "import pandas as pd\n",
        "import numpy as np\n",
        "import random\n",
        "from sklearn.model_selection import train_test_split\n",
        "\n",
        "data = {\n",
        "    'Student ID': [1, 2, 3, 4, 5, 6, 7, 8, 9, 10],\n",
        "    'Name': ['Alice', 'Bob', 'Charlie', 'Diana', 'Eve', 'Frank', 'Grace', 'Helen', 'Ivan', 'Jack'],\n",
        "    'Grade': ['A', 'B', 'C', 'B', 'A', 'C', 'A', 'B', 'C', 'B']\n",
        "}\n",
        "\n",
        "df = pd.DataFrame(data)\n",
        "\n",
        "# Simple Random Sampling (SRS)\n",
        "srs_sample = df.sample(n=4, random_state=42)\n",
        "\n",
        "# Stratified Sampling\n",
        "stratified_sample = df.groupby('Grade', group_keys=False).apply(lambda x: x.sample(int(np.rint(4 * len(x) / len(df)))))\n",
        "\n",
        "print(\"Simple Random Sample:\")\n",
        "print(srs_sample)\n",
        "\n",
        "print(\"\\nStratified Sample:\")\n",
        "print(stratified_sample)"
      ],
      "metadata": {
        "colab": {
          "base_uri": "https://localhost:8080/"
        },
        "id": "uSjvP6MvPhmN",
        "outputId": "2a9d901a-a90b-47ad-f435-225a6788f360"
      },
      "execution_count": null,
      "outputs": [
        {
          "output_type": "stream",
          "name": "stdout",
          "text": [
            "Simple Random Sample:\n",
            "   Student ID   Name Grade\n",
            "8           9   Ivan     C\n",
            "1           2    Bob     B\n",
            "5           6  Frank     C\n",
            "0           1  Alice     A\n",
            "\n",
            "Stratified Sample:\n",
            "   Student ID   Name Grade\n",
            "0           1  Alice     A\n",
            "7           8  Helen     B\n",
            "3           4  Diana     B\n",
            "8           9   Ivan     C\n"
          ]
        },
        {
          "output_type": "stream",
          "name": "stderr",
          "text": [
            "<ipython-input-7-49d64cf46a5c>:19: DeprecationWarning: DataFrameGroupBy.apply operated on the grouping columns. This behavior is deprecated, and in a future version of pandas the grouping columns will be excluded from the operation. Either pass `include_groups=False` to exclude the groupings or explicitly select the grouping columns after groupby to silence this warning.\n",
            "  stratified_sample = df.groupby('Grade', group_keys=False).apply(lambda x: x.sample(int(np.rint(4 * len(x) / len(df)))))\n"
          ]
        }
      ]
    },
    {
      "cell_type": "markdown",
      "source": [
        "5. Write a Python function to calculate the range of a dataset."
      ],
      "metadata": {
        "id": "bjSBREbkRwog"
      }
    },
    {
      "cell_type": "code",
      "source": [
        "def calculate_range(data):\n",
        "    return max(data) - min(data)\n",
        "\n",
        "data = [12, 7, 22, 9, 17, 5]\n",
        "print(f\"Range: {calculate_range(data)}\")"
      ],
      "metadata": {
        "colab": {
          "base_uri": "https://localhost:8080/"
        },
        "id": "NA0nFSOaxUqP",
        "outputId": "406a6edb-2915-42da-95aa-5249bba6c677"
      },
      "execution_count": null,
      "outputs": [
        {
          "output_type": "stream",
          "name": "stdout",
          "text": [
            "Range: 17\n"
          ]
        }
      ]
    },
    {
      "cell_type": "markdown",
      "source": [
        "6. Create a dataset and plot its histogram to visualize skewness."
      ],
      "metadata": {
        "id": "N3S3Dt1AR0m4"
      }
    },
    {
      "cell_type": "code",
      "source": [
        "import numpy as np\n",
        "import matplotlib.pyplot as plt\n",
        "import seaborn as sns\n",
        "\n",
        "# Set seed for reproducibility\n",
        "np.random.seed(42)\n",
        "\n",
        "# Generate right-skewed data using a skewed normal distribution\n",
        "from scipy.stats import skewnorm\n",
        "data = skewnorm.rvs(a=10, size=1000)  # 'a' controls the skewness\n",
        "\n",
        "# Plot histogram with KDE (Kernel Density Estimate)\n",
        "sns.histplot(data, bins=30, kde=True, color='skyblue', edgecolor='black')\n",
        "\n",
        "plt.title(\"Histogram of Right-Skewed Data\")\n",
        "plt.xlabel(\"Value\")\n",
        "plt.ylabel(\"Frequency\")\n",
        "plt.show()"
      ],
      "metadata": {
        "colab": {
          "base_uri": "https://localhost:8080/",
          "height": 472
        },
        "id": "lCBprCvexf4p",
        "outputId": "693f6391-c88b-4380-c7f8-ddb04ac7c342"
      },
      "execution_count": null,
      "outputs": [
        {
          "output_type": "display_data",
          "data": {
            "text/plain": [
              "<Figure size 640x480 with 1 Axes>"
            ],
            "image/png": "[encoded data removed]"
          },
          "metadata": {}
        }
      ]
    },
    {
      "cell_type": "markdown",
      "source": [
        "7. Calculate skewness and kurtosis of a dataset using Python libraries."
      ],
      "metadata": {
        "id": "qfihBg7IR7Bv"
      }
    },
    {
      "cell_type": "code",
      "source": [
        "import numpy as np\n",
        "import pandas as pd\n",
        "\n",
        "# Generate a dataset of 100 exam scores\n",
        "np.random.seed(42)\n",
        "data = np.random.normal(loc=70, scale=10, size=100)  # Mean=70, Std=10\n",
        "df = pd.DataFrame(data, columns=['Exam_Scores'])"
      ],
      "metadata": {
        "id": "iRrVcUgBxs74"
      },
      "execution_count": null,
      "outputs": []
    },
    {
      "cell_type": "code",
      "source": [
        "from scipy.stats import skew, kurtosis\n",
        "\n",
        "# Calculate skewness and kurtosis\n",
        "skewness = skew(df['Exam_Scores'])\n",
        "kurt = kurtosis(df['Exam_Scores'], fisher=True)  # Fisher=True for excess kurtosis\n",
        "\n",
        "print(f\"Skewness: {skewness}\")\n",
        "print(f\"Kurtosis: {kurt}\")"
      ],
      "metadata": {
        "colab": {
          "base_uri": "https://localhost:8080/"
        },
        "id": "cxLC_RqzxvaA",
        "outputId": "70c60890-b5d0-459f-f661-6a564508921c"
      },
      "execution_count": null,
      "outputs": [
        {
          "output_type": "stream",
          "name": "stdout",
          "text": [
            "Skewness: -0.17526772024433837\n",
            "Kurtosis: -0.15540470774207993\n"
          ]
        }
      ]
    },
    {
      "cell_type": "code",
      "source": [
        "skewness_pandas = df['Exam_Scores'].skew()\n",
        "kurt_pandas = df['Exam_Scores'].kurt()\n",
        "\n",
        "print(f\"Skewness (Pandas): {skewness_pandas}\")\n",
        "print(f\"Kurtosis (Pandas): {kurt_pandas}\")"
      ],
      "metadata": {
        "colab": {
          "base_uri": "https://localhost:8080/"
        },
        "id": "xbnSUl_Hx2bA",
        "outputId": "87e51888-f3c3-474f-8136-845957cd7e1d"
      },
      "execution_count": null,
      "outputs": [
        {
          "output_type": "stream",
          "name": "stdout",
          "text": [
            "Skewness (Pandas): -0.17794814262595335\n",
            "Kurtosis (Pandas): -0.10097745347286491\n"
          ]
        }
      ]
    },
    {
      "cell_type": "markdown",
      "source": [
        "8. Generate a dataset and demonstrate positive and negative skewness."
      ],
      "metadata": {
        "id": "YMkW5xuZR-6w"
      }
    },
    {
      "cell_type": "code",
      "source": [
        "import numpy as np\n",
        "import matplotlib.pyplot as plt\n",
        "from scipy.stats import skewnorm\n",
        "\n",
        "# Set seed for reproducibility\n",
        "np.random.seed(42)\n",
        "\n",
        "# Generate right-skewed data (positive skew)\n",
        "positive_skew_data = skewnorm.rvs(a=10, size=1000)\n",
        "\n",
        "# Generate left-skewed data (negative skew)\n",
        "negative_skew_data = skewnorm.rvs(a=-10, size=1000)\n",
        "\n",
        "# Plotting the histograms\n",
        "fig, axes = plt.subplots(1, 2, figsize=(14, 6))\n",
        "\n",
        "# Right-Skewed Distribution\n",
        "axes[0].hist(positive_skew_data, bins=30, color='skyblue', edgecolor='black')\n",
        "axes[0].set_title('Right-Skewed Distribution')\n",
        "axes[0].set_xlabel('Value')\n",
        "axes[0].set_ylabel('Frequency')\n",
        "\n",
        "# Left-Skewed Distribution\n",
        "axes[1].hist(negative_skew_data, bins=30, color='salmon', edgecolor='black')\n",
        "axes[1].set_title('Left-Skewed Distribution')\n",
        "axes[1].set_xlabel('Value')\n",
        "axes[1].set_ylabel('Frequency')\n",
        "\n",
        "plt.tight_layout()\n",
        "plt.show()"
      ],
      "metadata": {
        "colab": {
          "base_uri": "https://localhost:8080/",
          "height": 508
        },
        "id": "0Lis1zVUyBo4",
        "outputId": "2f4021f4-0074-4fcf-9365-b822d0a53381"
      },
      "execution_count": null,
      "outputs": [
        {
          "output_type": "display_data",
          "data": {
            "text/plain": [
              "<Figure size 1400x600 with 2 Axes>"
            ],
            "image/png": "[encoded data removed]"
          },
          "metadata": {}
        }
      ]
    },
    {
      "cell_type": "code",
      "source": [
        "from scipy.stats import skew\n",
        "\n",
        "positive_skewness = skew(positive_skew_data)\n",
        "negative_skewness = skew(negative_skew_data)\n",
        "\n",
        "print(f\"Skewness of Right-Skewed Data: {positive_skewness:.2f}\")\n",
        "print(f\"Skewness of Left-Skewed Data: {negative_skewness:.2f}\")"
      ],
      "metadata": {
        "colab": {
          "base_uri": "https://localhost:8080/"
        },
        "id": "U6PRIxXByJvw",
        "outputId": "f51a011c-ed67-41ea-a8d8-d2c8013c0a45"
      },
      "execution_count": null,
      "outputs": [
        {
          "output_type": "stream",
          "name": "stdout",
          "text": [
            "Skewness of Right-Skewed Data: 1.01\n",
            "Skewness of Left-Skewed Data: -1.09\n"
          ]
        }
      ]
    },
    {
      "cell_type": "markdown",
      "source": [
        "9. Write a Python script to calculate covariance between two datasets."
      ],
      "metadata": {
        "id": "FOLmMb8OSC3B"
      }
    },
    {
      "cell_type": "code",
      "source": [
        "import numpy as np\n",
        "\n",
        "data1 = np.array([1, 2, 3, 4, 5])\n",
        "data2 = np.array([5, 4, 3, 2, 1])\n",
        "\n",
        "# Calculate covariance matrix\n",
        "cov_matrix = np.cov(data1, data2)\n",
        "\n",
        "# Extract covariance value between data1 and data2\n",
        "cov_value = cov_matrix[0, 1]\n",
        "\n",
        "print(f\"Covariance between data1 and data2: {cov_value}\")"
      ],
      "metadata": {
        "colab": {
          "base_uri": "https://localhost:8080/"
        },
        "id": "r3wmULeuyUTg",
        "outputId": "8bf4bf8c-e511-49b5-8fee-3f8aedb08352"
      },
      "execution_count": null,
      "outputs": [
        {
          "output_type": "stream",
          "name": "stdout",
          "text": [
            "Covariance between data1 and data2: -2.5\n"
          ]
        }
      ]
    },
    {
      "cell_type": "markdown",
      "source": [
        "10. Write a Python script to calculate the correlation coefficient between two datasets."
      ],
      "metadata": {
        "id": "asVJOjGBSHmg"
      }
    },
    {
      "cell_type": "code",
      "source": [
        "import numpy as np\n",
        "\n",
        "hours_studied = np.array([1, 2, 3, 4, 5])\n",
        "exam_scores = np.array([50, 55, 60, 65, 70])"
      ],
      "metadata": {
        "id": "YwWOCkcLyfSf"
      },
      "execution_count": null,
      "outputs": []
    },
    {
      "cell_type": "code",
      "source": [
        "# Calculate correlation matrix\n",
        "corr_matrix = np.corrcoef(hours_studied, exam_scores)\n",
        "\n",
        "# Extract the correlation coefficient\n",
        "corr_coefficient = corr_matrix[0, 1]\n",
        "\n",
        "print(f\"Pearson Correlation Coefficient (NumPy): {corr_coefficient:.2f}\")"
      ],
      "metadata": {
        "colab": {
          "base_uri": "https://localhost:8080/"
        },
        "id": "odVrBE0tyd2B",
        "outputId": "011c3b8d-fe9d-43e5-8333-b10e3430fd44"
      },
      "execution_count": null,
      "outputs": [
        {
          "output_type": "stream",
          "name": "stdout",
          "text": [
            "Pearson Correlation Coefficient (NumPy): 1.00\n"
          ]
        }
      ]
    },
    {
      "cell_type": "markdown",
      "source": [
        "11. Create a scatter plot to visualize the relationship between two variables."
      ],
      "metadata": {
        "id": "ZwLoMyomSLqY"
      }
    },
    {
      "cell_type": "code",
      "source": [
        "import matplotlib.pyplot as plt\n",
        "\n",
        "ages = [20, 22, 21, 23, 21]\n",
        "heights = [165, 175, 180, 160, 170]\n",
        "\n",
        "# Create scatter plot\n",
        "plt.scatter(ages, heights, color='blue', marker='o')\n",
        "\n",
        "# Add titles and labels\n",
        "plt.title('Scatter Plot: Age vs. Height')\n",
        "plt.xlabel('Age (Years)')\n",
        "plt.ylabel('Height (cm)')\n",
        "\n",
        "# Display the plot\n",
        "plt.show()"
      ],
      "metadata": {
        "colab": {
          "base_uri": "https://localhost:8080/",
          "height": 472
        },
        "id": "HNiWvvfeOYOF",
        "outputId": "5aa02987-9cc1-419e-c606-73e05f25cd56"
      },
      "execution_count": null,
      "outputs": [
        {
          "output_type": "display_data",
          "data": {
            "text/plain": [
              "<Figure size 640x480 with 1 Axes>"
            ],
            "image/png": "[encoded data removed]"
          },
          "metadata": {}
        }
      ]
    },
    {
      "cell_type": "markdown",
      "source": [
        "12. Implement and compare simple random sampling and systematic sampling."
      ],
      "metadata": {
        "id": "WZFf8-NPSPJI"
      }
    },
    {
      "cell_type": "code",
      "source": [
        "import random\n",
        "import numpy as np\n",
        "import pandas as pd\n",
        "\n",
        "# Sample dataset\n",
        "data = {'Student_ID': np.arange(1, 16), 'Height': [159, 171, 158, 162, 162, 177, 160, 175, 168, 171, 178, 178, 173, 177, 164]}\n",
        "df = pd.DataFrame(data)\n",
        "\n",
        "# Simple Random Sampling (SRS)\n",
        "sample_size = 5\n",
        "srs_sample = df.sample(n=sample_size, random_state=42)\n",
        "\n",
        "# Systematic Sampling\n",
        "step = 3  # Select every 3rd student\n",
        "start = random.randint(0, step - 1)  # Random starting point\n",
        "indices = np.arange(start, len(df), step)\n",
        "sys_sample = df.iloc[indices]\n",
        "\n",
        "# Display results\n",
        "print(\"Simple Random Sample:\")\n",
        "print(srs_sample[['Student_ID', 'Height']])\n",
        "\n",
        "print(\"\\nSystematic Sample:\")\n",
        "print(sys_sample[['Student_ID', 'Height']])"
      ],
      "metadata": {
        "colab": {
          "base_uri": "https://localhost:8080/"
        },
        "id": "IWFNSFgQPFoM",
        "outputId": "4b56da6c-acd5-4e1d-95c9-27d9dab34bec"
      },
      "execution_count": null,
      "outputs": [
        {
          "output_type": "stream",
          "name": "stdout",
          "text": [
            "Simple Random Sample:\n",
            "    Student_ID  Height\n",
            "9           10     171\n",
            "11          12     178\n",
            "0            1     159\n",
            "13          14     177\n",
            "5            6     177\n",
            "\n",
            "Systematic Sample:\n",
            "    Student_ID  Height\n",
            "0            1     159\n",
            "3            4     162\n",
            "6            7     160\n",
            "9           10     171\n",
            "12          13     173\n"
          ]
        }
      ]
    },
    {
      "cell_type": "markdown",
      "source": [
        "13. Calculate the mean, median, and mode of grouped data."
      ],
      "metadata": {
        "id": "tJX8x24tSTmv"
      }
    },
    {
      "cell_type": "code",
      "source": [
        "import statistics\n",
        "\n",
        "# Midpoints of class intervals\n",
        "x = [1, 2, 3, 4, 5, 6, 7]\n",
        "\n",
        "# Corresponding frequencies\n",
        "f = [2, 4, 4, 10, 7, 2, 1]\n",
        "\n",
        "# Calculate the mean\n",
        "mean = sum(x_i * f_i for x_i, f_i in zip(x, f)) / sum(f)\n",
        "print(f\"Mean: {mean:.2f}\")\n",
        "\n",
        "# Calculate the median using the median_grouped function\n",
        "# The interval is assumed to be 1, as the class width is 1\n",
        "median = statistics.median_grouped(x, interval=1)\n",
        "print(f\"Median: {median:.2f}\")\n",
        "\n",
        "# Calculate the mode\n",
        "mode = statistics.mode(x)\n",
        "print(f\"Mode: {mode}\")"
      ],
      "metadata": {
        "colab": {
          "base_uri": "https://localhost:8080/"
        },
        "id": "xNnqyk3HOvW2",
        "outputId": "715eb194-8051-4456-d40a-fb78d1cadf41"
      },
      "execution_count": null,
      "outputs": [
        {
          "output_type": "stream",
          "name": "stdout",
          "text": [
            "Mean: 3.87\n",
            "Median: 4.00\n",
            "Mode: 1\n"
          ]
        }
      ]
    },
    {
      "cell_type": "markdown",
      "source": [
        "14. Simulate data using Python and calculate its central tendency and dispersion."
      ],
      "metadata": {
        "id": "JF5IhEPQSYKg"
      }
    },
    {
      "cell_type": "code",
      "source": [
        "import numpy as np\n",
        "import matplotlib.pyplot as plt\n",
        "\n",
        "# Parameters\n",
        "mean = 100\n",
        "std_dev = 15\n",
        "size = 1000\n",
        "\n",
        "# Generate data\n",
        "data = np.random.normal(loc=mean, scale=std_dev, size=size)\n",
        "\n",
        "mean = np.mean(data)\n",
        "median = np.median(data)\n",
        "\n",
        "variance = np.var(data)\n",
        "std_deviation = np.std(data)\n",
        "\n",
        "# Display first few entries\n",
        "print(data[:10])\n",
        "\n",
        "# Calculate Central Tendency\n",
        "print(f\"Mean: {mean}\")\n",
        "print(f\"Median: {median}\")\n",
        "\n",
        "# Calculate Dispersion\n",
        "print(f\"Variance: {variance}\")\n",
        "print(f\"Standard Deviation: {std_deviation}\")\n",
        "\n",
        "# Visualize the Distribution\n",
        "plt.hist(data, bins=30, edgecolor='black')\n",
        "plt.title('Histogram of Simulated Data')\n",
        "plt.xlabel('Value')\n",
        "plt.ylabel('Frequency')\n",
        "plt.show()"
      ],
      "metadata": {
        "colab": {
          "base_uri": "https://localhost:8080/",
          "height": 576
        },
        "id": "sNMHQ31aP5H8",
        "outputId": "41be8338-7f56-49a6-8460-475b3c6a5865"
      },
      "execution_count": 4,
      "outputs": [
        {
          "output_type": "stream",
          "name": "stdout",
          "text": [
            "[ 71.38288663  87.09422484  93.795917   128.31531486 108.34829687\n",
            "  79.96777646 107.29054434  76.79044017 116.24036581  92.93313022]\n",
            "Mean: 99.71921173319842\n",
            "Median: 100.0027685975928\n",
            "Variance: 237.13790030542884\n",
            "Standard Deviation: 15.399282460732671\n"
          ]
        },
        {
          "output_type": "display_data",
          "data": {
            "text/plain": [
              "<Figure size 640x480 with 1 Axes>"
            ],
            "image/png": "[encoded data removed]"
          },
          "metadata": {}
        }
      ]
    },
    {
      "cell_type": "markdown",
      "source": [
        "15.  Use NumPy or pandas to summarize a dataset’s descriptive statistics."
      ],
      "metadata": {
        "id": "edZNCIe5ScwY"
      }
    },
    {
      "cell_type": "code",
      "source": [
        "import numpy as np\n",
        "import pandas as pd\n",
        "\n",
        "# Set seed for reproducibility\n",
        "np.random.seed(42)\n",
        "\n",
        "# Generate 1000 random values from a normal distribution\n",
        "data = np.random.normal(loc=50, scale=5, size=1000)\n",
        "\n",
        "# Create a pandas DataFrame\n",
        "df = pd.DataFrame(data, columns=['Value'])\n",
        "\n",
        "# Calculate central tendency using pandas\n",
        "mean = df['Value'].mean()\n",
        "median = df['Value'].median()\n",
        "\n",
        "# Calculate dispersion using pandas\n",
        "variance = df['Value'].var()\n",
        "std_dev = df['Value'].std()\n",
        "\n",
        "# Display the results\n",
        "print(f\"Mean: {mean:.2f}\")\n",
        "print(f\"Median: {median:.2f}\")\n",
        "print(f\"Variance: {variance:.2f}\")\n",
        "print(f\"Standard Deviation: {std_dev:.2f}\")"
      ],
      "metadata": {
        "colab": {
          "base_uri": "https://localhost:8080/"
        },
        "id": "K_ShJi2MQlrc",
        "outputId": "1d10dfe0-cf42-467c-a44b-a0008434d081"
      },
      "execution_count": null,
      "outputs": [
        {
          "output_type": "stream",
          "name": "stdout",
          "text": [
            "Mean: 50.10\n",
            "Median: 50.13\n",
            "Variance: 23.97\n",
            "Standard Deviation: 4.90\n"
          ]
        }
      ]
    },
    {
      "cell_type": "markdown",
      "source": [
        "16. Plot a boxplot to understand the spread and identify outliers."
      ],
      "metadata": {
        "id": "VKpARoP5Sgx4"
      }
    },
    {
      "cell_type": "code",
      "source": [
        "import numpy as np\n",
        "import pandas as pd\n",
        "import matplotlib.pyplot as plt\n",
        "import seaborn as sns\n",
        "\n",
        "# Set seed for reproducibility\n",
        "np.random.seed(42)\n",
        "\n",
        "# Generate 1000 random values from a normal distribution\n",
        "data = np.random.normal(loc=50, scale=5, size=1000)\n",
        "\n",
        "# Introduce some outliers\n",
        "outliers = np.random.uniform(low=70, high=90, size=10)\n",
        "data_with_outliers = np.concatenate([data, outliers])\n",
        "\n",
        "# Create a pandas DataFrame\n",
        "df = pd.DataFrame(data_with_outliers, columns=['Value'])\n",
        "\n",
        "# Plotting the boxplot\n",
        "plt.figure(figsize=(10, 6))\n",
        "sns.boxplot(x=df['Value'])\n",
        "plt.title('Boxplot of Simulated Data with Outliers')\n",
        "plt.xlabel('Value')\n",
        "plt.show()"
      ],
      "metadata": {
        "colab": {
          "base_uri": "https://localhost:8080/",
          "height": 564
        },
        "id": "MZLtXdQqQuWr",
        "outputId": "336e693f-96dc-4834-be2d-134e65994f03"
      },
      "execution_count": null,
      "outputs": [
        {
          "output_type": "display_data",
          "data": {
            "text/plain": [
              "<Figure size 1000x600 with 1 Axes>"
            ],
            "image/png": "[encoded data removed]"
          },
          "metadata": {}
        }
      ]
    },
    {
      "cell_type": "markdown",
      "source": [
        "17.  Calculate the interquartile range (IQR) of a dataset."
      ],
      "metadata": {
        "id": "ggWYg0XvSkvx"
      }
    },
    {
      "cell_type": "code",
      "source": [
        "import numpy as np\n",
        "\n",
        "# Sample dataset\n",
        "data = np.array([1, 2, 3, 4, 5, 6, 7, 8, 9, 10])\n",
        "\n",
        "# Calculate IQR\n",
        "q1 = np.percentile(data, 25)\n",
        "q3 = np.percentile(data, 75)\n",
        "iqr = q3 - q1\n",
        "\n",
        "print(f\"Interquartile Range (IQR): {iqr}\")"
      ],
      "metadata": {
        "colab": {
          "base_uri": "https://localhost:8080/"
        },
        "id": "A1SnYRlKQ3JL",
        "outputId": "dc40acc7-ea23-4897-8f45-d439d5711783"
      },
      "execution_count": null,
      "outputs": [
        {
          "output_type": "stream",
          "name": "stdout",
          "text": [
            "Interquartile Range (IQR): 4.5\n"
          ]
        }
      ]
    },
    {
      "cell_type": "markdown",
      "source": [
        "18.  Implement Z-score normalization and explain its significance."
      ],
      "metadata": {
        "id": "G0nZ56iRSokP"
      }
    },
    {
      "cell_type": "code",
      "source": [
        "import numpy as np\n",
        "import pandas as pd\n",
        "\n",
        "# Sample dataset\n",
        "data = pd.Series([10, 20, 30, 40, 50])\n",
        "\n",
        "# Calculate mean and standard deviation\n",
        "mean = data.mean()\n",
        "std_dev = data.std()\n",
        "\n",
        "# Apply Z-score normalization\n",
        "z_scores = (data - mean) / std_dev\n",
        "\n",
        "print(\"Original Data:\\n\", data)\n",
        "print(\"\\nZ-Scores:\\n\", z_scores)"
      ],
      "metadata": {
        "colab": {
          "base_uri": "https://localhost:8080/"
        },
        "id": "GjSY38EQRLNL",
        "outputId": "d351d1e9-f7ff-407c-a830-98df0046704f"
      },
      "execution_count": null,
      "outputs": [
        {
          "output_type": "stream",
          "name": "stdout",
          "text": [
            "Original Data:\n",
            " 0    10\n",
            "1    20\n",
            "2    30\n",
            "3    40\n",
            "4    50\n",
            "dtype: int64\n",
            "\n",
            "Z-Scores:\n",
            " 0   -1.264911\n",
            "1   -0.632456\n",
            "2    0.000000\n",
            "3    0.632456\n",
            "4    1.264911\n",
            "dtype: float64\n"
          ]
        }
      ]
    },
    {
      "cell_type": "markdown",
      "source": [
        "19. Compare two datasets using their standard deviations."
      ],
      "metadata": {
        "id": "Ea4CQxdVSs8Q"
      }
    },
    {
      "cell_type": "code",
      "source": [
        "import numpy as np\n",
        "\n",
        "# Datasets\n",
        "data1 = np.array([10, 20, 30, 40, 50])\n",
        "data2 = np.array([15, 25, 35, 45, 55])\n",
        "\n",
        "# Calculate standard deviations\n",
        "std_dev1 = np.std(data1)\n",
        "std_dev2 = np.std(data2)\n",
        "\n",
        "print(f\"Standard Deviation of Dataset 1: {std_dev1}\")\n",
        "print(f\"Standard Deviation of Dataset 2: {std_dev2}\")"
      ],
      "metadata": {
        "colab": {
          "base_uri": "https://localhost:8080/"
        },
        "id": "3zyWKBPtRlaj",
        "outputId": "45a4b9eb-d228-4b6a-fdca-faacba84750c"
      },
      "execution_count": null,
      "outputs": [
        {
          "output_type": "stream",
          "name": "stdout",
          "text": [
            "Standard Deviation of Dataset 1: 14.142135623730951\n",
            "Standard Deviation of Dataset 2: 14.142135623730951\n"
          ]
        }
      ]
    },
    {
      "cell_type": "markdown",
      "source": [
        "20. Write a Python program to visualize covariance using a heatmap."
      ],
      "metadata": {
        "id": "CcyJcWj_Sw6P"
      }
    },
    {
      "cell_type": "code",
      "source": [
        "import seaborn as sns\n",
        "import matplotlib.pyplot as plt\n",
        "import pandas as pd\n",
        "import numpy as np\n",
        "\n",
        "# Sample dataset\n",
        "data = pd.DataFrame({\n",
        "    'A': np.random.normal(0, 1, 100),\n",
        "    'B': np.random.normal(0, 1, 100),\n",
        "    'C': np.random.normal(0, 1, 100)\n",
        "})\n",
        "\n",
        "# Compute the covariance matrix\n",
        "cov_matrix = data.cov()\n",
        "\n",
        "# Create the heatmap\n",
        "plt.figure(figsize=(8, 6))\n",
        "sns.heatmap(cov_matrix, annot=True, cmap='coolwarm', fmt='.2f', linewidths=0.5)\n",
        "plt.title('Covariance Matrix Heatmap')\n",
        "plt.show()"
      ],
      "metadata": {
        "colab": {
          "base_uri": "https://localhost:8080/",
          "height": 545
        },
        "id": "2DREWs7XSDIS",
        "outputId": "5a4c3003-868b-4643-95df-2c3811641348"
      },
      "execution_count": null,
      "outputs": [
        {
          "output_type": "display_data",
          "data": {
            "text/plain": [
              "<Figure size 800x600 with 2 Axes>"
            ],
            "image/png": "[encoded data removed]"
          },
          "metadata": {}
        }
      ]
    },
    {
      "cell_type": "markdown",
      "source": [
        "21. Use seaborn to create a correlation matrix for a dataset."
      ],
      "metadata": {
        "id": "jdnF4kEPS1UX"
      }
    },
    {
      "cell_type": "code",
      "source": [
        "import numpy as np\n",
        "import pandas as pd\n",
        "import seaborn as sns\n",
        "import matplotlib.pyplot as plt\n",
        "\n",
        "# Step 1: Simulate Data\n",
        "np.random.seed(42)  # For reproducibility\n",
        "data = np.random.randn(1000, 5)  # 1000 samples, 5 variables\n",
        "columns = ['A', 'B', 'C', 'D', 'E']\n",
        "df = pd.DataFrame(data, columns=columns)\n",
        "\n",
        "# Step 2: Compute Correlation Matrix\n",
        "corr_matrix = df.corr()\n",
        "\n",
        "# Step 3: Create Mask for Upper Triangle\n",
        "mask = np.triu(np.ones_like(corr_matrix, dtype=bool))\n",
        "\n",
        "# Step 4: Plot Correlation Heatmap\n",
        "plt.figure(figsize=(8, 6))\n",
        "sns.heatmap(corr_matrix, annot=True, cmap='coolwarm', fmt='.2f', mask=mask, linewidths=0.5, cbar_kws={'shrink': 0.8})\n",
        "plt.title('Correlation Matrix Heatmap')\n",
        "plt.show()"
      ],
      "metadata": {
        "colab": {
          "base_uri": "https://localhost:8080/",
          "height": 545
        },
        "id": "f3BbV_M_mvj5",
        "outputId": "7720c2a0-1e42-4c63-8831-2b4f27e83170"
      },
      "execution_count": 12,
      "outputs": [
        {
          "output_type": "display_data",
          "data": {
            "text/plain": [
              "<Figure size 800x600 with 2 Axes>"
            ],
            "image/png": "[encoded data removed]"
          },
          "metadata": {}
        }
      ]
    },
    {
      "cell_type": "markdown",
      "source": [
        "22. Generate a dataset and implement both variance and standard deviation computations."
      ],
      "metadata": {
        "id": "Yuqy7h2eS4-3"
      }
    },
    {
      "cell_type": "code",
      "source": [
        "import numpy as np\n",
        "\n",
        "data = np.random.normal(loc=50, scale=10, size=100)\n",
        "\n",
        "variance = np.var(data)\n",
        "print(f\"Population Variance: {variance}\")\n",
        "\n",
        "std_deviation = np.std(data)\n",
        "print(f\"Population Standard Deviation: {std_deviation}\")"
      ],
      "metadata": {
        "colab": {
          "base_uri": "https://localhost:8080/"
        },
        "id": "w5_9InoGS67C",
        "outputId": "7dea8441-2d8e-44b4-fba5-0c7f14519c1a"
      },
      "execution_count": 13,
      "outputs": [
        {
          "output_type": "stream",
          "name": "stdout",
          "text": [
            "Population Variance: 101.05824476972504\n",
            "Population Standard Deviation: 10.052772989067496\n"
          ]
        }
      ]
    },
    {
      "cell_type": "markdown",
      "source": [
        "23. Visualize skewness and kurtosis using Python libraries like matplotlib or seaborn."
      ],
      "metadata": {
        "id": "y8Fop5cCS8wB"
      }
    },
    {
      "cell_type": "code",
      "source": [
        "import numpy as np\n",
        "import seaborn as sns\n",
        "import matplotlib.pyplot as plt\n",
        "from scipy.stats import skew, kurtosis\n",
        "\n",
        "np.random.seed(0)\n",
        "data = np.random.normal(loc=0, scale=1, size=1000)\n",
        "\n",
        "data_skewness = skew(data)\n",
        "data_kurtosis = kurtosis(data)\n",
        "print(f\"Skewness: {data_skewness}\")\n",
        "print(f\"Kurtosis: {data_kurtosis}\")\n",
        "\n",
        "sns.histplot(data, kde=True, bins=30)\n",
        "plt.title(f\"Distribution\\nSkewness: {data_skewness:.2f}, Kurtosis: {data_kurtosis:.2f}\")\n",
        "plt.show()"
      ],
      "metadata": {
        "colab": {
          "base_uri": "https://localhost:8080/",
          "height": 508
        },
        "id": "TgBSWcXhTKZy",
        "outputId": "89bed25d-3ece-4724-abe4-790e71d05138"
      },
      "execution_count": null,
      "outputs": [
        {
          "output_type": "stream",
          "name": "stdout",
          "text": [
            "Skewness: 0.03385895323565712\n",
            "Kurtosis: -0.0467663244783294\n"
          ]
        },
        {
          "output_type": "display_data",
          "data": {
            "text/plain": [
              "<Figure size 640x480 with 1 Axes>"
            ],
            "image/png": "[encoded data removed]"
          },
          "metadata": {}
        }
      ]
    },
    {
      "cell_type": "markdown",
      "source": [
        "24.  Implement the Pearson and Spearman correlation coefficients for a dataset."
      ],
      "metadata": {
        "id": "oP9xslMJTBUo"
      }
    },
    {
      "cell_type": "code",
      "execution_count": null,
      "metadata": {
        "id": "oqH8IH03ParG",
        "colab": {
          "base_uri": "https://localhost:8080/",
          "height": 620
        },
        "outputId": "84c1c309-b1a2-4351-9a56-491823e6edb6"
      },
      "outputs": [
        {
          "output_type": "stream",
          "name": "stdout",
          "text": [
            "Pearson Correlation: 0.969\n",
            "Spearman Correlation: 0.966\n"
          ]
        },
        {
          "output_type": "display_data",
          "data": {
            "text/plain": [
              "<Figure size 800x600 with 1 Axes>"
            ],
            "image/png": "[encoded data removed]"
          },
          "metadata": {}
        }
      ],
      "source": [
        "import numpy as np\n",
        "import pandas as pd\n",
        "import seaborn as sns\n",
        "import matplotlib.pyplot as plt\n",
        "from scipy.stats import pearsonr, spearmanr\n",
        "\n",
        "np.random.seed(42)\n",
        "x = np.random.normal(0, 1, 1000)\n",
        "y = 2 * x + np.random.normal(0, 0.5, 1000)  # Linear relationship with noise\n",
        "\n",
        "pearson_corr, _ = pearsonr(x, y)\n",
        "print(f\"Pearson Correlation: {pearson_corr:.3f}\")\n",
        "\n",
        "spearman_corr, _ = spearmanr(x, y)\n",
        "print(f\"Spearman Correlation: {spearman_corr:.3f}\")\n",
        "\n",
        "plt.figure(figsize=(8, 6))\n",
        "sns.regplot(x=x, y=y, scatter_kws={'s': 10}, line_kws={'color': 'red'})\n",
        "plt.title(f\"Scatter Plot with Regression Line\\nPearson: {pearson_corr:.2f}, Spearman: {spearman_corr:.2f}\")\n",
        "plt.xlabel(\"X\")\n",
        "plt.ylabel(\"Y\")\n",
        "plt.show()"
      ]
    }
  ]
}